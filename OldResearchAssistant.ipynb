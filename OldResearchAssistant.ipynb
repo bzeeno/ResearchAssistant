{
 "cells": [
  {
   "cell_type": "markdown",
   "id": "c39a8769-abcf-4ace-bd0b-62d9e0bbcdbd",
   "metadata": {},
   "source": [
    "# Setup"
   ]
  },
  {
   "cell_type": "code",
   "execution_count": 73,
   "id": "54207c9d-e728-4d13-bd2d-d09e1f376de7",
   "metadata": {},
   "outputs": [],
   "source": [
    "import os\n",
    "import operator\n",
    "import re\n",
    "\n",
    "from langchain_anthropic import ChatAnthropic\n",
    "from langchain_openai import ChatOpenAI\n",
    "from langchain.prompts import ChatPromptTemplate\n",
    "from langchain_community.retrievers import WikipediaRetriever\n",
    "from langchain_core.runnables import chain as as_runnable\n",
    "from langchain_core.pydantic_v1 import BaseModel, Field\n",
    "from langchain_core.messages import AIMessage, HumanMessage, ToolMessage\n",
    "from langchain_core.prompts import MessagesPlaceholder\n",
    "from langchain_core.runnables import RunnableLambda\n",
    "\n",
    "import json\n",
    "from langchain_core.runnables import RunnableConfig\n",
    "\n",
    "from typing import List, Optional\n",
    "\n",
    "from typing import Annotated\n",
    "from langchain_core.messages import AnyMessage\n",
    "from typing_extensions import TypedDict\n",
    "from langgraph.graph import END, StateGraph, START"
   ]
  },
  {
   "cell_type": "code",
   "execution_count": 74,
   "id": "05fd5302-7cfd-4c29-b175-27c21c7aa1e4",
   "metadata": {},
   "outputs": [],
   "source": [
    "# Set API key\n",
    "api_key = os.environ[\"ANTHROPIC_API_KEY\"]\n",
    "openai_api_key = os.environ[\"OPENAI_API_KEY\"]\n",
    "\n",
    "# Initialize models. We'll use a smaller LLM for most of the work, but a large LLM to distill conversations and writing the final report\n",
    "fast_llm = ChatOpenAI(api_key=openai_api_key, model=\"gpt-4o-mini\")\n",
    "slow_llm = ChatAnthropic(api_key=api_key, model=\"claude-3-5-sonnet-20240620\")"
   ]
  },
  {
   "cell_type": "markdown",
   "id": "6acb56c0-c0e9-463f-b476-ec58c0a4b25a",
   "metadata": {},
   "source": [
    "# Generating the Outline"
   ]
  },
  {
   "cell_type": "markdown",
   "id": "9b91439e-629b-4886-a3f4-f38746268ffd",
   "metadata": {},
   "source": [
    "## Generate Conversations and Resources\n",
    "\n",
    "In this section we will fetch related articles and develop a set of personas based on the outlines of the fetched related articles. Once the personas have been created, we will then pass them one by one into a conversation cycle.\n",
    "\n",
    "In the conversation cycle, the persona will ask questions about the topic to an expert on the topic. The expert will take their questions, split it into search queries, then find resources online based on these queries. The expert will then sift through these, collect the trusted sources, and answer the question using these sources. The persona will read the response and ask another question until they have no more questions. The conversation will be saved for the creation of the final outline.\n",
    "\n",
    "Once all of the personas have conversed with the expert, we will have compiled a set of conversations and trusted resources to be used in the final outline.\n",
    "\n",
    "This section will be the bulk of the work."
   ]
  },
  {
   "cell_type": "markdown",
   "id": "51cbc22d-3bb7-497a-8fe9-1ce5256f5383",
   "metadata": {},
   "source": [
    "### Fetch Related Articles"
   ]
  },
  {
   "cell_type": "code",
   "execution_count": 75,
   "id": "77bbe73e-1e95-41f5-8131-504e3409192c",
   "metadata": {},
   "outputs": [],
   "source": [
    "class RelatedTopics(BaseModel):\n",
    "    topics: List[str] = Field(\n",
    "        description=\"List of related topics to help in generating personas.\",\n",
    "    )"
   ]
  },
  {
   "cell_type": "code",
   "execution_count": 76,
   "id": "735034cc-ddd4-42bd-a5e5-b646d1e5d63c",
   "metadata": {},
   "outputs": [],
   "source": [
    "related_topics_prompt = ChatPromptTemplate.from_template(\n",
    "\"\"\"I'm writing a Wikipedia page for the topic mentioned below. \n",
    "Please identify and recommend some related subjects that might be interesting. \n",
    "I'm looking for related subjects that provide insights into interesting aspects commonly associated with this topic.\n",
    "\n",
    "Feel free to list things that are only tangentially related\n",
    "\n",
    "Please list as many subjects as you can.\n",
    "\n",
    "Topic of interest: {topic}\n",
    "\n",
    "make sure to call the RelatedTopics function.\n",
    "\"\"\"\n",
    ")\n",
    "\n",
    "related_topics_chain = related_topics_prompt | fast_llm.with_structured_output(\n",
    "    RelatedTopics\n",
    ")"
   ]
  },
  {
   "cell_type": "code",
   "execution_count": 77,
   "id": "3f96c609-01ca-4566-8786-e1d2d686cb99",
   "metadata": {},
   "outputs": [
    {
     "data": {
      "text/plain": [
       "RelatedTopics(topics=['AI agents', 'economic impacts of AI', 'social impacts of AI', 'environmental impacts of AI', 'automation', 'machine learning', 'robotics', 'digital economy', 'job displacement', 'AI ethics', 'sustainability', 'technology adoption', 'data privacy', 'AI in healthcare', 'AI in education', 'smart cities', 'AI governance', 'future of work', 'AI and climate change', 'AI policy', 'AI and inequality'])"
      ]
     },
     "execution_count": 77,
     "metadata": {},
     "output_type": "execute_result"
    }
   ],
   "source": [
    "example_topic = \"AI agents and the potential economic, social, and environmental impacts.\"\n",
    "related_topics = await related_topics_chain.ainvoke({\"topic\": example_topic})\n",
    "related_topics"
   ]
  },
  {
   "cell_type": "code",
   "execution_count": 78,
   "id": "3f007691-af14-453d-b6b1-aecf64bb12e1",
   "metadata": {},
   "outputs": [],
   "source": [
    "# Get related articles with wikipedia retriever\n",
    "wikipedia_retriever = WikipediaRetriever(load_all_available_meta=True, top_k_results=1)\n",
    "\n",
    "@as_runnable\n",
    "async def getRelatedArticles(topic: str) -> List[str]:\n",
    "    related_topics = await related_topics_chain.ainvoke({\"topic\": topic})\n",
    "    related_articles = await wikipedia_retriever.abatch(related_topics.topics, return_exceptions=True)\n",
    "    return formatArticles(related_articles)\n",
    "\n",
    "def formatArticles(unformattedArticles: List[str]) -> List[str]:\n",
    "    formatted_articles = []\n",
    "    for doc in unformattedArticles:\n",
    "        article = doc[0]\n",
    "        if isinstance(article, BaseException):\n",
    "            continue\n",
    "        # formatted_article = \"\\n\\n\" + \"Title: \" + article.metadata[\"title\"] + \"\\n\" + \"\\nCategories: \" + \", \".join(article.metadata[\"categories\"])\n",
    "        formatted_article = \"\\n\\n\" + \"Title: \" + article.metadata[\"title\"] + \"\\n\" + \"Summary:\\n\" + article.metadata[\"summary\"] + \"\\nCategories: \" + \", \".join(article.metadata[\"categories\"])\n",
    "        formatted_articles.append(formatted_article)\n",
    "    return formatted_articles"
   ]
  },
  {
   "cell_type": "code",
   "execution_count": 79,
   "id": "97e6397a-0d94-4752-b212-9ec683b2c16a",
   "metadata": {},
   "outputs": [],
   "source": [
    "related_articles = await getRelatedArticles.ainvoke(related_topics)"
   ]
  },
  {
   "cell_type": "code",
   "execution_count": 80,
   "id": "8dab93fa-17f2-4d0f-a771-09c80b09ef92",
   "metadata": {},
   "outputs": [
    {
     "data": {
      "text/plain": [
       "['\\n\\nTitle: Intelligent agent\\nSummary:\\nIn intelligence and artificial intelligence, an intelligent agent (IA) is an agent that perceives its environment, takes actions autonomously in order to achieve goals, and may improve its performance with learning or acquiring knowledge. An intelligent agent may be simple or complex: A thermostat or other control system is considered an example of an intelligent agent, as is a human being, as is any system that meets the definition, such as a firm, a state, or a biome.\\n\\nLeading AI textbooks define \"artificial intelligence\" as the \"study and design of intelligent agents\", a definition that considers goal-directed behavior to be the essence of intelligence. Goal-directed agents are also described using a term borrowed from economics, \"rational agent\".\\nAn agent has an \"objective function\" that encapsulates all the IA\\'s goals. Such an agent is designed to create and execute whatever plan will, upon completion, maximize the expected value of the objective function. For example, a reinforcement learning agent has a \"reward function\" that allows the programmers to shape the IA\\'s desired behavior, and an evolutionary algorithm\\'s behavior is shaped by a \"fitness function\". \\nIntelligent agents in artificial intelligence are closely related to agents in economics, and versions of the intelligent agent paradigm are studied in cognitive science, ethics, and the philosophy of practical reason, as well as in many interdisciplinary socio-cognitive modeling and computer social simulations.\\nIntelligent agents are often described schematically as an abstract functional system similar to a computer program. Abstract descriptions of intelligent agents are called abstract intelligent agents (AIA) to distinguish them from their real-world implementations. An autonomous intelligent agent is designed to function in the absence of human intervention. Intelligent agents are also closely related to software agents (an autonomous computer program that carries out tasks on behalf of users).\\n\\n\\nCategories: All Wikipedia neutral point of view disputes, All articles that may contain original research, Articles that may contain original research from February 2023, Articles with BNF identifiers, Articles with BNFdata identifiers, Articles with J9U identifiers, Articles with LCCN identifiers, Articles with short description, Artificial intelligence, Short description matches Wikidata, Wikipedia neutral point of view disputes from September 2023',\n",
       " '\\n\\nTitle: Economic impact analysis\\nSummary:\\nAn economic impact analysis (EIA) examines the effect of an event on the economy in a specified area, ranging from a single neighborhood to the entire globe. It usually measures changes in business revenue, business profits, personal wages, and/or jobs.  The economic event analyzed can include implementation of a new policy or project, or may simply be the presence of a business or organization.  An economic impact analysis is commonly conducted when there is public concern about the potential impacts of a proposed project or policy.\\nAn economic impact analysis typically measures or estimates the change in economic activity between two scenarios, one assuming the economic event occurs, and one assuming it does not occur (which is referred to as the counterfactual case).  This can be accomplished either before or after the event (ex ante or ex post).\\nAn economic impact analysis attempts to measure or estimate the change in economic activity in a specified region, caused by a specific business, organization, policy, program, project, activity, or other economic event.  The study region can be a neighborhood, town, city, county, statistical area, state, country, continent, or the entire globe.\\nCategories: Articles with excerpts, Articles with short description, CS1 errors: missing periodical, Economics, Evaluation methods, Short description matches Wikidata, Webarchive template wayback links',\n",
       " '\\n\\nTitle: Technological singularity\\nSummary:\\nThe technological singularity—or simply the singularity—is a hypothetical future point in time at which technological growth becomes uncontrollable and irreversible, resulting in unforeseeable consequences for Human civilization. According to the most popular version of the singularity hypothesis, I. J. Good\\'s intelligence explosion model of 1965, an upgradable intelligent agent could eventually enter a positive feedback loop of self-improvement cycles, each successive; and more intelligent generation appearing more and more rapidly, causing a rapid increase (\"explosion\") in intelligence which would ultimately result in a powerful superintelligence, qualitatively far surpassing all human intelligence.\\nThe Hungarian-American mathematician John von Neumann (1903-1957) became the first known person to use the concept of a \"singularity\" in the technological context. Stanislaw Ulam reported in 1958 an earlier discussion with von Neumann \"centered on the accelerating progress of technology and changes in human life, which gives the appearance of approaching some essential singularity in the history of the race beyond which human affairs, as we know them, could not continue\". Subsequent authors have echoed this viewpoint.\\nThe concept and the term \"singularity\" were popularized by Vernor Vinge – first in 1983 (in an article that claimed that once humans create intelligences greater than their own, there will be a technological and social transition similar in some sense to \"the knotted space-time at the center of a black hole\",) and later in his 1993 essay The Coming Technological Singularity, (in which he wrote that it would signal the end of the human era, as the new superintelligence would continue to upgrade itself and would advance technologically at an incomprehensible rate). He wrote that he would be surprised if it occurred before 2005 or after 2030. Another significant contributor to wider circulation of the notion was Ray Kurzweil\\'s 2005 book The Singularity Is Near, predicting singularity by 2045.\\nSome scientists, including Stephen Hawking, have expressed concern that artificial superintelligence (ASI) could result in human extinction. The consequences of a technological singularity and its potential benefit or harm to the human race have been intensely debated.\\nSome prominent technologists and academics – including Paul Allen, Jeff Hawkins, John Holland, Jaron Lanier, Steven Pinker, Theodore Modis, and Gordon Moore – dispute the plausibility of a technological singularity and an associated artificial-intelligence explosion. One claim made was that the artificial-intelligence growth is likely to run into decreasing returns instead of accelerating ones, as was observed in previously developed human technologies.\\nCategories: All articles that may have off-topic sections, All articles with unsourced statements, Articles with hAudio microformats, Articles with short description, Articles with unsourced statements from April 2018, Articles with unsourced statements from July 2012, Articles with unsourced statements from July 2017, Articles with unsourced statements from May 2024, CS1: long volume value, Existential risk from artificial general intelligence, Harv and Sfn no-target errors, IMDb title ID not in Wikidata, Pages displaying wikidata descriptions as a fallback via Module:Annotated link, Philosophy of artificial intelligence, Science fiction themes, Short description is different from Wikidata, Singularitarianism, Spoken articles, Use dmy dates from March 2023, Webarchive template wayback links, Wikipedia articles needing clarification from March 2024, Wikipedia articles needing factual verification from May 2024, Wikipedia articles that may have off-topic sections from October 2021',\n",
       " '\\n\\nTitle: Environmental impacts of artificial intelligence\\nSummary:\\nThe environmental impacts of artificial intelligence (AI) may vary significantly. Many deep learning methods have significant carbon footprints and water usage. Some scientists have suggested that artificial intelligence may provide solutions to environmental problems.\\n\\n\\nCategories: Articles with short description, Artificial intelligence, Human impact on the environment, Short description with empty Wikidata description, Use dmy dates from July 2024',\n",
       " \"\\n\\nTitle: Automation\\nSummary:\\nAutomation describes a wide range of technologies that reduce human intervention in processes, mainly by predetermining decision criteria, subprocess relationships, and related actions, as well as embodying those predeterminations in machines. Automation has been achieved by various means including mechanical, hydraulic, pneumatic, electrical, electronic devices, and computers, usually in combination. Complicated systems, such as modern factories, airplanes, and ships typically use combinations of all of these techniques. The benefit of automation includes labor savings, reducing waste, savings in electricity costs, savings in material costs, and improvements to quality, accuracy, and precision.\\nAutomation includes the use of various equipment and control systems such as machinery, processes in factories, boilers, and heat-treating ovens, switching on telephone networks, steering, stabilization of ships, aircraft and other applications and vehicles with reduced human intervention. Examples range from a household thermostat controlling a boiler to a large industrial control system with tens of thousands of input measurements and output control signals. Automation has also found a home in the banking industry. It can range from simple on-off control to multi-variable high-level algorithms in terms of control complexity.\\nIn the simplest type of an automatic control loop, a controller compares a measured value of a process with a desired set value and processes the resulting error signal to change some input to the process, in such a way that the process stays at its set point despite disturbances. This closed-loop control is an application of negative feedback to a system. The mathematical basis of control theory was begun in the 18th century and advanced rapidly in the 20th. The term automation, inspired by the earlier word automatic (coming from automaton), was not widely used before 1947, when Ford established an automation department. It was during this time that the industry was rapidly adopting feedback controllers, which were introduced in the 1930s.\\nThe World Bank's World Development Report of 2019 shows evidence that the new industries and jobs in the technology sector outweigh the economic effects of workers being displaced by automation. Job losses and downward mobility blamed on automation have been cited as one of many factors in the resurgence of nationalist, protectionist and populist politics in the US, UK and France, among other countries since the 2010s.\\nCategories: All accuracy disputes, All articles needing additional references, All articles that may contain original research, All articles with unsourced statements, Articles containing video clips, Articles needing additional references from May 2019, Articles that may contain original research from March 2018, Articles with BNE identifiers, Articles with BNF identifiers, Articles with BNFdata identifiers, Articles with GND identifiers, Articles with J9U identifiers, Articles with LCCN identifiers, Articles with NDL identifiers, Articles with NKC identifiers, Articles with disputed statements from October 2013, Articles with excerpts, Articles with short description, Articles with unsourced statements from June 2024, Articles with unsourced statements from May 2021, Articles with unsourced statements from October 2013, Articles with unsourced statements from September 2017, Automation, CS1 French-language sources (fr), CS1 German-language sources (de), CS1 maint: DOI inactive as of July 2024, Free-content attribution, Free content from FAO, Pages using Sister project links with default search, Pages using Sister project links with wikidata namespace mismatch, Short description is different from Wikidata, Use dmy dates from July 2020, Webarchive template wayback links, Wikipedia further reading cleanup, Wikipedia spam cleanup from March 2023\",\n",
       " \"\\n\\nTitle: Machine learning\\nSummary:\\nMachine learning (ML) is a field of study in artificial intelligence concerned with the development and study of statistical algorithms that can learn from data and generalize to unseen data and thus perform tasks without explicit instructions. Recently, artificial neural networks have been able to surpass many previous approaches in performance.\\nML finds application in many fields, including natural language processing, computer vision, speech recognition, email filtering, agriculture, and medicine. When applied to business problems, it is known under the name predictive analytics. Although not all machine learning is statistically based, computational statistics is an important source of the field's methods.\\nThe mathematical foundations of ML are provided by mathematical optimization (mathematical programming) methods. Data mining is a related (parallel) field of study, focusing on exploratory data analysis (EDA) through unsupervised learning. \\nFrom a theoretical viewpoint, probably approximately correct (PAC) learning provides a framework for describing machine learning.\\nCategories: Articles with GND identifiers, Articles with J9U identifiers, Articles with LCCN identifiers, Articles with NDL identifiers, Articles with NKC identifiers, Articles with excerpts, Articles with short description, Commons category link from Wikidata, Cybernetics, Learning, Machine learning, Short description is different from Wikidata, Webarchive template wayback links, Wikipedia articles needing clarification from January 2024\",\n",
       " '\\n\\nTitle: Robotics\\nSummary:\\nRobotics is the interdisciplinary study and practice of the design, construction, operation, and use of robots.\\nWithin mechanical engineering, robotics is the design and construction of the physical structures of robots, while in computer science, robotics focuses on robotic automation algorithms. Other disciplines contributing to robotics include electrical, control, software, information, electronic, telecommunication, computer, mechatronic, and materials engineering. \\n\\nThe goal of most robotics is to design machines that can help and assist humans. Many robots are built to do jobs that are hazardous to people, such as finding survivors in unstable ruins, and exploring space, mines and shipwrecks. Others replace people in jobs that are boring, repetitive, or unpleasant, such as cleaning, monitoring, transporting, and assembling. Today, robotics is a rapidly growing field, as technological advances continue; researching, designing, and building new robots serve various practical purposes.\\n\\n\\nCategories: All Wikipedia neutral point of view disputes, All articles needing additional references, All articles with unsourced statements, Articles containing Chinese-language text, Articles needing additional references from July 2009, Articles with Curlie links, Articles with short description, Articles with unsourced statements from December 2011, Articles with unsourced statements from November 2022, CS1: long volume value, CS1 errors: periodical ignored, CS1 maint: multiple names: authors list, Coatrack articles, Pages using Sister project links with hidden wikidata, Robotics, Short description is different from Wikidata, Use dmy dates from April 2023, Webarchive template wayback links, Wikipedia indefinitely move-protected pages, Wikipedia neutral point of view disputes from August 2024',\n",
       " '\\n\\nTitle: Digital economy\\nSummary:\\nThe digital economy is a portmanteau of digital computing and economy, and is an umbrella term that describes how traditional brick-and-mortar economic activities (production, distribution, trade) are being transformed by the Internet and World Wide Web technologies.\\nThe digital economy is backed by the spread of information and communication technologies (ICT) across all business sectors to enhance productivity. A phenomenon referred to as the Internet of Things (IoT) is increasingly prevalent, as consumer products are embedded with digital services and devices.\\nAccording to the WEF, 70% of the global economy will be made up of digital technology over the next 10 years (from 2020 onwards). This is a trend accelerated by the COVID-19 pandemic and the tendency to go online. The future of work, especially since the COVID-19 pandemic, also contributed to the digital economy. More people are now working online, and with the increase of online activity that contributes to the global economy, companies that support the systems of the Internet are more profitable.\\n\\nDigital transformation of the economy alters conventional notions about how businesses are structured, how consumers obtain goods and services, and how states need to adapt to new regulatory challenges. The digital economy has the potential to shape economic interactions between states, businesses and individuals profoundly. The emergence of the digital economy has prompted new debates over privacy rights, competition, and taxation, with calls for national and transnational regulations of the digital economy.\\n\\n\\nCategories: All articles with dead external links, Articles with dead external links from February 2024, Articles with permanently dead external links, Articles with short description, CS1 French-language sources (fr), CS1 errors: missing periodical, CS1 maint: multiple names: authors list, CS1 maint: numeric names: authors list, Cashless society, E-commerce, Economic systems, Electronics industry, Information economy, Short description is different from Wikidata, Supply chain management, Use dmy dates from December 2021, Webarchive template wayback links',\n",
       " \"\\n\\nTitle: Knightscope\\nSummary:\\nKnightscope, Inc. is an American security camera and robotics company headquartered in Mountain View, California. Knightscope designs, builds and deploys robots called Autonomous Data Robots (ADRs) for use in monitoring people in malls, parking lots, neighborhoods and other public areas. Knightscope robots are fully autonomous using self-driving technology and are designed to alert police and security of incidents through sensors that detect weapons, read license plates and detect other suspicious activities.\\nKnightscope was founded in 2013, its founders stated that they were motivated to create autonomous security robots following the Sandy Hook School Shooting in 2012. Knightscope shipped their first robot in 2015. The company has four models of robots, designed for indoor, outdoor, and all terrain uses, as well as a model for stationary use. After several years of operation and several rounds of fundraising, primarily through equity crowdfunding, the company became public and launched an initial public offering (IPO) on January 27, 2022.\\nKnightscope is the most well known maker of fully autonomous security robots. Users of Knightscope robots have generally reported lower crime rates in the areas the robots were deployed, attributed mostly to physical deterrence by the robot's presence. Knightscope autonomous robots have raised concerns from critics over privacy and job displacement.\\nCategories: 2013 establishments in California, 2022 initial public offerings, All articles with unsourced statements, American companies established in 2013, Articles with short description, Articles with unsourced statements from May 2021, Commons category link is on Wikidata, Companies based in Mountain View, California, Companies listed on the Nasdaq, Official website different in Wikidata and Wikipedia, Rescue and protection robots, Robotics companies of the United States, Security equipment manufacturers, Security guards, Short description is different from Wikidata, Social robots, Technology companies established in 2013\",\n",
       " '\\n\\nTitle: Ethics of artificial intelligence\\nSummary:\\nThe ethics of artificial intelligence covers a broad range of topics within the field that are considered to have particular ethical stakes. This includes algorithmic biases, fairness, automated decision-making, accountability, privacy, and regulation. \\nIt also covers various emerging or potential future challenges such as machine ethics (how to make machines that behave ethically), lethal autonomous weapon systems, arms race dynamics, AI safety and alignment, technological unemployment, AI-enabled misinformation, how to treat certain AI systems if they have a moral status (AI welfare and rights), artificial superintelligence and existential risks. \\nSome application areas may also have particularly important ethical implications, like healthcare, education, criminal justice, or the military.\\n\\n\\nCategories: All accuracy disputes, All articles lacking reliable references, All articles with failed verification, All articles with unsourced statements, Articles lacking reliable references from January 2024, Articles with Russian-language sources (ru), Articles with disputed statements from April 2024, Articles with failed verification from November 2020, Articles with short description, Articles with unsourced statements from June 2024, Ethics of science and technology, Philosophy of artificial intelligence, Regulation of robots, Short description is different from Wikidata, Webarchive template wayback links',\n",
       " '\\n\\nTitle: Sustainability\\nSummary:\\nSustainability is a social goal for people to co-exist on Earth over a long period of time. Definitions of this term are disputed and have varied with literature, context, and time. Sustainability usually has three dimensions (or pillars): environmental, economic, and social. Many definitions emphasize the environmental dimension. This can include addressing key environmental problems, including climate change and biodiversity loss. The idea of sustainability can guide decisions at the global, national, organizational, and individual levels. A related concept is that of sustainable development, and the terms are often used to mean the same thing. UNESCO distinguishes the two like this: \"Sustainability is often thought of as a long-term goal (i.e. a more sustainable world), while sustainable development refers to the many processes and pathways to achieve it.\"\\nDetails around the economic dimension of sustainability are controversial. Scholars have discussed this under the concept of weak and strong sustainability. For example, there will always be tension between the ideas of \"welfare and prosperity for all\" and environmental conservation, so trade-offs are necessary. It would be desirable to find ways that separate economic growth from harming the environment. This means using fewer resources per unit of output even while growing the economy. This decoupling reduces the environmental impact of economic growth, such as pollution. Doing this is difficult. Some experts say there is no evidence that such a decoupling is happening at the required scale. \\nIt is challenging to measure sustainability as the concept is complex, contextual, and dynamic. Indicators have been developed to cover the environment, society, or the economy but there is no fixed definition of sustainability indicators. The metrics are evolving and include indicators, benchmarks and audits. They include sustainability standards and certification systems like Fairtrade and Organic. They also involve indices and accounting systems such as corporate sustainability reporting and Triple Bottom Line accounting. \\nIt is necessary to address many barriers to sustainability to achieve a sustainability transition.:\\u200a34\\u200a Some barriers arise from nature and its complexity while others are extrinsic to the concept of sustainability. For example, they can result from the dominant institutional frameworks in countries.\\nGlobal issues of sustainability are difficult to tackle as they need global solutions. Existing global organizations such as the UN and WTO are seen as inefficient in enforcing current global regulations. One reason for this is the lack of suitable sanctioning mechanisms.:\\u200a135–145\\u200a Governments are not the only sources of action for sustainability. For example, business groups have tried to integrate ecological concerns with economic activity, seeking sustainable business. Religious leaders have stressed the need for caring for nature and environmental stability. Individuals can also live more sustainably.\\nSome people have criticized the idea of sustainability. One point of criticism is that the concept is vague and only a buzzword. Another is that sustainability might be an impossible goal. Some experts have pointed out that \"no country is delivering what its citizens need without transgressing the biophysical planetary boundaries\".:\\u200a11\\u200a\\nCategories: All articles with unsourced statements, Articles with excerpts, Articles with short description, Articles with unsourced statements from June 2024, CS1 German-language sources (de), CS1 maint: numeric names: authors list, Economics of sustainability, Environmental social science concepts, Environmental terminology, Environmentalism, Human-Environment interaction, Pages using Sister project links with default search, Short description is different from Wikidata, Sustainability, Use dmy dates from July 2019, Webarchive template wayback links, Wikipedia articles needing page number citations from October 2019',\n",
       " '\\n\\nTitle: Technology adoption life cycle\\nSummary:\\nThe technology adoption lifecycle is a sociological model that describes the adoption or acceptance of a new product or innovation, according to the demographic and psychological characteristics of defined adopter groups. The process of adoption over time is typically illustrated as a classical normal distribution or \"bell curve\". The model calls the first group of people to use a new product \"innovators\", followed by \"early adopters\". Next come the \"early majority\" and \"late majority\", and the last group to eventually adopt a product are called \"laggards\" or \"phobics\". For example, a phobic may only use a cloud service when it is the only remaining method of performing a required task, but the phobic may not have an in-depth technical knowledge of how to use the service.\\nThe demographic and psychological (or \"psychographic\") profiles of each adoption group were originally specified by agricultural researchers in 1956:\\n\\ninnovators – had larger farms, were more educated, more prosperous and more risk-oriented\\nearly adopters – younger, more educated, tended to be community leaders, less prosperous\\nearly majority – more conservative but open to new ideas, active in community and influence to neighbors\\nlate majority – older, less educated, fairly conservative and less socially active\\nlaggards – very conservative, had small farms and capital, oldest and least educated\\nThe model has subsequently been adapted for many areas of technology adoption in the late 20th century, for example in the spread of policy innovations among U.S. states. \\n\\n\\nCategories: Articles with short description, Demographics, Diffusion, Innovation economics, Management cybernetics, Product development, Product lifecycle management, Product management, Science and technology studies, Short description is different from Wikidata, Sociology of culture, Technological change, Technology in society, Webarchive template wayback links',\n",
       " '\\n\\nTitle: Information privacy\\nSummary:\\nInformation privacy is the relationship between the collection and dissemination of data, technology, the public expectation of privacy, contextual information norms, and the legal and political issues surrounding them. It is also known as data privacy or data protection.\\nCategories: All Wikipedia articles in need of updating, All articles needing additional references, Articles containing French-language text, Articles needing additional references from July 2024, Articles with GND identifiers, Articles with J9U identifiers, Articles with LCCN identifiers, Articles with LNB identifiers, Articles with multiple maintenance issues, Articles with short description, CS1 maint: location missing publisher, CS1 maint: multiple names: authors list, CS1 maint: others, CS1 maint: unfit URL, Data laws, Data protection, Information privacy, Privacy, Short description is different from Wikidata, Webarchive template wayback links, Wikipedia articles in need of updating from July 2024',\n",
       " '\\n\\nTitle: Artificial intelligence in healthcare\\nSummary:\\nArtificial intelligence in healthcare is the application of artificial intelligence (AI) to copy human cognition in the analysis, presentation, and understanding of complex medical and health care data. It can also augment and exceed human capabilities by providing faster or new ways to diagnose, treat, or prevent disease. Using AI in healthcare has the potential improve predicting, diagnosing and treating diseases. Through machine learning algorithms and deep learning, AI can analyse large sets of clinical data and electronic health records and can help to diagnose the disease more quickly and precisely.\\nAI programs are applied to practices such as diagnostics, treatment protocol development, drug development, personalized medicine, and patient monitoring and care.\\nBecause radiographs are the most common imaging tests conducted in most radiology departments, the potential for AI to help with triage and interpretation of traditional radiographs (X-ray pictures) is particularly noteworthy.\\nAs widespread use of AI in healthcare is relatively new, research is ongoing into its application in various fields of medicine and related industries. \\nUsing AI also presents unprecedented ethical concerns related to issues such as data privacy, automation of jobs, and amplifying already existing biases. Furthermore, new technologies brought about by AI in healthcare are often resisted by healthcare leaders, leading to slow and erratic adoption.\\n\\n\\nCategories: Applications of artificial intelligence, Articles with excerpts, Articles with short description, Computing in medical imaging, Cybernetics, Health software, Medical devices, Short description is different from Wikidata, Webarchive template wayback links, Wikipedia articles needing page number citations from June 2019',\n",
       " '\\n\\nTitle: AI in education\\nSummary:\\nArtificial intelligence or Ai is a broad “skewer” term that has specific areas of study clustered next to it, including machine learning, natural language processing, the philosophy of artificial intelligence, autonomous robots and TESCREAL. Research about AI in higher education is widespread in the global north, where there is much hype from venture capital, big tech and some open educationalists. Some believe that Ai will remove the obstacle of \"access to expertise”. Others claim that education will be revolutionized with machines and their ability to understand natural language. While others are exploring how LLM’s “reasoning” might be improved.  There is at present, no scientific consensus on what Ai is or how to classify and sub-categorize AI This has not hampered the growth of  Ai systems which offer scholars and students automatic assessment and feedback, predictions, instant machine translations, on-demand proof-reading and copy editing, intelligent tutoring or virtual assistants.   Ai brings conversational coherence to the classroom, and automates the production of content.Using categorisation, summaries and dialogue, Ai \"intelligence\" or \"authority\" is reinforced through anthropomorphism and the Eliza effect. Ai also introduces hazards, such as skewed scientific knowledge dissemination and harmful educational practices.  Worries about AI safety risks such as privacy breaches, algorithmic biases, security concerns, ethics, and compliance barriers are accompanied by other doomsday warnings.\\n\\n\\nCategories: Applications of artificial intelligence, Articles with short description, Artificial intelligence, CS1 errors: generic name, Short description with empty Wikidata description',\n",
       " '\\n\\nTitle: Smart city\\nSummary:\\nA smart city is an urban area that has been developed with a high level of technological advancement, utilising a variety of electronic methods and sensors to collect specific data. This data is then used to manage assets, resources and services in an efficient manner, with the understanding that this data will in turn be used to improve operations across the city. This data can be collected from a number of sources, including citizens, devices, buildings and assets that is processed and analyzed in order to monitor and manage traffic and transportation systems, power plants, utilities, urban forestry, water supply networks, waste disposal, criminal investigations, information systems, schools, libraries, hospitals, and other community services. The term \\'smart city\\' is defined by two key aspects: the ways in which their local governments harness technology as well as in how they monitor, analyze, plan, and govern the city. In a smart city, the sharing of data is not confined to the municipal authority but extends to businesses, citizens and other third parties who can derive benefit from the utilisation of that data. The pooling of data from disparate systems and sectors creates opportunities for enhanced understanding and economic gain.\\nThe smart city concept integrates information and communication technology (ICT), and various physical devices connected to the Internet of things (IOT) network to optimize the efficiency of city operations and services and connect to citizens. Smart city technology allows city officials to interact directly with both community and city infrastructure and to monitor what is happening in the city and how the city is evolving. ICT is used to enhance quality, performance and interactivity of urban services, to reduce costs and resource consumption and to increase contact between citizens and government. Smart city applications are developed to manage urban flows and allow for real-time responses. A smart city may therefore be more prepared to respond to challenges than one with a conventional \"transactional\" relationship with its citizens. Yet, the term itself remains unclear in its specifics and therefore, open to many interpretations. Many cities have already adopted some sort of smart city technology.\\nSmart city initiatives have been criticized as largely driven by unreliable corporations, poorly adapted to residents\\' needs, as largely unsuccessful, and as a dangerous move toward totalitarian surveillance.\\nCategories: All articles needing copy edit, All articles with style issues, All articles with unsourced statements, Articles with short description, Articles with unsourced statements from July 2024, CS1 maint: location missing publisher, Commons category link from Wikidata, Government by algorithm, Harv and Sfn no-target errors, Short description is different from Wikidata, Smart cities, Urban planning in China, Urban studies and planning terminology, Use dmy dates from February 2019, Wikipedia articles needing clarification from July 2024, Wikipedia articles needing copy edit from July 2024, Wikipedia articles with style issues from July 2024',\n",
       " '\\n\\nTitle: Regulation of artificial intelligence\\nSummary:\\nRegulation of artificial intelligence is the development of public sector policies and laws for promoting and regulating artificial intelligence (AI). It is part of the broader regulation of algorithms. The regulatory and policy landscape for AI is an emerging issue in jurisdictions worldwide, including for international organizations without direct enforcement power like the IEEE or the OECD. \\nSince 2016, numerous AI ethics guidelines have been published in order to maintain social control over the technology. Regulation is deemed necessary to both foster AI innovation and manage associated risks. \\nFurthermore, organizations deploying AI have a central role to play in creating and implementing trustworthy AI, adhering to established principles, and taking accountability for mitigating risks. \\nRegulating AI through mechanisms such as review boards can also be seen as social means to approach the AI control problem.\\n\\n\\nCategories: All articles containing potentially dated statements, All articles needing additional references, Articles containing potentially dated statements from July 2023, Articles needing additional references from October 2023, Articles with excerpts, Articles with imported Creative Commons Attribution 4.0 text, Articles with short description, CS1 German-language sources (de), CS1 Spanish-language sources (es), Computer law, Existential risk from artificial general intelligence, Politics and technology, Regulation of artificial intelligence, Regulation of technologies, Short description is different from Wikidata',\n",
       " '\\n\\nTitle: The Future of Work and Death\\nSummary:\\nThe Future of Work and Death is a 2016 documentary by Sean Blacknell and Wayne Walsh about the exponential growth of technology.\\nThe film showed at several film festivals including Raindance Film Festival, International Film Festival Rotterdam, Academia Film Olomouc and CPH:DOX.\\nIn May 2017 it received an official screening at the European Commission. It was distributed by First Run Features and Journeyman Pictures and was released on iTunes, Amazon Prime and On-demand on 9 May 2017. The film was made available on Sundance Now on 27 November 2017. A companion piece to the film, The Cost of Living, a documentary concerning universal basic income in Britain, was released on Amazon Prime on 8 October 2020.\\nCategories: 2010s British films, 2010s English-language films, 2016 documentary films, 2016 films, Articles with short description, British independent films, Documentary films about technology, Futurology documentaries, Short description is different from Wikidata, Technological change, Template film date with 1 release date, Transhumanism, Works about automation',\n",
       " '\\n\\nTitle: The MANIAC\\nSummary:\\nThe MANIAC is a 2023 novel by Chilean author Benjamín Labatut, written in English. It is a fictionalised biography of polymath John von Neumann, whom Labatut calls \"the smartest human being of the 20th century\". The book focuses on von Neumann, but is also about physicist Paul Ehrenfest, history of artificial intelligence, and Lee Sedol\\'s Go match against AlphaGo. The book received mostly positive reviews from critics.\\nCategories: AlphaGo, Articles with short description, Books about scientists, John von Neumann, Short description matches Wikidata',\n",
       " '\\n\\nTitle: Executive Order 14110\\nSummary:\\nExecutive Order 14110, titled Executive Order on Safe, Secure, and Trustworthy Development and Use of Artificial Intelligence (sometimes referred to as \"Executive Order on Artificial Intelligence\") is the 126th executive order signed by U.S. President Joe Biden. Signed on October 30, 2023, the order defines the administration\\'s policy goals regarding artificial intelligence (AI), and orders executive agencies to take actions pursuant to these goals. The order is considered to be the most comprehensive piece of governance by the United States regarding AI. \\nPolicy goals outlined in the executive order pertain to promoting competition in the AI industry, preventing AI-enabled threats to civil liberties and national security, and ensuring U.S. global competitiveness in the AI field. The executive order requires a number of major federal agencies to create dedicated \"chief artificial intelligence officer\" (chief AI officer) positions within their organizations.\\nCategories: 2023 in American politics, All stub articles, Articles with short description, Executive orders of Joe Biden, Regulation of artificial intelligence, Short description matches Wikidata, United States law stubs',\n",
       " \"\\n\\nTitle: Markov's inequality\\nSummary:\\nIn probability theory, Markov's inequality gives an upper bound on the probability that a non-negative random variable is greater than or equal to some positive constant. Markov's inequality is tight in the sense that for each chosen positive constant, there exists a random variable such that the inequality is in fact an equality.\\nIt is named after the Russian mathematician Andrey Markov, although it appeared earlier in the work of Pafnuty Chebyshev (Markov's teacher), and many sources, especially in analysis, refer to it as Chebyshev's inequality (sometimes, calling it the first Chebyshev inequality, while referring to Chebyshev's inequality as the second Chebyshev inequality) or Bienaymé's inequality.\\nMarkov's inequality (and other similar inequalities) relate probabilities to expectations, and provide (frequently loose but still useful) bounds for the cumulative distribution function of a random variable. Markov's inequality can also be used to upper bound the expectation of a non-negative random variable in terms of its distribution function.\\nCategories: All articles needing additional references, Articles containing proofs, Articles needing additional references from September 2010, Articles with short description, Probabilistic inequalities, Short description is different from Wikidata\"]"
      ]
     },
     "execution_count": 80,
     "metadata": {},
     "output_type": "execute_result"
    }
   ],
   "source": [
    "related_articles"
   ]
  },
  {
   "cell_type": "markdown",
   "id": "6f8399c3-f8f2-43e6-b888-834467e7e58b",
   "metadata": {},
   "source": [
    "### Create Personas"
   ]
  },
  {
   "cell_type": "code",
   "execution_count": 81,
   "id": "0ab5d7d0-294a-4234-8d1e-c3fea187b6d4",
   "metadata": {},
   "outputs": [],
   "source": [
    "gen_perspectives_prompt = ChatPromptTemplate.from_messages(\n",
    "    [\n",
    "        (\n",
    "            \"system\",\n",
    "            \"\"\"You need to select a diverse (and distinct) group of wikipedia writers who will \n",
    "            work together to create a comprehensive article on the given topic.\n",
    "            Each of them represents a different perspective, role, or persona related to this topic.\\\n",
    "            You can use the provided related Wikipedia pages of related topics for inspiration. \n",
    "            For each writer, add a description of what they will focus on.\n",
    "\n",
    "            Make sure to call the WikiWriter function.\n",
    "\n",
    "            Wiki page outlines of related topics for inspiration:\n",
    "            {example_articles}\"\"\",\n",
    "        ),\n",
    "        (\"user\", \"Topic of interest: {topic}\"),\n",
    "    ])\n",
    "\n",
    "def sanitize_name(name):\n",
    "    return re.sub(r'[^a-zA-Z0-9_-]', '', name)\n",
    "\n",
    "class WikiWriter(BaseModel):\n",
    "    name: str = Field(\n",
    "        description=\"Name of the editor.\", pattern=r\"^[a-zA-Z0-9_-]{1,64}$\"\n",
    "    )\n",
    "    role: str = Field(\n",
    "        description=\"Role of the editor in the context of the topic.\",\n",
    "    )\n",
    "    description: str = Field(\n",
    "        description=\"Description of the editor's focus, concerns, and motives.\",\n",
    "    )\n",
    "\n",
    "    @property\n",
    "    def persona(self) -> str:\n",
    "        return f\"Name: {self.name}\\nRole: {self.role}\\nDescription: {self.description}\\n\"\n",
    "\n",
    "class Perspectives(BaseModel):\n",
    "    writers: List[WikiWriter] = Field(\n",
    "        description=\"Comprehensive list of editors with their roles and affiliations.\",\n",
    "        # Add a pydantic validation/restriction to be at most M editors\n",
    "    )"
   ]
  },
  {
   "cell_type": "code",
   "execution_count": 82,
   "id": "74814f69-f0bc-467d-afcb-c21ed49df45f",
   "metadata": {},
   "outputs": [],
   "source": [
    "perspectives_chain = gen_perspectives_prompt | fast_llm.with_structured_output(Perspectives)\n",
    "\n",
    "default_writer = WikiWriter(name = \"Default Writer\", \n",
    "                            role = \"Basic fact writer\",\n",
    "                            description = \"Basic fact writer focusing on broadly covering the basic facts about the topic.\")\n",
    "\n",
    "# Generate persepctives\n",
    "perspectives = await perspectives_chain.ainvoke({\"example_articles\": related_articles, \"topic\": example_topic})\n",
    "# Add default writer to beginning of list\n",
    "perspectives.writers.insert(0, default_writer)"
   ]
  },
  {
   "cell_type": "code",
   "execution_count": 83,
   "id": "75072d45-f1eb-4694-b645-664a1b7bb65a",
   "metadata": {},
   "outputs": [
    {
     "data": {
      "text/plain": [
       "[WikiWriter(name='Default Writer', role='Basic fact writer', description='Basic fact writer focusing on broadly covering the basic facts about the topic.'),\n",
       " WikiWriter(name='Dr. Alice Thompson', role='Economic Analyst', description='Dr. Thompson will focus on the economic implications of AI agents, exploring how they impact job markets, productivity, and business revenues. She will analyze both the positive and negative effects of automation on different economic sectors and the potential for AI to create new job opportunities.'),\n",
       " WikiWriter(name='Prof. John Reynolds', role='Sociologist', description=\"Prof. Reynolds will examine the social impacts of AI agents, particularly in relation to human interactions, community dynamics, and issues of inequality. He will address concerns about job displacement and the social fabric's response to increasing automation.\"),\n",
       " WikiWriter(name='Emma Green', role='Environmental Scientist', description='Emma will investigate the environmental effects of AI agents, such as their carbon footprint and potential to address climate change through efficient resource management. She will discuss both the benefits and drawbacks of AI in environmental sustainability.'),\n",
       " WikiWriter(name='Mike Chen', role='AI Ethics Specialist', description='Mike will focus on the ethical considerations surrounding AI agents, including algorithmic biases, accountability, and the implications of decision-making by autonomous systems. His insights will help frame the discussion on responsible AI development.'),\n",
       " WikiWriter(name='Sarah Lopez', role='Technology Advocate', description='Sarah will provide a perspective on the technological advancements that enable AI agents, highlighting innovations in machine learning, robotics, and their applications in various sectors. She will also discuss the potential for AI to improve quality of life.'),\n",
       " WikiWriter(name='Dr. Samuel Lee', role='Policy Maker', description='Dr. Lee will address the regulatory landscape for AI agents, discussing the need for policies that balance innovation with safety and ethical considerations. He will explore frameworks that can promote responsible and beneficial AI deployment.'),\n",
       " WikiWriter(name='Anna Patel', role='Business Strategist', description='Anna will focus on how businesses can leverage AI agents to enhance operational efficiency and competitiveness. She will provide case studies of successful AI integration in different industries and discuss future trends.')]"
      ]
     },
     "execution_count": 83,
     "metadata": {},
     "output_type": "execute_result"
    }
   ],
   "source": [
    "perspectives.writers"
   ]
  },
  {
   "cell_type": "markdown",
   "id": "a9c68247-f7d4-431d-a817-1295163229e4",
   "metadata": {},
   "source": [
    "### Converse With Expert"
   ]
  },
  {
   "cell_type": "markdown",
   "id": "a57f7ca0-1dff-4d5a-a223-4b4af11743de",
   "metadata": {},
   "source": [
    "The conversation cycle will be its own graph. The state will consist of the current writer in the conversation, the messages in the conversation, and the references."
   ]
  },
  {
   "cell_type": "code",
   "execution_count": 84,
   "id": "49901b9f-92ec-44d2-b47d-ca551144e6a5",
   "metadata": {},
   "outputs": [],
   "source": [
    "# Set up state for interview loop\n",
    "\n",
    "def add_messages(left, right):\n",
    "    if not isinstance(left, list):\n",
    "        left = [left]\n",
    "    if not isinstance(right, list):\n",
    "        right = [right]\n",
    "    return left + right\n",
    "\n",
    "\n",
    "def update_references(references, new_references):\n",
    "    if not references:\n",
    "        references = {}\n",
    "    references.update(new_references)\n",
    "    return references\n",
    "\n",
    "\n",
    "def update_writer(writer, new_writer):\n",
    "    # Can only set at the outset\n",
    "    if not writer:\n",
    "        return new_writer\n",
    "    return writer\n",
    "\n",
    "\n",
    "class InterviewState(TypedDict):\n",
    "    messages: Annotated[List[AnyMessage], operator.add] \n",
    "    references: Annotated[Optional[dict], update_references]\n",
    "    writer: Annotated[Optional[WikiWriter], update_writer]"
   ]
  },
  {
   "cell_type": "markdown",
   "id": "ea4f6ad0-f9bf-45f5-83bb-84c7bdf32fee",
   "metadata": {},
   "source": [
    "#### Question Asking"
   ]
  },
  {
   "cell_type": "code",
   "execution_count": 85,
   "id": "44a2832e-6034-4126-8add-2ed90e8c61b0",
   "metadata": {},
   "outputs": [],
   "source": [
    "gen_question_prompt = ChatPromptTemplate.from_messages(\n",
    "    [\n",
    "        (\n",
    "            \"system\",\n",
    "            \"\"\"You are an experienced Wikipedia writer and want to edit a specific page. \\\n",
    "Besides your identity as a Wikipedia writer, you have a specific focus when researching the topic. \\\n",
    "Now, you are chatting with an expert to get information. Ask good questions to get more useful information.\n",
    "\n",
    "When you have no more questions to ask, say \"Thank you so much for your help!\" to end the conversation.\\\n",
    "Please only ask one question at a time and don't ask what you have asked before.\\\n",
    "Your questions should be related to the topic you want to write.\n",
    "Be comprehensive and curious, gaining as much unique insight from the expert as possible.\\\n",
    "\n",
    "Stay true to your specific perspective:\n",
    "\n",
    "{persona}\"\"\",\n",
    "        ),\n",
    "        MessagesPlaceholder(variable_name=\"messages\", optional=True),\n",
    "    ]\n",
    ")\n",
    "\n",
    "def label_message_with_writer_name(ai_message: AIMessage, name: str):\n",
    "    ai_message.name = sanitize_name(name)\n",
    "    return ai_message\n",
    "\n",
    "\n",
    "def set_current_writer(state: InterviewState, name: str):\n",
    "    '''\n",
    "    Set up the messages for the current writer.\n",
    "    To do this we convert all messages in the history\n",
    "    that are not from the current writer to a HumanMessage,\n",
    "    so the current writer views the other writers' and experts'\n",
    "    messages as HumanMessages.\n",
    "    '''\n",
    "    name = sanitize_name(name)\n",
    "    converted = []\n",
    "    for message in state[\"messages\"]:\n",
    "        if isinstance(message, AIMessage) and message.name != name:\n",
    "            message = HumanMessage(**message.dict(exclude={\"type\"}))\n",
    "        converted.append(message)\n",
    "    return {\"messages\": converted}\n",
    "\n",
    "\n",
    "@as_runnable\n",
    "async def gen_question(state: InterviewState):\n",
    "    writer = state[\"writer\"]\n",
    "    question_chain = (\n",
    "        RunnableLambda(set_current_writer).bind(name=sanitize_name(writer.name))\n",
    "        | gen_question_prompt.partial(persona=writer.persona)\n",
    "        | fast_llm\n",
    "        | RunnableLambda(label_message_with_writer_name).bind(name=sanitize_name(writer.name))\n",
    "    )\n",
    "    result = await question_chain.ainvoke(state)\n",
    "    return {\"messages\": [result]}\n"
   ]
  },
  {
   "cell_type": "code",
   "execution_count": 86,
   "id": "5a44b47c-edbb-4129-9a56-b14ff983fd68",
   "metadata": {},
   "outputs": [
    {
     "data": {
      "text/plain": [
       "'What are some of the most significant economic impacts that AI agents are expected to have on various industries?'"
      ]
     },
     "execution_count": 86,
     "metadata": {},
     "output_type": "execute_result"
    }
   ],
   "source": [
    "messages = [\n",
    "    HumanMessage(f\"So you said you were writing an article on {example_topic}?\")\n",
    "]\n",
    "question = await gen_question.ainvoke(\n",
    "    {\n",
    "        \"writer\": perspectives.writers[0],\n",
    "        \"messages\": messages,\n",
    "    }\n",
    ")\n",
    "\n",
    "question[\"messages\"][0].content"
   ]
  },
  {
   "cell_type": "markdown",
   "id": "fcbad0b0-da5c-46c2-a2bc-6ca14e3a518a",
   "metadata": {},
   "source": [
    "#### Question Answering"
   ]
  },
  {
   "cell_type": "markdown",
   "id": "43e969ef-21b2-4817-8eb7-613f9df894ea",
   "metadata": {},
   "source": [
    "Below is the code for generating search engine queries"
   ]
  },
  {
   "cell_type": "code",
   "execution_count": 87,
   "id": "6a85628c-35a9-4f2f-b83c-f429be586404",
   "metadata": {},
   "outputs": [],
   "source": [
    "class Queries(BaseModel):\n",
    "    queries: List[str] = Field(\n",
    "        description=\"Comprehensive list of search engine queries to answer the user's questions.\",\n",
    "    )\n",
    "\n",
    "gen_queries_prompt = ChatPromptTemplate.from_messages(\n",
    "    [\n",
    "        (\n",
    "            \"system\",\n",
    "            \"You are a helpful research assistant. Query the search engine to answer the user's questions.\",\n",
    "        ),\n",
    "        MessagesPlaceholder(variable_name=\"messages\", optional=True),\n",
    "    ]\n",
    ")\n",
    "gen_queries_chain = gen_queries_prompt | fast_llm.with_structured_output(Queries, include_raw=True)"
   ]
  },
  {
   "cell_type": "code",
   "execution_count": 88,
   "id": "f294e5cf-f34f-4ae5-8395-42431680d93c",
   "metadata": {},
   "outputs": [
    {
     "data": {
      "text/plain": [
       "['economic impacts of AI agents on industries',\n",
       " 'AI agents effects on manufacturing',\n",
       " 'AI agents influence on healthcare',\n",
       " 'AI agents impact on finance',\n",
       " 'AI agents in retail economic implications',\n",
       " 'AI agents in transportation economic effects',\n",
       " 'AI agents effects on agriculture industry',\n",
       " 'AI agents influence on education sector']"
      ]
     },
     "execution_count": 88,
     "metadata": {},
     "output_type": "execute_result"
    }
   ],
   "source": [
    "queries = await gen_queries_chain.ainvoke(\n",
    "    {\"messages\": [HumanMessage(content=question[\"messages\"][0].content)]}\n",
    ")\n",
    "queries[\"parsed\"].queries"
   ]
  },
  {
   "cell_type": "code",
   "execution_count": 89,
   "id": "8b5604df-17f2-4ec3-8c4f-b3742296cc2f",
   "metadata": {},
   "outputs": [
    {
     "data": {
      "text/plain": [
       "AIMessage(content='', additional_kwargs={'tool_calls': [{'id': 'call_qBZzsJ2Iw3VIPRyE5L6f7QTw', 'function': {'arguments': '{\"queries\":[\"economic impacts of AI agents on industries\",\"AI agents effects on manufacturing\",\"AI agents influence on healthcare\",\"AI agents impact on finance\",\"AI agents in retail economic implications\",\"AI agents in transportation economic effects\",\"AI agents effects on agriculture industry\",\"AI agents influence on education sector\"]}', 'name': 'Queries'}, 'type': 'function'}], 'refusal': None}, response_metadata={'token_usage': {'completion_tokens': 58, 'prompt_tokens': 95, 'total_tokens': 153}, 'model_name': 'gpt-4o-mini-2024-07-18', 'system_fingerprint': 'fp_f33667828e', 'finish_reason': 'stop', 'logprobs': None}, id='run-e9e09bb0-bfee-4be3-ba00-88702fe7fa8a-0', tool_calls=[{'name': 'Queries', 'args': {'queries': ['economic impacts of AI agents on industries', 'AI agents effects on manufacturing', 'AI agents influence on healthcare', 'AI agents impact on finance', 'AI agents in retail economic implications', 'AI agents in transportation economic effects', 'AI agents effects on agriculture industry', 'AI agents influence on education sector']}, 'id': 'call_qBZzsJ2Iw3VIPRyE5L6f7QTw', 'type': 'tool_call'}], usage_metadata={'input_tokens': 95, 'output_tokens': 58, 'total_tokens': 153})"
      ]
     },
     "execution_count": 89,
     "metadata": {},
     "output_type": "execute_result"
    }
   ],
   "source": [
    "queries[\"raw\"]"
   ]
  },
  {
   "cell_type": "markdown",
   "id": "a005a2a6-dcaa-40fd-aeea-09fa1473661e",
   "metadata": {},
   "source": [
    "Search engine setup"
   ]
  },
  {
   "cell_type": "code",
   "execution_count": 90,
   "id": "0ab81eca-178c-4899-b2c0-3fde40bc78b9",
   "metadata": {},
   "outputs": [],
   "source": [
    "from langchain_community.utilities.duckduckgo_search import DuckDuckGoSearchAPIWrapper\n",
    "from langchain_core.tools import tool\n",
    "\n",
    "'''\n",
    "# Tavily is typically a better search engine, but your free queries are limited\n",
    "search_engine = TavilySearchResults(max_results=4)\n",
    "\n",
    "@tool\n",
    "async def search_engine(query: str):\n",
    "    \"\"\"Search engine to the internet.\"\"\"\n",
    "    results = tavily_search.invoke(query)\n",
    "    return [{\"content\": r[\"content\"], \"url\": r[\"url\"]} for r in results]\n",
    "'''\n",
    "\n",
    "# DDG\n",
    "search_engine = DuckDuckGoSearchAPIWrapper()\n",
    "\n",
    "\n",
    "@tool\n",
    "async def search_engine(query: str):\n",
    "    \"\"\"Search engine to the internet.\"\"\"\n",
    "    results = DuckDuckGoSearchAPIWrapper()._ddgs_text(query)\n",
    "    return [{\"content\": r[\"body\"], \"url\": r[\"href\"]} for r in results]\n",
    "\n",
    "async def search_and_format(queries):\n",
    "    results = await search_engine.abatch(queries, return_exceptions=True)\n",
    "    formatted_results = {}\n",
    "    for result_list in results:\n",
    "        if not isinstance(result_list, Exception):\n",
    "            for result in result_list:\n",
    "                formatted_results.update({result[\"url\"]: result[\"content\"]})\n",
    "    return formatted_results"
   ]
  },
  {
   "cell_type": "markdown",
   "id": "c855a204-9afc-4123-8a18-36147877b6a1",
   "metadata": {},
   "source": [
    "Now we will answer the writer's questions"
   ]
  },
  {
   "cell_type": "code",
   "execution_count": 91,
   "id": "6388b22c-1cbd-40cd-ad41-7937a0163f3e",
   "metadata": {},
   "outputs": [],
   "source": [
    "class AnswerWithCitations(BaseModel):\n",
    "    answer: str = Field(\n",
    "        description=\"Comprehensive answer to the user's question with citations.\",\n",
    "    )\n",
    "    cited_urls: List[str] = Field(\n",
    "        description=\"List of urls cited in the answer.\",\n",
    "    )\n",
    "\n",
    "    @property\n",
    "    def as_str(self) -> str:\n",
    "        return f\"{self.answer}\\n\\nCitations:\\n\\n\" + \"\\n\".join(\n",
    "            f\"[{i+1}]: {url}\" for i, url in enumerate(self.cited_urls)\n",
    "        )\n",
    "\n",
    "\n",
    "gen_answer_prompt = ChatPromptTemplate.from_messages(\n",
    "    [\n",
    "        (\n",
    "            \"system\",\n",
    "            \"\"\"You are an expert on the follwoing topic: {topic}. You are chatting with a Wikipedia writer who wants\\\n",
    " to write a Wikipedia page on the topic you know. You have gathered the related information and will now use the information to form a response.\n",
    "\n",
    "Make your response as informative as possible and make sure every sentence is supported by the gathered information.\n",
    "Each response must be backed up by a citation from a reliable source, formatted as a footnote, reproducing the URLS after your response.\"\"\",\n",
    "        ),\n",
    "        MessagesPlaceholder(variable_name=\"messages\", optional=True),\n",
    "    ]\n",
    ")\n",
    "\n",
    "gen_answer_chain = gen_answer_prompt.partial(topic=example_topic) | fast_llm.with_structured_output(\n",
    "    AnswerWithCitations, include_raw=True\n",
    ").with_config(run_name=\"GenerateAnswer\")\n"
   ]
  },
  {
   "cell_type": "code",
   "execution_count": 92,
   "id": "6be10e1c-133b-4208-b43c-990e49ca8328",
   "metadata": {},
   "outputs": [],
   "source": [
    "async def gen_answer(\n",
    "    state: InterviewState,\n",
    "    name: str = \"subject_matter_expert\",\n",
    "    max_str_length: int = 15000):\n",
    "\n",
    "    # Set the expert as the current writer\n",
    "    current_state = set_current_writer(state, sanitize_name(name))\n",
    "\n",
    "    # Generate queries based on the last question to pass to the search engine\n",
    "    queries = await gen_queries_chain.ainvoke(current_state)\n",
    "\n",
    "    # Query the search engine\n",
    "    search_results = await search_and_format(queries[\"parsed\"].queries)\n",
    "    truncated_search_results = json.dumps(search_results)[:max_str_length]\n",
    "\n",
    "    # Get tool information to pass to model when generating answers\n",
    "    ai_message: AIMessage = queries[\"raw\"]\n",
    "    tool_call = ai_message.additional_kwargs[\"tool_calls\"][0]\n",
    "    tool_id = tool_call[\"id\"]\n",
    "    tool_message = ToolMessage(tool_call_id=tool_id, content=truncated_search_results)\n",
    "    current_state[\"messages\"].extend([ai_message, tool_message])\n",
    "\n",
    "    # Answer the question with citations\n",
    "    answer = await gen_answer_chain.ainvoke(current_state)\n",
    "    cited_urls = set(answer[\"parsed\"].cited_urls)\n",
    "\n",
    "    # Update the state: Add message to messages list, add references to references list\n",
    "    formatted_message = AIMessage(name=sanitize_name(name), content=answer[\"parsed\"].as_str)\n",
    "    cited_references = {url: content for url, content in search_results.items() if url in cited_urls}\n",
    "    return {\"messages\": [formatted_message], \"references\": cited_references}"
   ]
  },
  {
   "cell_type": "code",
   "execution_count": 93,
   "id": "c7ce5cb4-b57d-49e4-b01f-dd2333e950f2",
   "metadata": {},
   "outputs": [
    {
     "data": {
      "text/plain": [
       "'AI agents are poised to significantly impact various industries economically, with effects ranging from increased productivity to shifts in labor markets. In manufacturing, AI technologies such as robotics and automation are enhancing operational efficiency, leading to reduced production costs and faster output, which can increase profit margins for companies. This transformation is projected to also lead to a potential decrease in manufacturing jobs as machines take over routine tasks, although it may create new opportunities in AI management and maintenance roles.\\n\\nIn healthcare, AI agents can analyze patient data and improve diagnostic accuracy, which can reduce costs associated with misdiagnoses and ineffective treatments. The integration of AI into healthcare is expected to optimize processes, leading to significant savings for both providers and patients, while also improving patient outcomes through personalized medicine.\\n\\nThe finance industry is experiencing profound changes due to AI, particularly in risk assessment and fraud detection. AI algorithms can analyze vast amounts of data more swiftly than humans, allowing for better investment strategies and enhanced security measures. This can lead to cost reductions for financial institutions and lower fees for consumers, although it may also disrupt traditional banking jobs as AI systems take on roles traditionally held by human analysts.\\n\\nIn retail, AI agents are enhancing customer experiences through personalized recommendations and optimizing inventory management, which can lead to increased sales and reduced waste. The economic impact here includes improved customer loyalty and operational efficiency, although there are concerns about job displacement in retail roles due to increased automation.\\n\\nFinally, the transportation sector is being revolutionized by AI through advancements in autonomous vehicles and logistics optimization. These technologies promise to reduce operational costs and improve safety, potentially transforming economic models within the industry. However, this shift may also lead to job losses in driving and related fields, necessitating workforce retraining initiatives.\\n\\nOverall, while AI agents are expected to drive economic growth and efficiency, they also present challenges such as job displacement and the need for workforce adaptation to new technologies.\\n\\nCitations:\\n\\n[1]: https://www.mckinsey.com/featured-insights/artificial-intelligence\\n[2]: https://www.forbes.com/sites/bernardmarr/2021/12/13/the-impact-of-ai-on-the-global-economy/\\n[3]: https://www.bcg.com/publications/2021/what-is-the-economic-impact-of-ai-on-the-global-economy\\n[4]: https://www.pwc.com/gx/en/research-insights/ai-economic-impact.html\\n[5]: https://www.gartner.com/en/newsroom/press-releases/2021-04-06-gartner-says-three-emerging-ai-applications-will-create-2-3-million-jobs-by-2022'"
      ]
     },
     "execution_count": 93,
     "metadata": {},
     "output_type": "execute_result"
    }
   ],
   "source": [
    "example_answer = await gen_answer(\n",
    "    {\"messages\": [HumanMessage(content=question[\"messages\"][0].content)]}\n",
    ")\n",
    "example_answer[\"messages\"][-1].content"
   ]
  },
  {
   "cell_type": "markdown",
   "id": "195cbdd3-17ed-43c7-a7c4-b1f21674d69f",
   "metadata": {},
   "source": [
    "Interview Graph"
   ]
  },
  {
   "cell_type": "code",
   "execution_count": 97,
   "id": "25918bb0-91dd-4fde-aa77-38695da1e3cf",
   "metadata": {},
   "outputs": [],
   "source": [
    "max_responses = 5\n",
    "\n",
    "def end_or_pass_back_to_writer(state: InterviewState, name: str = \"subject_matter_expert\"):\n",
    "    messages = state[\"messages\"]\n",
    "    num_responses = len(\n",
    "        [m for m in messages if isinstance(m, AIMessage) and sanitize_name(m.name) == sanitize_name(name)]\n",
    "    )\n",
    "    if num_responses >= max_responses:\n",
    "        return END\n",
    "    last_question = messages[-2]\n",
    "    if last_question.content.endswith(\"Thank you so much for your help!\"):\n",
    "        return END\n",
    "    return \"ask_question\""
   ]
  },
  {
   "cell_type": "code",
   "execution_count": 99,
   "id": "ce3df010-8955-4af4-a3c6-e3488ddaf7c1",
   "metadata": {},
   "outputs": [],
   "source": [
    "interview_graph = StateGraph(InterviewState)\n",
    "\n",
    "# Add nodes\n",
    "interview_graph.add_node(\"ask_question\", gen_question)\n",
    "interview_graph.add_node(\"answer_question\", gen_answer)\n",
    "\n",
    "# Add edges\n",
    "interview_graph.add_edge(START, \"ask_question\")\n",
    "interview_graph.add_edge(\"ask_question\", \"answer_question\")\n",
    "interview_graph.add_conditional_edges(\"answer_question\", end_or_pass_back_to_writer)\n",
    "\n",
    "# Compile graph\n",
    "interview_graph = interview_graph.compile().with_config(run_name=\"Conduct Interviews\")"
   ]
  },
  {
   "cell_type": "markdown",
   "id": "d55aa152-5d17-4fd4-9f2f-1c45884950c3",
   "metadata": {},
   "source": [
    "## Generate Draft Outline\n",
    "\n",
    "The draft outline is a rough draft of the outline based only on the task. The collected conversations and resources from above will then be used to refine the draft outline."
   ]
  },
  {
   "cell_type": "code",
   "execution_count": null,
   "id": "bbcb8047-5863-469a-8081-6342c2454832",
   "metadata": {},
   "outputs": [],
   "source": []
  },
  {
   "cell_type": "markdown",
   "id": "00a7a4b1-63ea-4f8e-9a8a-4daceca92856",
   "metadata": {},
   "source": [
    "## Generate Final Outline\n",
    "\n",
    "Use the collected conversations and resources to refine the draft outline. The result will be the final outline."
   ]
  },
  {
   "cell_type": "code",
   "execution_count": null,
   "id": "acfde507-e80e-4194-b403-a96d7f0e8624",
   "metadata": {},
   "outputs": [],
   "source": []
  },
  {
   "cell_type": "markdown",
   "id": "acdf6513-0305-484b-8f05-5b9c6d057bc0",
   "metadata": {},
   "source": [
    "# Generate the Final Article\n",
    "\n",
    "Each section will be generated independently using the previously gathered resources. Once each section is generated, we will have a large model go over the entire article to ensure consistency and remove duplicate information."
   ]
  },
  {
   "cell_type": "code",
   "execution_count": null,
   "id": "8180d878-88c6-48ce-b0f6-ca1880b616be",
   "metadata": {},
   "outputs": [],
   "source": []
  }
 ],
 "metadata": {
  "kernelspec": {
   "display_name": "Python 3 (ipykernel)",
   "language": "python",
   "name": "python3"
  },
  "language_info": {
   "codemirror_mode": {
    "name": "ipython",
    "version": 3
   },
   "file_extension": ".py",
   "mimetype": "text/x-python",
   "name": "python",
   "nbconvert_exporter": "python",
   "pygments_lexer": "ipython3",
   "version": "3.12.4"
  }
 },
 "nbformat": 4,
 "nbformat_minor": 5
}
