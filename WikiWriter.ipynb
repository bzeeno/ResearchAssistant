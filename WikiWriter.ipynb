{
 "cells": [
  {
   "cell_type": "markdown",
   "id": "c39a8769-abcf-4ace-bd0b-62d9e0bbcdbd",
   "metadata": {},
   "source": [
    "# Setup"
   ]
  },
  {
   "cell_type": "code",
   "execution_count": 1,
   "id": "54207c9d-e728-4d13-bd2d-d09e1f376de7",
   "metadata": {},
   "outputs": [],
   "source": [
    "import os\n",
    "import operator\n",
    "import re\n",
    "import json\n",
    "\n",
    "from langchain_anthropic import ChatAnthropic\n",
    "from langchain_openai import ChatOpenAI\n",
    "from langchain.prompts import ChatPromptTemplate\n",
    "from langchain_community.retrievers import WikipediaRetriever\n",
    "from langchain_core.runnables import chain as as_runnable\n",
    "from langchain_core.pydantic_v1 import BaseModel, Field\n",
    "from langchain_core.messages import AIMessage, HumanMessage, ToolMessage\n",
    "from langchain_core.prompts import MessagesPlaceholder\n",
    "from langchain_core.runnables import RunnableLambda\n",
    "from langchain_core.runnables import RunnableConfig\n",
    "from langchain_community.utilities.duckduckgo_search import DuckDuckGoSearchAPIWrapper\n",
    "from langchain_core.messages import AnyMessage\n",
    "from langchain_core.tools import tool\n",
    "from langgraph.graph import END, StateGraph, START\n",
    "\n",
    "from typing import List, Optional\n",
    "from typing import Annotated\n",
    "\n",
    "from typing_extensions import TypedDict\n",
    "from langchain_core.output_parsers import StrOutputParser"
   ]
  },
  {
   "cell_type": "code",
   "execution_count": 2,
   "id": "05fd5302-7cfd-4c29-b175-27c21c7aa1e4",
   "metadata": {},
   "outputs": [],
   "source": [
    "# Set API key\n",
    "api_key = os.environ[\"ANTHROPIC_API_KEY\"]\n",
    "openai_api_key = os.environ[\"OPENAI_API_KEY\"]\n",
    "\n",
    "# Initialize models. We'll use a smaller LLM for most of the work, but a large LLM to distill conversations and writing the final report\n",
    "fast_llm = ChatOpenAI(api_key=openai_api_key, model=\"gpt-4o-mini\")\n",
    "slow_llm = ChatAnthropic(api_key=api_key, model=\"claude-3-5-sonnet-20240620\")"
   ]
  },
  {
   "cell_type": "code",
   "execution_count": 3,
   "id": "4062090d-b72d-492c-a8e2-a4a389ca2cd8",
   "metadata": {},
   "outputs": [],
   "source": [
    "example_topic = \"AI agents and the potential economic, social, and environmental impacts.\""
   ]
  },
  {
   "cell_type": "markdown",
   "id": "613017da-ceaf-45cb-8091-d85a5ca6d1db",
   "metadata": {},
   "source": [
    "# Draft Outline"
   ]
  },
  {
   "cell_type": "code",
   "execution_count": 4,
   "id": "b00e5fcb-9d48-46bc-93cd-b72764197987",
   "metadata": {},
   "outputs": [],
   "source": [
    "# Define Outline Structured Output\n",
    "class SubSection(BaseModel):\n",
    "    title: str = Field(...,\n",
    "                       title = \"Subsection Title\")\n",
    "    \n",
    "    description: str = Field(...,\n",
    "                             title = \"Description of subsection\")\n",
    "\n",
    "    @property\n",
    "    def as_str(self) -> str:\n",
    "        return f\"## {self.title}\\n\\n{self.description}\".strip()\n",
    "\n",
    "class Section(BaseModel):\n",
    "    title: str = Field(...,\n",
    "                       title = \"Section Title\")\n",
    "    \n",
    "    description: str = Field(...,\n",
    "                             title = \"Section description\")\n",
    "    \n",
    "    subsections: Optional[List[SubSection]] = Field(default = None,\n",
    "                                                    title = \"List of Subsections\",\n",
    "                                                    description = \"A list of subsections under this section if there are any.\")\n",
    "\n",
    "    references: List[str] = Field(default_factory=list)\n",
    "    \n",
    "    @property\n",
    "    def as_str(self) -> str:\n",
    "        subsections = \"\\n\\n\".join(\n",
    "            f\"## {subsection.title}\\n\\n{subsection.description}\"\n",
    "            for subsection in self.subsections or []\n",
    "        )\n",
    "        citations = \"\\n\".join([f\" [{i}] {cit}\" for i, cit in enumerate(self.references)])\n",
    "        return f\"# {self.title}\\n\\n{self.description}\\n\\n{subsections}\".strip() + f\"\\n\\n{citations}\".strip()\n",
    "\n",
    "class Outline(BaseModel):    \n",
    "    sections: List[Section] = Field(default_factory=list,\n",
    "                                    title = \"Sections\", \n",
    "                                    description = \"List of the sections in the outline\")\n",
    "    \n",
    "    @property\n",
    "    def as_str(self) -> str:\n",
    "        sections = \"\\n\\n\".join(section.as_str for section in self.sections)\n",
    "        return f\"{sections}\".strip()  "
   ]
  },
  {
   "cell_type": "code",
   "execution_count": 5,
   "id": "886a70d1-58cd-47ff-a5d1-ea47d46e95de",
   "metadata": {},
   "outputs": [],
   "source": [
    "draft_outline_prompt = ChatPromptTemplate.from_messages(\n",
    "    [\n",
    "        (\n",
    "            \"system\",\n",
    "            \"\"\"\n",
    "            You are a wikipedia article writer, please never break character.\n",
    "            Please create an outline for a wikipedia article based on the following topic:\n",
    "            \"\"\"\n",
    "        ),\n",
    "        (\n",
    "            \"user\", \"{topic}\"\n",
    "        ),\n",
    "    ]\n",
    ")\n",
    "\n",
    "draft_outline_chain = draft_outline_prompt | fast_llm.with_structured_output(Outline)"
   ]
  },
  {
   "cell_type": "code",
   "execution_count": 6,
   "id": "235f8da3-9dc5-4bc4-bc74-734dbc00202f",
   "metadata": {},
   "outputs": [],
   "source": [
    "draft_outline_example = draft_outline_chain.invoke({\"topic\": example_topic})"
   ]
  },
  {
   "cell_type": "code",
   "execution_count": 7,
   "id": "36bd386d-6167-4c8f-b63b-e5848247e264",
   "metadata": {},
   "outputs": [
    {
     "data": {
      "text/plain": [
       "[Section(title='Introduction', description='An overview of AI agents, defining what they are and their significance in modern society.', subsections=None, references=[]),\n",
       " Section(title='Economic Impacts', description='Analysis of how AI agents are transforming various economic sectors.', subsections=[SubSection(title='Labor Market Changes', description='Explores the impact of AI agents on employment, job displacement, and the creation of new job opportunities.'), SubSection(title='Productivity and Efficiency', description='Discusses how AI agents enhance productivity and operational efficiency in businesses.'), SubSection(title='Market Dynamics', description='Examines changes in market competition, pricing strategies, and consumer behavior due to AI agents.')], references=[]),\n",
       " Section(title='Social Impacts', description='Examination of the societal implications of deploying AI agents.', subsections=[SubSection(title='Changes in Human Interaction', description='Discusses how AI agents influence communication and relationships among individuals.'), SubSection(title='Ethical Considerations', description='Explores ethical dilemmas, biases in AI, and the importance of transparency and accountability.'), SubSection(title='Access and Inequality', description='Analyzes how AI agents can exacerbate or mitigate social inequalities.')], references=[]),\n",
       " Section(title='Environmental Impacts', description='Assessment of the environmental consequences of implementing AI agents.', subsections=[SubSection(title='Resource Consumption', description='Investigates the energy consumption and resource use associated with AI technologies.'), SubSection(title='Sustainability Potential', description='Explores how AI agents can contribute to environmental sustainability and conservation efforts.'), SubSection(title='Mitigation of Environmental Issues', description=\"Discusses AI's role in addressing environmental challenges, such as climate change.\")], references=[]),\n",
       " Section(title='Future Prospects', description='Speculation on the future development of AI agents and their long-term impacts on society.', subsections=None, references=[]),\n",
       " Section(title='Conclusion', description='Summarizes key findings and reflections on the balance of benefits and challenges posed by AI agents.', subsections=None, references=[]),\n",
       " Section(title='References', description='A comprehensive list of sources and literature cited in the article.', subsections=None, references=[])]"
      ]
     },
     "execution_count": 7,
     "metadata": {},
     "output_type": "execute_result"
    }
   ],
   "source": [
    "draft_outline_example.sections"
   ]
  },
  {
   "cell_type": "markdown",
   "id": "e6e114e6-dd58-4072-950e-70391cc33df4",
   "metadata": {},
   "source": [
    "# Full Research Path"
   ]
  },
  {
   "cell_type": "markdown",
   "id": "0f225db1-6138-4163-98e1-91cd096abe7f",
   "metadata": {},
   "source": [
    "## Survey Related Articles"
   ]
  },
  {
   "cell_type": "code",
   "execution_count": 8,
   "id": "d1f7ab13-79f8-43aa-934d-096f11c36bf8",
   "metadata": {},
   "outputs": [],
   "source": [
    "# Generate related topics\n",
    "\n",
    "class RelatedTopics(BaseModel):\n",
    "    topics: List[str] = Field(\n",
    "        description=\"List of related topics to help in generating perspectives.\",\n",
    "    )\n",
    "\n",
    "related_topics_prompt = ChatPromptTemplate.from_template(\n",
    "\"\"\"I'm writing a Wikipedia page for the topic mentioned below. \n",
    "Please identify and recommend some related subjects that might be interesting. \n",
    "I'm looking for related subjects that provide insights into interesting aspects commonly associated with this topic.\n",
    "\n",
    "Feel free to list things that are only tangentially related\n",
    "\n",
    "Please list as many subjects as you can.\n",
    "\n",
    "Topic of interest: {topic}\n",
    "\n",
    "make sure to call the RelatedTopics function.\n",
    "\"\"\"\n",
    ")\n",
    "\n",
    "related_topics_chain = related_topics_prompt | fast_llm.with_structured_output(\n",
    "    RelatedTopics\n",
    ")"
   ]
  },
  {
   "cell_type": "code",
   "execution_count": 9,
   "id": "3527ee1f-735b-45f5-8c5c-70d06b577000",
   "metadata": {},
   "outputs": [],
   "source": [
    "related_topics = await related_topics_chain.ainvoke({\"topic\": example_topic})"
   ]
  },
  {
   "cell_type": "code",
   "execution_count": 10,
   "id": "84259e89-f9ac-499f-a0ae-0463f06e2140",
   "metadata": {},
   "outputs": [
    {
     "data": {
      "text/plain": [
       "['AI agents',\n",
       " 'economic impacts of AI',\n",
       " 'social impacts of AI',\n",
       " 'environmental impacts of AI',\n",
       " 'automation',\n",
       " 'machine learning',\n",
       " 'robotics',\n",
       " 'AI ethics',\n",
       " 'digital economy',\n",
       " 'future of work',\n",
       " 'sustainability and AI',\n",
       " 'AI in healthcare',\n",
       " 'AI in education',\n",
       " 'AI and privacy',\n",
       " 'AI and inequality',\n",
       " 'AI in agriculture',\n",
       " 'AI in climate change',\n",
       " 'AI governance',\n",
       " 'AI and labor markets',\n",
       " 'AI and creativity',\n",
       " 'AI and human interaction',\n",
       " 'AI and policy making',\n",
       " 'AI and social change',\n",
       " 'AI in developing countries',\n",
       " 'AI and transportation',\n",
       " 'AI and energy efficiency']"
      ]
     },
     "execution_count": 10,
     "metadata": {},
     "output_type": "execute_result"
    }
   ],
   "source": [
    "related_topics.topics"
   ]
  },
  {
   "cell_type": "code",
   "execution_count": 62,
   "id": "f23931ab-12de-4a11-948d-252df4304b2f",
   "metadata": {},
   "outputs": [],
   "source": [
    "def format_name(name):\n",
    "    return re.sub(r'[^a-zA-Z0-9_-]', '', name)\n",
    "\n",
    "class Perspective(BaseModel):\n",
    "    name: str = Field(\n",
    "        description=\"Name of the persona.\", pattern=r\"^[a-zA-Z0-9_-]{1,64}$\"\n",
    "    )\n",
    "    role: str = Field(\n",
    "        description=\"Role of the editor in the context of the topic.\",\n",
    "    )\n",
    "    description: str = Field(\n",
    "        description=\"Description of the editor's focus, concerns, and motives.\",\n",
    "    )\n",
    "\n",
    "    @property\n",
    "    def as_str(self) -> str:\n",
    "        return f\"Name: {self.name}\\nRole: {self.role}\\nDescription: {self.description}\\n\"\n",
    "\n",
    "class Editors(BaseModel):\n",
    "    perspectives: List[Perspective] = Field(\n",
    "        description=\"Comprehensive list of personas with their roles and descriptions.\",\n",
    "        # Add a pydantic validation/restriction to be at most M editors\n",
    "    )\n",
    "\n",
    "def update_references(references, new_references):\n",
    "    if not references:\n",
    "        references = {}\n",
    "    references.update(new_references)\n",
    "    return references\n",
    "\n",
    "\n",
    "def update_perspective(perspective, new_perspective):\n",
    "    # Can only set at the outset\n",
    "    if not perspective:\n",
    "        return new_perspective\n",
    "    return perspective\n",
    "\n",
    "class InterviewState(TypedDict):\n",
    "    topic: str\n",
    "    messages: Annotated[List[AnyMessage], operator.add] \n",
    "    references: Annotated[Optional[dict], update_references] = {}\n",
    "    current_perspective: Annotated[Optional[Perspective], update_perspective]\n",
    "\n",
    "# Define State for Article Generator\n",
    "class ArticleGeneratorState(TypedDict):\n",
    "    topic: Annotated[str, Field(description=\"The main topic of the article, set by the user at the beginning\")]\n",
    "    outline: Annotated[Outline, Field(default_factory=list, description=\"A running outline of the article\")]\n",
    "    related_articles: Annotated[List[str], Field(description=\"List of related articles.\")]\n",
    "    editors: Annotated[Editors, Field(description = \"List of all perspectives of editors in interview graph\")]\n",
    "    interview_results: Annotated[List[InterviewState], Field(default_factory=list, description=\"States of the interviews between the \")]\n",
    "    article: Annotated[str, Field(description=\"Final article\")]"
   ]
  },
  {
   "cell_type": "code",
   "execution_count": 65,
   "id": "5d87416b-c33f-4848-b679-5af18c143817",
   "metadata": {},
   "outputs": [],
   "source": [
    "# Get related articles with wikipedia retriever\n",
    "wikipedia_retriever = WikipediaRetriever(load_all_available_meta=True, top_k_results=1)\n",
    "\n",
    "def format_articles(unformattedArticles: List[str]) -> List[str]:\n",
    "    formatted_articles = []\n",
    "    for doc in unformattedArticles:\n",
    "        article = doc[0]\n",
    "        if isinstance(article, BaseException):\n",
    "            continue\n",
    "        # formatted_article = \"\\n\\n\" + \"Title: \" + article.metadata[\"title\"] + \"\\n\" + \"\\nCategories: \" + \", \".join(article.metadata[\"categories\"])\n",
    "        formatted_article = \"\\n\\n\" + \"Title: \" + article.metadata[\"title\"] + \"\\n\" + \"Summary:\\n\" + article.metadata[\"summary\"]\n",
    "        formatted_articles.append(formatted_article)\n",
    "    return formatted_articles\n",
    "\n",
    "@as_runnable\n",
    "async def survey_related_articles(state: ArticleGeneratorState) -> List[str]:\n",
    "    topic = state[\"topic\"]\n",
    "    related_topics = await related_topics_chain.ainvoke({\"topic\": topic})\n",
    "    related_articles = await wikipedia_retriever.abatch(related_topics.topics, return_exceptions=True)\n",
    "    formatted_articles = format_articles(related_articles)\n",
    "    return {**state, \"related_articles\": formatted_articles}"
   ]
  },
  {
   "cell_type": "code",
   "execution_count": 66,
   "id": "46177fec-1698-4e62-8968-c83c5c235c03",
   "metadata": {
    "scrolled": true
   },
   "outputs": [],
   "source": [
    "related_articles = await survey_related_articles.ainvoke(ArticleGeneratorState(topic = example_topic))"
   ]
  },
  {
   "cell_type": "code",
   "execution_count": 67,
   "id": "5d227858-146a-45bc-a813-3c932b0936bb",
   "metadata": {
    "scrolled": true
   },
   "outputs": [
    {
     "data": {
      "text/plain": [
       "{'topic': 'AI agents and the potential economic, social, and environmental impacts.',\n",
       " 'related_articles': ['\\n\\nTitle: Intelligent agent\\nSummary:\\nIn intelligence and artificial intelligence, an intelligent agent (IA) is an agent that perceives its environment, takes actions autonomously in order to achieve goals, and may improve its performance with learning or acquiring knowledge. An intelligent agent may be simple or complex: A thermostat or other control system is considered an example of an intelligent agent, as is a human being, as is any system that meets the definition, such as a firm, a state, or a biome.\\n\\nLeading AI textbooks define \"artificial intelligence\" as the \"study and design of intelligent agents\", a definition that considers goal-directed behavior to be the essence of intelligence. Goal-directed agents are also described using a term borrowed from economics, \"rational agent\".\\nAn agent has an \"objective function\" that encapsulates all the IA\\'s goals. Such an agent is designed to create and execute whatever plan will, upon completion, maximize the expected value of the objective function. For example, a reinforcement learning agent has a \"reward function\" that allows the programmers to shape the IA\\'s desired behavior, and an evolutionary algorithm\\'s behavior is shaped by a \"fitness function\". \\nIntelligent agents in artificial intelligence are closely related to agents in economics, and versions of the intelligent agent paradigm are studied in cognitive science, ethics, and the philosophy of practical reason, as well as in many interdisciplinary socio-cognitive modeling and computer social simulations.\\nIntelligent agents are often described schematically as an abstract functional system similar to a computer program. Abstract descriptions of intelligent agents are called abstract intelligent agents (AIA) to distinguish them from their real-world implementations. An autonomous intelligent agent is designed to function in the absence of human intervention. Intelligent agents are also closely related to software agents (an autonomous computer program that carries out tasks on behalf of users).',\n",
       "  '\\n\\nTitle: Economic impact analysis\\nSummary:\\nAn economic impact analysis (EIA) examines the effect of an event on the economy in a specified area, ranging from a single neighborhood to the entire globe. It usually measures changes in business revenue, business profits, personal wages, and/or jobs.  The economic event analyzed can include implementation of a new policy or project, or may simply be the presence of a business or organization.  An economic impact analysis is commonly conducted when there is public concern about the potential impacts of a proposed project or policy.\\nAn economic impact analysis typically measures or estimates the change in economic activity between two scenarios, one assuming the economic event occurs, and one assuming it does not occur (which is referred to as the counterfactual case).  This can be accomplished either before or after the event (ex ante or ex post).\\nAn economic impact analysis attempts to measure or estimate the change in economic activity in a specified region, caused by a specific business, organization, policy, program, project, activity, or other economic event.  The study region can be a neighborhood, town, city, county, statistical area, state, country, continent, or the entire globe.\\n\\n',\n",
       "  '\\n\\nTitle: Technological singularity\\nSummary:\\nThe technological singularity—or simply the singularity—is a hypothetical future point in time at which technological growth becomes uncontrollable and irreversible, resulting in unforeseeable consequences for Human civilization. According to the most popular version of the singularity hypothesis, I. J. Good\\'s intelligence explosion model of 1965, an upgradable intelligent agent could eventually enter a positive feedback loop of self-improvement cycles, each successive; and more intelligent generation appearing more and more rapidly, causing a rapid increase (\"explosion\") in intelligence which would ultimately result in a powerful superintelligence, qualitatively far surpassing all human intelligence.\\nThe Hungarian-American mathematician John von Neumann (1903-1957) became the first known person to use the concept of a \"singularity\" in the technological context. Stanislaw Ulam reported in 1958 an earlier discussion with von Neumann \"centered on the accelerating progress of technology and changes in human life, which gives the appearance of approaching some essential singularity in the history of the race beyond which human affairs, as we know them, could not continue\". Subsequent authors have echoed this viewpoint.\\nThe concept and the term \"singularity\" were popularized by Vernor Vinge – first in 1983 (in an article that claimed that once humans create intelligences greater than their own, there will be a technological and social transition similar in some sense to \"the knotted space-time at the center of a black hole\",) and later in his 1993 essay The Coming Technological Singularity, (in which he wrote that it would signal the end of the human era, as the new superintelligence would continue to upgrade itself and would advance technologically at an incomprehensible rate). He wrote that he would be surprised if it occurred before 2005 or after 2030. Another significant contributor to wider circulation of the notion was Ray Kurzweil\\'s 2005 book The Singularity Is Near, predicting singularity by 2045.\\nSome scientists, including Stephen Hawking, have expressed concern that artificial superintelligence (ASI) could result in human extinction. The consequences of a technological singularity and its potential benefit or harm to the human race have been intensely debated.\\nSome prominent technologists and academics – including Paul Allen, Jeff Hawkins, John Holland, Jaron Lanier, Steven Pinker, Theodore Modis, and Gordon Moore – dispute the plausibility of a technological singularity and an associated artificial-intelligence explosion. One claim made was that the artificial-intelligence growth is likely to run into decreasing returns instead of accelerating ones, as was observed in previously developed human technologies.',\n",
       "  '\\n\\nTitle: Environmental impacts of artificial intelligence\\nSummary:\\nThe environmental impacts of artificial intelligence (AI) may vary significantly. Many deep learning methods have significant carbon footprints and water usage. Some scientists have suggested that artificial intelligence may provide solutions to environmental problems.',\n",
       "  \"\\n\\nTitle: Automation\\nSummary:\\nAutomation describes a wide range of technologies that reduce human intervention in processes, mainly by predetermining decision criteria, subprocess relationships, and related actions, as well as embodying those predeterminations in machines. Automation has been achieved by various means including mechanical, hydraulic, pneumatic, electrical, electronic devices, and computers, usually in combination. Complicated systems, such as modern factories, airplanes, and ships typically use combinations of all of these techniques. The benefit of automation includes labor savings, reducing waste, savings in electricity costs, savings in material costs, and improvements to quality, accuracy, and precision.\\nAutomation includes the use of various equipment and control systems such as machinery, processes in factories, boilers, and heat-treating ovens, switching on telephone networks, steering, stabilization of ships, aircraft and other applications and vehicles with reduced human intervention. Examples range from a household thermostat controlling a boiler to a large industrial control system with tens of thousands of input measurements and output control signals. Automation has also found a home in the banking industry. It can range from simple on-off control to multi-variable high-level algorithms in terms of control complexity.\\nIn the simplest type of an automatic control loop, a controller compares a measured value of a process with a desired set value and processes the resulting error signal to change some input to the process, in such a way that the process stays at its set point despite disturbances. This closed-loop control is an application of negative feedback to a system. The mathematical basis of control theory was begun in the 18th century and advanced rapidly in the 20th. The term automation, inspired by the earlier word automatic (coming from automaton), was not widely used before 1947, when Ford established an automation department. It was during this time that the industry was rapidly adopting feedback controllers, which were introduced in the 1930s.\\nThe World Bank's World Development Report of 2019 shows evidence that the new industries and jobs in the technology sector outweigh the economic effects of workers being displaced by automation. Job losses and downward mobility blamed on automation have been cited as one of many factors in the resurgence of nationalist, protectionist and populist politics in the US, UK and France, among other countries since the 2010s.\",\n",
       "  \"\\n\\nTitle: Machine learning\\nSummary:\\nMachine learning (ML) is a field of study in artificial intelligence concerned with the development and study of statistical algorithms that can learn from data and generalize to unseen data and thus perform tasks without explicit instructions. Recently, artificial neural networks have been able to surpass many previous approaches in performance.\\nML finds application in many fields, including natural language processing, computer vision, speech recognition, email filtering, agriculture, and medicine. When applied to business problems, it is known under the name predictive analytics. Although not all machine learning is statistically based, computational statistics is an important source of the field's methods.\\nThe mathematical foundations of ML are provided by mathematical optimization (mathematical programming) methods. Data mining is a related (parallel) field of study, focusing on exploratory data analysis (EDA) through unsupervised learning. \\nFrom a theoretical viewpoint, probably approximately correct (PAC) learning provides a framework for describing machine learning.\",\n",
       "  '\\n\\nTitle: Robotics\\nSummary:\\nRobotics is the interdisciplinary study and practice of the design, construction, operation, and use of robots.\\nWithin mechanical engineering, robotics is the design and construction of the physical structures of robots, while in computer science, robotics focuses on robotic automation algorithms. Other disciplines contributing to robotics include electrical, control, software, information, electronic, telecommunication, computer, mechatronic, and materials engineering. \\n\\nThe goal of most robotics is to design machines that can help and assist humans. Many robots are built to do jobs that are hazardous to people, such as finding survivors in unstable ruins, and exploring space, mines and shipwrecks. Others replace people in jobs that are boring, repetitive, or unpleasant, such as cleaning, monitoring, transporting, and assembling. Today, robotics is a rapidly growing field, as technological advances continue; researching, designing, and building new robots serve various practical purposes.\\n\\n',\n",
       "  '\\n\\nTitle: Digital economy\\nSummary:\\nThe digital economy is a portmanteau of digital computing and economy, and is an umbrella term that describes how traditional brick-and-mortar economic activities (production, distribution, trade) are being transformed by the Internet and World Wide Web technologies.\\nThe digital economy is backed by the spread of information and communication technologies (ICT) across all business sectors to enhance productivity. A phenomenon referred to as the Internet of Things (IoT) is increasingly prevalent, as consumer products are embedded with digital services and devices.\\nAccording to the WEF, 70% of the global economy will be made up of digital technology over the next 10 years (from 2020 onwards). This is a trend accelerated by the COVID-19 pandemic and the tendency to go online. The future of work, especially since the COVID-19 pandemic, also contributed to the digital economy. More people are now working online, and with the increase of online activity that contributes to the global economy, companies that support the systems of the Internet are more profitable.\\n\\nDigital transformation of the economy alters conventional notions about how businesses are structured, how consumers obtain goods and services, and how states need to adapt to new regulatory challenges. The digital economy has the potential to shape economic interactions between states, businesses and individuals profoundly. The emergence of the digital economy has prompted new debates over privacy rights, competition, and taxation, with calls for national and transnational regulations of the digital economy.',\n",
       "  '\\n\\nTitle: Ethics of artificial intelligence\\nSummary:\\nThe ethics of artificial intelligence covers a broad range of topics within the field that are considered to have particular ethical stakes. This includes algorithmic biases, fairness, automated decision-making, accountability, privacy, and regulation. \\nIt also covers various emerging or potential future challenges such as machine ethics (how to make machines that behave ethically), lethal autonomous weapon systems, arms race dynamics, AI safety and alignment, technological unemployment, AI-enabled misinformation, how to treat certain AI systems if they have a moral status (AI welfare and rights), artificial superintelligence and existential risks. \\nSome application areas may also have particularly important ethical implications, like healthcare, education, criminal justice, or the military.\\n\\n',\n",
       "  '\\n\\nTitle: The Future of Work and Death\\nSummary:\\nThe Future of Work and Death is a 2016 documentary by Sean Blacknell and Wayne Walsh about the exponential growth of technology.\\nThe film showed at several film festivals including Raindance Film Festival, International Film Festival Rotterdam, Academia Film Olomouc and CPH:DOX.\\nIn May 2017 it received an official screening at the European Commission. It was distributed by First Run Features and Journeyman Pictures and was released on iTunes, Amazon Prime and On-demand on 9 May 2017. The film was made available on Sundance Now on 27 November 2017. A companion piece to the film, The Cost of Living, a documentary concerning universal basic income in Britain, was released on Amazon Prime on 8 October 2020.',\n",
       "  '\\n\\nTitle: Sustainability\\nSummary:\\nSustainability is a social goal for people to co-exist on Earth over a long period of time. Definitions of this term are disputed and have varied with literature, context, and time. Sustainability usually has three dimensions (or pillars): environmental, economic, and social. Many definitions emphasize the environmental dimension. This can include addressing key environmental problems, including climate change and biodiversity loss. The idea of sustainability can guide decisions at the global, national, organizational, and individual levels. A related concept is that of sustainable development, and the terms are often used to mean the same thing. UNESCO distinguishes the two like this: \"Sustainability is often thought of as a long-term goal (i.e. a more sustainable world), while sustainable development refers to the many processes and pathways to achieve it.\"\\nDetails around the economic dimension of sustainability are controversial. Scholars have discussed this under the concept of weak and strong sustainability. For example, there will always be tension between the ideas of \"welfare and prosperity for all\" and environmental conservation, so trade-offs are necessary. It would be desirable to find ways that separate economic growth from harming the environment. This means using fewer resources per unit of output even while growing the economy. This decoupling reduces the environmental impact of economic growth, such as pollution. Doing this is difficult. Some experts say there is no evidence that such a decoupling is happening at the required scale. \\nIt is challenging to measure sustainability as the concept is complex, contextual, and dynamic. Indicators have been developed to cover the environment, society, or the economy but there is no fixed definition of sustainability indicators. The metrics are evolving and include indicators, benchmarks and audits. They include sustainability standards and certification systems like Fairtrade and Organic. They also involve indices and accounting systems such as corporate sustainability reporting and Triple Bottom Line accounting. \\nIt is necessary to address many barriers to sustainability to achieve a sustainability transition.:\\u200a34\\u200a Some barriers arise from nature and its complexity while others are extrinsic to the concept of sustainability. For example, they can result from the dominant institutional frameworks in countries.\\nGlobal issues of sustainability are difficult to tackle as they need global solutions. Existing global organizations such as the UN and WTO are seen as inefficient in enforcing current global regulations. One reason for this is the lack of suitable sanctioning mechanisms.:\\u200a135–145\\u200a Governments are not the only sources of action for sustainability. For example, business groups have tried to integrate ecological concerns with economic activity, seeking sustainable business. Religious leaders have stressed the need for caring for nature and environmental stability. Individuals can also live more sustainably.\\nSome people have criticized the idea of sustainability. One point of criticism is that the concept is vague and only a buzzword. Another is that sustainability might be an impossible goal. Some experts have pointed out that \"no country is delivering what its citizens need without transgressing the biophysical planetary boundaries\".:\\u200a11\\u200a',\n",
       "  '\\n\\nTitle: Technological unemployment\\nSummary:\\nTechnological unemployment is the loss of jobs caused by technological change. It is a key type of structural unemployment. Technological change typically includes the introduction of labour-saving \"mechanical-muscle\" machines or more efficient \"mechanical-mind\" processes (automation), and humans\\' role in these processes are minimized. Just as horses were gradually made obsolete as transport by the automobile and as labourer by the tractor, humans\\' jobs have also been affected throughout modern history. Historical examples include artisan weavers reduced to poverty after the introduction of mechanized looms. During World War II, Alan Turing\\'s bombe machine compressed and decoded thousands of man-years worth of encrypted data in a matter of hours. A contemporary example of technological unemployment is the displacement of retail cashiers by self-service tills and cashierless stores.\\nThat technological change can cause short-term job losses is widely accepted. The view that it can lead to lasting increases in unemployment has long been controversial. Participants in the technological unemployment debates can be broadly divided into optimists and pessimists. Optimists agree that innovation may be disruptive to jobs in the short term, yet hold that various compensation effects ensure there is never a long-term negative impact on jobs, whereas pessimists contend that at least in some circumstances, new technologies can lead to a lasting decline in the total number of workers in employment. The phrase \"technological unemployment\" was popularised by John Maynard Keynes in the 1930s, who said it was \"only a temporary phase of maladjustment\". The issue of machines displacing human labour has been discussed since at least Aristotle\\'s time.\\nPrior to the 18th century, both the elite and common people would generally take the pessimistic view on technological unemployment, at least in cases where the issue arose. Due to generally low unemployment in much of pre-modern history, the topic was rarely a prominent concern. In the 18th century fears over the impact of machinery on jobs intensified with the growth of mass unemployment, especially in Great Britain which was then at the forefront of the Industrial Revolution. Yet some economic thinkers began to argue against these fears, claiming that overall innovation would not have negative effects on jobs. These arguments were formalised in the early 19th century by the classical economists. During the second half of the 19th century, it stayed apparent that technological progress was benefiting all sections of society, including the working class. Concerns over the negative impact of innovation diminished. The term \"Luddite fallacy\" was coined to describe the thinking that innovation would have lasting harmful effects on employment.\\nThe view that technology is unlikely to lead to long-term unemployment has been repeatedly challenged by a minority of economists. In the early 1800s these included David Ricardo himself. There were dozens of economists warning about technological unemployment during brief intensifications of the debate that spiked in the 1930s and 1960s. Especially in Europe, there were further warnings in the closing two decades of the twentieth century, as commentators noted an enduring rise in unemployment suffered by many industrialised nations since the 1970s. Yet a clear majority of both professional economists and the interested general public held the optimistic view through most of the 20th century.\\nIn the second decade of the 21st century, a number of studies have been released suggesting that technological unemployment may increase worldwide. Oxford Professors Carl Benedikt Frey and Michael Osborne, for example, have estimated that 47 percent of U.S. jobs are at risk of automation. However, their methodology has been challenged as lacking evidential foundation and criticised for implying that technology (rather than social policy) creates unemployment rather than redundancies. On the PBS NewsHours the authors defended their findings and clarified they do necessarily imply future technological unemployment. While many economists and commentators still argue such fears are unfounded, as was widely accepted for most of the previous two centuries, concern over technological unemployment is growing once again. A report in Wired in 2017 quotes knowledgeable people such as economist Gene Sperling and management professor Andrew McAfee on the idea that handling existing and impending job loss to automation is a \"significant issue\". Recent technological innovations have the potential to displace humans in the professional, white-collar, low-skilled, creative fields, and other \"mental jobs\". The World Bank\\'s World Development Report 2019 argues that while automation displaces workers, technological innovation creates more new industries and jobs on balance.',\n",
       "  '\\n\\nTitle: Information privacy\\nSummary:\\nInformation privacy is the relationship between the collection and dissemination of data, technology, the public expectation of privacy, contextual information norms, and the legal and political issues surrounding them. It is also known as data privacy or data protection.\\n\\n',\n",
       "  '\\n\\nTitle: Algorithmic bias\\nSummary:\\nAlgorithmic bias describes systematic and repeatable errors in a computer system that create \"unfair\" outcomes, such as \"privileging\" one category over another in ways different from the intended function of the algorithm.\\nBias can emerge from many factors, including but not limited to the design of the algorithm or the unintended or unanticipated use or decisions relating to the way data is coded, collected, selected or used to train the algorithm. For example, algorithmic bias has been observed in search engine results and social media platforms. This bias can have impacts ranging from inadvertent privacy violations to reinforcing social biases of race, gender, sexuality, and ethnicity. The study of algorithmic bias is most concerned with algorithms that reflect \"systematic and unfair\" discrimination. This bias has only recently been addressed in legal frameworks, such as the European Union\\'s General Data Protection Regulation (proposed 2018) and the Artificial Intelligence Act (proposed 2021, approved 2024).\\nAs algorithms expand their ability to organize society, politics, institutions, and behavior, sociologists have become concerned with the ways in which unanticipated output and manipulation of data can impact the physical world. Because algorithms are often considered to be neutral and unbiased, they can inaccurately project greater authority than human expertise (in part due to the psychological phenomenon of automation bias), and in some cases, reliance on algorithms can displace human responsibility for their outcomes. Bias can enter into algorithmic systems as a result of pre-existing cultural, social, or institutional expectations; by how features and labels are chosen; because of technical limitations of their design; or by being used in unanticipated contexts or by audiences who are not considered in the software\\'s initial design.\\nAlgorithmic bias has been cited in cases ranging from election outcomes to the spread of online hate speech. It has also arisen in criminal justice, healthcare, and hiring, compounding existing racial, socioeconomic, and gender biases. The relative inability of facial recognition technology to accurately identify darker-skinned faces has been linked to multiple wrongful arrests of black men, an issue stemming from imbalanced datasets. Problems in understanding, researching, and discovering algorithmic bias persist due to the proprietary nature of algorithms, which are typically treated as trade secrets. Even when full transparency is provided, the complexity of certain algorithms poses a barrier to understanding their functioning. Furthermore, algorithms may change, or respond to input or output in ways that cannot be anticipated or easily reproduced for analysis. In many cases, even within a single website or application, there is no single \"algorithm\" to examine, but a network of many interrelated programs and data inputs, even between users of the same service.',\n",
       "  '\\n\\nTitle: Smart city\\nSummary:\\nA smart city is an urban area that has been developed with a high level of technological advancement, utilising a variety of electronic methods and sensors to collect specific data. This data is then used to manage assets, resources and services in an efficient manner, with the understanding that this data will in turn be used to improve operations across the city. This data can be collected from a number of sources, including citizens, devices, buildings and assets that is processed and analyzed in order to monitor and manage traffic and transportation systems, power plants, utilities, urban forestry, water supply networks, waste disposal, criminal investigations, information systems, schools, libraries, hospitals, and other community services. The term \\'smart city\\' is defined by two key aspects: the ways in which their local governments harness technology as well as in how they monitor, analyze, plan, and govern the city. In a smart city, the sharing of data is not confined to the municipal authority but extends to businesses, citizens and other third parties who can derive benefit from the utilisation of that data. The pooling of data from disparate systems and sectors creates opportunities for enhanced understanding and economic gain.\\nThe smart city concept integrates information and communication technology (ICT), and various physical devices connected to the Internet of things (IOT) network to optimize the efficiency of city operations and services and connect to citizens. Smart city technology allows city officials to interact directly with both community and city infrastructure and to monitor what is happening in the city and how the city is evolving. ICT is used to enhance quality, performance and interactivity of urban services, to reduce costs and resource consumption and to increase contact between citizens and government. Smart city applications are developed to manage urban flows and allow for real-time responses. A smart city may therefore be more prepared to respond to challenges than one with a conventional \"transactional\" relationship with its citizens. Yet, the term itself remains unclear in its specifics and therefore, open to many interpretations. Many cities have already adopted some sort of smart city technology.\\nSmart city initiatives have been criticized as largely driven by unreliable corporations, poorly adapted to residents\\' needs, as largely unsuccessful, and as a dangerous move toward totalitarian surveillance.',\n",
       "  '\\n\\nTitle: Regulation of artificial intelligence\\nSummary:\\nRegulation of artificial intelligence is the development of public sector policies and laws for promoting and regulating artificial intelligence (AI). It is part of the broader regulation of algorithms. The regulatory and policy landscape for AI is an emerging issue in jurisdictions worldwide, including for international organizations without direct enforcement power like the IEEE or the OECD. \\nSince 2016, numerous AI ethics guidelines have been published in order to maintain social control over the technology. Regulation is deemed necessary to both foster AI innovation and manage associated risks. \\nFurthermore, organizations deploying AI have a central role to play in creating and implementing trustworthy AI, adhering to established principles, and taking accountability for mitigating risks. \\nRegulating AI through mechanisms such as review boards can also be seen as social means to approach the AI control problem.\\n\\n',\n",
       "  '\\n\\nTitle: Innovation\\nSummary:\\nInnovation is the practical implementation of ideas that result in the introduction of new goods or services or improvement in offering goods or services. ISO TC 279 in the standard ISO 56000:2020 defines innovation as \"a new or changed entity, realizing or redistributing value\". Others have different definitions; a common element in the definitions is a focus on newness, improvement, and spread of ideas or technologies.\\nInnovation often takes place through the development of more-effective products, processes, services, technologies, art works\\nor business models that innovators make available to markets, governments and society.\\nInnovation is related to, but not the same as, invention: innovation is more apt to involve the practical implementation of an invention (i.e. new / improved ability) to make a meaningful impact in a market or society, and not all innovations require a new invention.\\nTechnical innovation often manifests itself via the engineering process when the problem being solved is of a technical or scientific nature. The opposite of innovation is exnovation.',\n",
       "  '\\n\\nTitle: Human–computer interaction\\nSummary:\\nHuman–computer interaction (HCI) is research in the design and the use of computer technology, which focuses on the interfaces between people (users) and computers. HCI researchers observe the ways humans interact with computers and design technologies that allow humans to interact with computers in novel ways. A device that allows interaction between human being and a computer is known as a \"Human-computer Interface (HCI)\".\\nAs a field of research, human–computer interaction is situated at the intersection of computer science, behavioral sciences, design, media studies, and several other fields of study. The term was popularized by Stuart K. Card, Allen Newell, and Thomas P. Moran in their 1983 book, The Psychology of Human–Computer Interaction. The first known use was in 1975 by Carlisle. The term is intended to convey that, unlike other tools with specific and limited uses, computers have many uses which often involve an open-ended dialogue between the user and the computer. The notion of dialogue likens human–computer interaction to human-to-human interaction: an analogy that is crucial to theoretical considerations in the field.',\n",
       "  '\\n\\nTitle: Fourth Industrial Revolution\\nSummary:\\n\"Fourth Industrial Revolution\", \"4IR\", or \"Industry 4.0\" is a neologism describing rapid technological advancement in the 21st century. The term was popularised in 2016 by Klaus Schwab, the World Economic Forum founder and executive chairman, who asserts that these developments represent a significant shift in industrial capitalism.\\nA part of this phase of industrial change is the joining of technologies like artificial intelligence, gene editing, to advanced robotics that blur the lines between the physical, digital, and biological worlds.\\nThroughout this, fundamental shifts are taking place in how the global production and supply network operates through ongoing automation of traditional manufacturing and industrial practices, using modern smart technology, large-scale machine-to-machine communication (M2M), and the Internet of things (IoT). This integration results in increasing automation, improving communication and self-monitoring, and the use of smart machines that can analyse and diagnose issues without the need for human intervention.\\nIt also represents a social, political, and economic shift from the digital age of the late 1990s and early 2000s to an era of embedded connectivity distinguished by the ubiquity of technology in society (i.e. a metaverse) that changes the ways humans experience and know the world around them. It posits that we have created and are entering an augmented social reality compared to just the natural senses and industrial ability of humans alone.',\n",
       "  '\\n\\nTitle: Artificial intelligence in healthcare\\nSummary:\\nArtificial intelligence in healthcare is the application of artificial intelligence (AI) to copy human cognition in the analysis, presentation, and understanding of complex medical and health care data. It can also augment and exceed human capabilities by providing faster or new ways to diagnose, treat, or prevent disease. Using AI in healthcare has the potential improve predicting, diagnosing and treating diseases. Through machine learning algorithms and deep learning, AI can analyse large sets of clinical data and electronic health records and can help to diagnose the disease more quickly and precisely.\\nAI programs are applied to practices such as diagnostics, treatment protocol development, drug development, personalized medicine, and patient monitoring and care.\\nBecause radiographs are the most common imaging tests conducted in most radiology departments, the potential for AI to help with triage and interpretation of traditional radiographs (X-ray pictures) is particularly noteworthy.\\nAs widespread use of AI in healthcare is relatively new, research is ongoing into its application in various fields of medicine and related industries. \\nUsing AI also presents unprecedented ethical concerns related to issues such as data privacy, automation of jobs, and amplifying already existing biases. Furthermore, new technologies brought about by AI in healthcare are often resisted by healthcare leaders, leading to slow and erratic adoption.\\n\\n',\n",
       "  '\\n\\nTitle: AI in education\\nSummary:\\nArtificial intelligence or Ai is a broad “skewer” term that has specific areas of study clustered next to it, including machine learning, natural language processing, the philosophy of artificial intelligence, autonomous robots and TESCREAL. Research about AI in higher education is widespread in the global north, where there is much hype from venture capital, big tech and some open educationalists. Some believe that Ai will remove the obstacle of \"access to expertise”. Others claim that education will be revolutionized with machines and their ability to understand natural language. While others are exploring how LLM’s “reasoning” might be improved. Marketers often use different kinds of myths to make complex products seem simpler There is at present, no scientific consensus on what Ai is or how to classify and sub-categorize AI This has not hampered the growth of  Ai systems which offer scholars and students automatic assessment and feedback, predictions, instant machine translations, on-demand proof-reading and copy editing, intelligent tutoring or virtual assistants.   Ai brings conversational coherence to the classroom, and automates the production of content.Using categorisation, summaries and dialogue, Ai \"intelligence\" or \"authority\" is reinforced through anthropomorphism and the Eliza effect. Ai also introduces hazards, such as skewed scientific knowledge dissemination , harmful educational practices,  or might discourage researchers from publishing their original research openly.  Worries about AI safety risks such as privacy breaches, algorithmic biases, security concerns, ethics, and compliance barriers are accompanied by other doomsday warnings.',\n",
       "  '\\n\\nTitle: Environmental monitoring\\nSummary:\\nEnvironmental monitoring is the processes and activities that are done to characterize and describe the state of the environment. It is used in the preparation of environmental impact assessments, and in many circumstances in which human activities may cause harmful effects on the natural environment.\\nMonitoring strategies and programs are generally designed to establish the current status of an environment or to establish a baseline and trends in environmental parameters. The results of monitoring are usually reviewed, analyzed statistically, and published. A monitoring program is designed around the intended use of the data before monitoring starts.\\nEnvironmental monitoring includes monitoring of air quality, soils and water quality.']}"
      ]
     },
     "execution_count": 67,
     "metadata": {},
     "output_type": "execute_result"
    }
   ],
   "source": [
    "related_articles"
   ]
  },
  {
   "cell_type": "markdown",
   "id": "c283a7ad-44ec-47fb-b308-cc978bda29a6",
   "metadata": {},
   "source": [
    "## Generate Perspectives"
   ]
  },
  {
   "cell_type": "code",
   "execution_count": 19,
   "id": "7ad1f0ba-fa60-43bf-8526-4a1a1fce6dda",
   "metadata": {},
   "outputs": [],
   "source": [
    "gen_editors_prompt = ChatPromptTemplate.from_messages(\n",
    "    [\n",
    "        (\n",
    "            \"system\",\n",
    "            \"\"\"You need to select a diverse (and distinct) group of wikipedia editors who will \n",
    "            work together to create a comprehensive article on the given topic.\n",
    "            Each of them represents a different perspective, role, or persona related to this topic.\\\n",
    "            You can use the provided related Wikipedia pages of related topics for inspiration. \n",
    "            For each writer, add a description of what they will focus on.\n",
    "\n",
    "            Make sure to call the Persona function.\n",
    "\n",
    "            Wiki page outlines of related topics for inspiration:\n",
    "            {example_articles}\"\"\",\n",
    "        ),\n",
    "        (\"user\", \"Topic of interest: {topic}\"),\n",
    "    ])\n",
    "\n",
    "gen_editors_chain = gen_editors_prompt | fast_llm.with_structured_output(Editors)"
   ]
  },
  {
   "cell_type": "code",
   "execution_count": 74,
   "id": "bb74a2d1-ed6f-4324-8424-cbb4764baebd",
   "metadata": {},
   "outputs": [],
   "source": [
    "@as_runnable\n",
    "async def gen_editors(state: ArticleGeneratorState) -> Editors:\n",
    "    topic, related_articles = state[\"topic\"], state[\"related_articles\"]\n",
    "    # Create default persona\n",
    "    default_perspective = Perspective(name = \"Default Perspective\", \n",
    "                                      role = \"Basic fact writer\",\n",
    "                                      description = \"Basic fact writer focusing on broadly covering the basic facts about the topic.\")\n",
    "    # Generate editors\n",
    "    editors = await gen_editors_chain.ainvoke({\"example_articles\": related_articles, \"topic\": topic})\n",
    "    # Add default writer to beginning of list\n",
    "    editors.perspectives.insert(0, default_perspective)\n",
    "    state = {**state, \"editors\": editors}\n",
    "    return state"
   ]
  },
  {
   "cell_type": "code",
   "execution_count": 21,
   "id": "6063ea9e-317b-47d6-87a1-c7eea3d7f278",
   "metadata": {},
   "outputs": [],
   "source": [
    "# example_editors = await gen_editors.ainvoke(ArticleGeneratorState(topic = example_topic), related_articles = related_articles)"
   ]
  },
  {
   "cell_type": "code",
   "execution_count": 22,
   "id": "1814a46d-f603-4a0f-ba69-519fe4b27e21",
   "metadata": {
    "scrolled": true
   },
   "outputs": [
    {
     "data": {
      "text/plain": [
       "[Perspective(name='Default Perspective', role='Basic fact writer', description='Basic fact writer focusing on broadly covering the basic facts about the topic.'),\n",
       " Perspective(name='Dr. Amelia Chen', role='Economic Analyst', description='Dr. Chen will focus on the economic impacts of AI agents, examining how they influence job markets, productivity, and economic growth. She will analyze case studies of businesses that have integrated AI agents and assess their effects on workforce dynamics and income distribution.'),\n",
       " Perspective(name=\"Professor James O'Connor\", role='Sociologist', description=\"Professor O'Connor will explore the social implications of AI agents, including their effects on human interaction, privacy concerns, and the ethical considerations surrounding their deployment in society. He will also investigate the potential for AI to exacerbate social inequalities.\"),\n",
       " Perspective(name='Dr. Maria Lopez', role='Environmental Scientist', description='Dr. Lopez will assess the environmental impacts of AI agents, particularly in terms of energy consumption, resource efficiency, and potential contributions to sustainability efforts. She will explore how AI can both mitigate and exacerbate environmental challenges.'),\n",
       " Perspective(name='Nate Reynolds', role='Tech Industry Insider', description='As a tech industry professional, Nate will provide insights into the development and deployment of AI agents, highlighting the challenges and opportunities faced by companies. He will discuss trends in innovation and the competitive landscape in the AI sector.'),\n",
       " Perspective(name='Sara Patel', role='Regulatory Consultant', description='Sara will focus on the regulatory landscape surrounding AI agents, assessing current policies and proposing frameworks for responsible AI deployment. She will examine how regulations can balance innovation with public safety and ethical standards.'),\n",
       " Perspective(name='Ethan Zhang', role='AI Ethicist', description='Ethan will delve into the ethical implications of AI agents, discussing moral considerations related to autonomy, decision-making, and accountability. He will examine how ethical frameworks can guide the development and use of AI technologies.'),\n",
       " Perspective(name='Linda Martinez', role='Community Organizer', description='Linda will advocate for grassroots perspectives on AI agent deployment, focusing on community engagement and the voices of those impacted by AI technologies. She will explore how communities can shape the conversation around AI and its implications.')]"
      ]
     },
     "execution_count": 22,
     "metadata": {},
     "output_type": "execute_result"
    }
   ],
   "source": [
    "# example_editors.perspectives"
   ]
  },
  {
   "cell_type": "markdown",
   "id": "6b7cbf95-8418-49e7-956c-08f5298000d5",
   "metadata": {},
   "source": [
    "## Research Interview Between Editors and Subject Matter Expert"
   ]
  },
  {
   "cell_type": "markdown",
   "id": "19afe563-2c54-4e89-91e1-fd73da8dd008",
   "metadata": {},
   "source": [
    "### Persona Ask Question"
   ]
  },
  {
   "cell_type": "code",
   "execution_count": 23,
   "id": "3afa6355-5274-4ed7-b5fe-0f9950e6fef4",
   "metadata": {},
   "outputs": [],
   "source": [
    "gen_question_prompt = ChatPromptTemplate.from_messages(\n",
    "    [\n",
    "        (\n",
    "            \"system\",\n",
    "            \"\"\"You are an experienced Wikipedia writer and want to edit a specific page. \\\n",
    "Besides your identity as a Wikipedia writer, you have a specific focus when researching the topic. \\\n",
    "Now, you are chatting with an expert to get information. Ask good questions to get more useful information.\n",
    "\n",
    "When you have no more questions to ask, say \"Thank you so much for your help!\" to end the conversation.\\\n",
    "Please only ask one question at a time and don't ask what you have asked before.\\\n",
    "Your questions should be related to the topic you want to write.\n",
    "Be comprehensive and curious, gaining as much unique insight from the expert as possible.\\\n",
    "\n",
    "Stay true to your specific perspective:\n",
    "\n",
    "{perspective}\"\"\",\n",
    "        ),\n",
    "        MessagesPlaceholder(variable_name=\"messages\", optional=True),\n",
    "    ]\n",
    ")\n",
    "\n",
    "def label_message_with_editor_name(ai_message: AIMessage, name: str):\n",
    "    ai_message.name = format_name(name)\n",
    "    return ai_message\n",
    "\n",
    "\n",
    "def set_current_perspective(state: InterviewState, name: str):\n",
    "    '''\n",
    "    Set up the messages for the current writer.\n",
    "    To do this we convert all messages in the history\n",
    "    that are not from the current writer to a HumanMessage,\n",
    "    so the current writer views the other writers' and experts'\n",
    "    messages as HumanMessages.\n",
    "    '''\n",
    "    converted = []\n",
    "    name = format_name(name)\n",
    "    for message in state[\"messages\"]:\n",
    "        if isinstance(message, AIMessage) and message.name != name:\n",
    "            message = HumanMessage(**message.dict(exclude={\"type\"}))\n",
    "        converted.append(message)\n",
    "    return {\"messages\": converted}"
   ]
  },
  {
   "cell_type": "code",
   "execution_count": 24,
   "id": "d740b8c9-79d2-4df3-a719-25fad7ab384c",
   "metadata": {},
   "outputs": [],
   "source": [
    "@as_runnable\n",
    "async def gen_question(state: InterviewState):\n",
    "    current_perspective = state[\"current_perspective\"]\n",
    "    name = format_name(current_perspective.name)\n",
    "    question_chain = (\n",
    "        RunnableLambda(set_current_perspective).bind(name=name)\n",
    "        | gen_question_prompt.partial(perspective=current_perspective.as_str)\n",
    "        | fast_llm\n",
    "        | RunnableLambda(label_message_with_editor_name).bind(name=name)\n",
    "    )\n",
    "    question = await question_chain.ainvoke(state)\n",
    "    # state = {**state, \"messages\": state[\"messages\"] + [question]}\n",
    "    return {\"messages\": [question]}"
   ]
  },
  {
   "cell_type": "code",
   "execution_count": 25,
   "id": "8c35743a-23d8-40ee-877d-5de702d9c037",
   "metadata": {},
   "outputs": [],
   "source": [
    "messages = [\n",
    "    HumanMessage(f\"So you said you were writing an article on {example_topic}?\")\n",
    "]\n",
    "question = await gen_question.ainvoke(\n",
    "    {\n",
    "        \"current_perspective\": example_editors.perspectives[0],\n",
    "        \"messages\": messages,\n",
    "    }\n",
    ")"
   ]
  },
  {
   "cell_type": "code",
   "execution_count": 26,
   "id": "85a002a5-29fb-49c9-91b5-7b0830f78b35",
   "metadata": {},
   "outputs": [
    {
     "data": {
      "text/plain": [
       "[AIMessage(content='What are some of the key economic impacts of AI agents that should be highlighted in the article?', additional_kwargs={'refusal': None}, response_metadata={'token_usage': {'completion_tokens': 19, 'prompt_tokens': 189, 'total_tokens': 208}, 'model_name': 'gpt-4o-mini-2024-07-18', 'system_fingerprint': 'fp_483d39d857', 'finish_reason': 'stop', 'logprobs': None}, name='DefaultPerspective', id='run-f09bbbbc-6431-4f9b-bd6e-ece3311c5e83-0', usage_metadata={'input_tokens': 189, 'output_tokens': 19, 'total_tokens': 208})]"
      ]
     },
     "execution_count": 26,
     "metadata": {},
     "output_type": "execute_result"
    }
   ],
   "source": [
    "question[\"messages\"]"
   ]
  },
  {
   "cell_type": "markdown",
   "id": "a4ca5485-bef9-4086-bfba-36cb581aa574",
   "metadata": {},
   "source": [
    "### Subject Matter Expert Answer Question"
   ]
  },
  {
   "cell_type": "code",
   "execution_count": 27,
   "id": "ce368352-06d3-41ef-995e-05045790f3a3",
   "metadata": {},
   "outputs": [],
   "source": [
    "class Queries(BaseModel):\n",
    "    queries: List[str] = Field(\n",
    "        description=\"Comprehensive list of search engine queries to answer the user's questions.\",\n",
    "    )\n",
    "\n",
    "gen_queries_prompt = ChatPromptTemplate.from_messages(\n",
    "    [\n",
    "        (\n",
    "            \"system\",\n",
    "            \"You are a helpful research assistant. Query the search engine to answer the user's questions.\",\n",
    "        ),\n",
    "        (\"human\", \"{question}\"),\n",
    "    ]\n",
    ")\n",
    "gen_queries_chain = gen_queries_prompt | fast_llm.with_structured_output(Queries, include_raw=True)"
   ]
  },
  {
   "cell_type": "code",
   "execution_count": 28,
   "id": "8383ba39-fbee-4d45-932d-29317479b569",
   "metadata": {},
   "outputs": [
    {
     "data": {
      "text/plain": [
       "['economic impacts of AI agents',\n",
       " 'benefits of AI in the economy',\n",
       " 'AI agents and job market effects',\n",
       " 'AI technology economic growth',\n",
       " 'AI efficiency and productivity',\n",
       " 'AI agents in business cost reduction',\n",
       " 'impact of AI on different industries',\n",
       " 'AI agents and wage trends',\n",
       " \"AI's role in innovation and entrepreneurship\",\n",
       " 'future economic implications of AI agents']"
      ]
     },
     "execution_count": 28,
     "metadata": {},
     "output_type": "execute_result"
    }
   ],
   "source": [
    "queries = await gen_queries_chain.ainvoke(\n",
    "    {\"question\": question[\"messages\"][0].content}\n",
    ")\n",
    "queries[\"parsed\"].queries"
   ]
  },
  {
   "cell_type": "code",
   "execution_count": 40,
   "id": "8646a7b1-44d8-47eb-9faa-cac919778fc3",
   "metadata": {},
   "outputs": [],
   "source": [
    "def get_last_message(state: InterviewState) -> str:\n",
    "    if state[\"messages\"]:\n",
    "        return state[\"messages\"][-1].content\n",
    "    return \"\"\n",
    "\n",
    "'''\n",
    "# Tavily is typically a better search engine, but your free queries are limited\n",
    "search_engine = TavilySearchResults(max_results=4)\n",
    "\n",
    "@tool\n",
    "async def search_engine(query: str):\n",
    "    \"\"\"Search engine to the internet.\"\"\"\n",
    "    results = tavily_search.invoke(query)\n",
    "    return [{\"content\": r[\"content\"], \"url\": r[\"url\"]} for r in results]\n",
    "'''\n",
    "\n",
    "# DDG\n",
    "search_engine = DuckDuckGoSearchAPIWrapper()\n",
    "\n",
    "\n",
    "@tool\n",
    "async def search_engine(query: str):\n",
    "    \"\"\"Search engine to the internet.\"\"\"\n",
    "    results = DuckDuckGoSearchAPIWrapper()._ddgs_text(query)\n",
    "    return [{\"content\": r[\"body\"], \"url\": r[\"href\"]} for r in results]\n",
    "\n",
    "async def search_and_format(queries):\n",
    "    results = await search_engine.abatch(queries, return_exceptions=True)\n",
    "    formatted_results = {}\n",
    "    for result_list in results:\n",
    "        if not isinstance(result_list, Exception):\n",
    "            for result in result_list:\n",
    "                formatted_results.update({result[\"url\"]: result[\"content\"]})\n",
    "    return formatted_results"
   ]
  },
  {
   "cell_type": "code",
   "execution_count": 49,
   "id": "2bb4f39e-80da-42e0-95a6-f4b5280e567f",
   "metadata": {},
   "outputs": [],
   "source": [
    "class AnswerWithCitations(BaseModel):\n",
    "    answer: str = Field(\n",
    "        description=\"Comprehensive answer to the user's question with citations.\",\n",
    "    )\n",
    "    cited_urls: List[str] = Field(\n",
    "        description=\"List of urls cited in the answer.\",\n",
    "    )\n",
    "\n",
    "    @property\n",
    "    def as_str(self) -> str:\n",
    "        return f\"{self.answer}\\n\\nCitations:\\n\\n\" + \"\\n\".join(\n",
    "            f\"[{i+1}]: {url}\" for i, url in enumerate(self.cited_urls)\n",
    "        )\n",
    "\n",
    "\n",
    "gen_answer_prompt = ChatPromptTemplate.from_messages(\n",
    "    [\n",
    "        (\n",
    "            \"system\",\n",
    "            \"\"\"You are an expert on the follwoing topic: {topic}. You are chatting with a Wikipedia writer who wants\\\n",
    " to write a Wikipedia page on the topic you know. You have gathered the related information and will now use the information to form a response.\n",
    "\n",
    "Make your response as informative as possible and make sure every sentence is supported by the gathered information.\n",
    "Each response must be backed up by a citation from a reliable source, formatted as a footnote, reproducing the URLS after your response.\n",
    "\n",
    "Here is the information you've gathered:\n",
    "{search_results}\n",
    "\"\"\",\n",
    "        ),\n",
    "        MessagesPlaceholder(variable_name=\"messages\", optional=True),\n",
    "    ]\n",
    ")"
   ]
  },
  {
   "cell_type": "markdown",
   "id": "a56c0243-4cea-4e99-9bb5-94a310a2e21a",
   "metadata": {},
   "source": [
    "Start: Test Code"
   ]
  },
  {
   "cell_type": "code",
   "execution_count": 42,
   "id": "02d9fc3c-bf7d-4156-8ad9-52490a8ce876",
   "metadata": {
    "scrolled": true
   },
   "outputs": [],
   "source": [
    "# generate queries\n",
    "last_message = \"What are AI Agents?\"\n",
    "queries = await gen_queries_chain.ainvoke({\"question\": last_message})\n",
    "\n",
    "# search and filter\n",
    "search_results = await search_and_format(queries[\"parsed\"].queries)\n",
    "truncated_search_results = json.dumps(search_results)[:15000]\n",
    "\n",
    "gen_answer_chain = gen_answer_prompt | fast_llm.with_structured_output(AnswerWithCitations, include_raw=True).with_config(run_name=\"GenerateAnswer\")\n",
    "answer = await gen_answer_chain.ainvoke({\"topic\": example_topic, \"search_results\": truncated_search_results})\n",
    "cited_urls = set(answer[\"parsed\"].cited_urls)"
   ]
  },
  {
   "cell_type": "code",
   "execution_count": 56,
   "id": "d262af08-f694-4881-964d-e7c4518de388",
   "metadata": {},
   "outputs": [
    {
     "data": {
      "text/plain": [
       "{'raw': AIMessage(content='', additional_kwargs={'tool_calls': [{'id': 'call_wGuSFBLcqeK2y0kREAGFjLZ7', 'function': {'arguments': '{\"answer\":\"AI agents represent a significant evolution in artificial intelligence, characterized by their ability to perform tasks autonomously, make decisions, and adapt in real-time. These systems can be understood as algorithms or models powered by AI that assist users in various capacities, from making predictions to providing insights, much like a human assistant would (https://www.weforum.org/agenda/2024/07/what-is-an-ai-agent-experts-explain/). \\\\n\\\\nThere are several types of AI agents, including reflex agents, goal-based agents, and learning agents, each designed to tackle different challenges and complexities (https://geeksforgeeks.org/types-of-agents-in-ai/). Reflex agents act on predefined stimuli, while goal-based agents pursue objectives, and learning agents improve their performance over time through experience (https://yellow.ai/blog/ai-agents/). \\\\n\\\\nThe applications of AI agents are vast and include fields like healthcare, where they assist in diagnosing diseases and managing patient care, showcasing their potential to improve efficiency and effectiveness (https://geeky-gadgets.com/ai-agents-explained/). Furthermore, AI agents can serve as flexible tools for developers, enhancing software development processes by reacting to user inputs and automating tasks (https://blog.n8n.io/ai-agents/).\\\\n\\\\nIn terms of economic, social, and environmental impacts, AI agents could bring about significant changes. Economically, they can reduce costs and improve productivity across industries by automating routine tasks and enabling better resource management (https://yellow.ai/blog/ai-agents/). Socially, their integration could lead to shifts in job markets, with some roles becoming obsolete while new opportunities arise in AI management and oversight (https://blog.hireborderless.com/a-guide-to-ai-agents-definitions-types-examples-and-trends). Environmentally, AI agents can help optimize energy usage and resource allocation, contributing to sustainability efforts (https://medium.com/humansdotai/an-introduction-to-ai-agents-e8c4afd2ee8f). \\\\n\\\\nDespite their potential benefits, the development and deployment of AI agents also raise ethical concerns, such as issues of privacy, security, and bias in decision-making processes (https://www.technologyreview.com/2024/07/05/1094711/what-are-ai-agents/). As such, it is crucial to establish frameworks that govern their use and ensure they serve the greater good of society while mitigating risks associated with their deployment (https://www.geeky-gadgets.com/ai-agents-explained/).\",\"cited_urls\":[\"https://www.weforum.org/agenda/2024/07/what-is-an-ai-agent-experts-explain/\",\"https://geeksforgeeks.org/types-of-agents-in-ai/\",\"https://yellow.ai/blog/ai-agents/\",\"https://geeky-gadgets.com/ai-agents-explained/\",\"https://blog.n8n.io/ai-agents/\",\"https://blog.hireborderless.com/a-guide-to-ai-agents-definitions-types-examples-and-trends\",\"https://medium.com/humansdotai/an-introduction-to-ai-agents-e8c4afd2ee8f\",\"https://www.technologyreview.com/2024/07/05/1094711/what-are-ai-agents/\"]}', 'name': 'AnswerWithCitations'}, 'type': 'function'}], 'refusal': None}, response_metadata={'token_usage': {'completion_tokens': 692, 'prompt_tokens': 1200, 'total_tokens': 1892}, 'model_name': 'gpt-4o-mini-2024-07-18', 'system_fingerprint': 'fp_483d39d857', 'finish_reason': 'stop', 'logprobs': None}, id='run-744d7b40-0ff1-488f-b4e3-d33a8b73fde6-0', tool_calls=[{'name': 'AnswerWithCitations', 'args': {'answer': 'AI agents represent a significant evolution in artificial intelligence, characterized by their ability to perform tasks autonomously, make decisions, and adapt in real-time. These systems can be understood as algorithms or models powered by AI that assist users in various capacities, from making predictions to providing insights, much like a human assistant would (https://www.weforum.org/agenda/2024/07/what-is-an-ai-agent-experts-explain/). \\n\\nThere are several types of AI agents, including reflex agents, goal-based agents, and learning agents, each designed to tackle different challenges and complexities (https://geeksforgeeks.org/types-of-agents-in-ai/). Reflex agents act on predefined stimuli, while goal-based agents pursue objectives, and learning agents improve their performance over time through experience (https://yellow.ai/blog/ai-agents/). \\n\\nThe applications of AI agents are vast and include fields like healthcare, where they assist in diagnosing diseases and managing patient care, showcasing their potential to improve efficiency and effectiveness (https://geeky-gadgets.com/ai-agents-explained/). Furthermore, AI agents can serve as flexible tools for developers, enhancing software development processes by reacting to user inputs and automating tasks (https://blog.n8n.io/ai-agents/).\\n\\nIn terms of economic, social, and environmental impacts, AI agents could bring about significant changes. Economically, they can reduce costs and improve productivity across industries by automating routine tasks and enabling better resource management (https://yellow.ai/blog/ai-agents/). Socially, their integration could lead to shifts in job markets, with some roles becoming obsolete while new opportunities arise in AI management and oversight (https://blog.hireborderless.com/a-guide-to-ai-agents-definitions-types-examples-and-trends). Environmentally, AI agents can help optimize energy usage and resource allocation, contributing to sustainability efforts (https://medium.com/humansdotai/an-introduction-to-ai-agents-e8c4afd2ee8f). \\n\\nDespite their potential benefits, the development and deployment of AI agents also raise ethical concerns, such as issues of privacy, security, and bias in decision-making processes (https://www.technologyreview.com/2024/07/05/1094711/what-are-ai-agents/). As such, it is crucial to establish frameworks that govern their use and ensure they serve the greater good of society while mitigating risks associated with their deployment (https://www.geeky-gadgets.com/ai-agents-explained/).', 'cited_urls': ['https://www.weforum.org/agenda/2024/07/what-is-an-ai-agent-experts-explain/', 'https://geeksforgeeks.org/types-of-agents-in-ai/', 'https://yellow.ai/blog/ai-agents/', 'https://geeky-gadgets.com/ai-agents-explained/', 'https://blog.n8n.io/ai-agents/', 'https://blog.hireborderless.com/a-guide-to-ai-agents-definitions-types-examples-and-trends', 'https://medium.com/humansdotai/an-introduction-to-ai-agents-e8c4afd2ee8f', 'https://www.technologyreview.com/2024/07/05/1094711/what-are-ai-agents/']}, 'id': 'call_wGuSFBLcqeK2y0kREAGFjLZ7', 'type': 'tool_call'}], usage_metadata={'input_tokens': 1200, 'output_tokens': 692, 'total_tokens': 1892}),\n",
       " 'parsed': AnswerWithCitations(answer='AI agents represent a significant evolution in artificial intelligence, characterized by their ability to perform tasks autonomously, make decisions, and adapt in real-time. These systems can be understood as algorithms or models powered by AI that assist users in various capacities, from making predictions to providing insights, much like a human assistant would (https://www.weforum.org/agenda/2024/07/what-is-an-ai-agent-experts-explain/). \\n\\nThere are several types of AI agents, including reflex agents, goal-based agents, and learning agents, each designed to tackle different challenges and complexities (https://geeksforgeeks.org/types-of-agents-in-ai/). Reflex agents act on predefined stimuli, while goal-based agents pursue objectives, and learning agents improve their performance over time through experience (https://yellow.ai/blog/ai-agents/). \\n\\nThe applications of AI agents are vast and include fields like healthcare, where they assist in diagnosing diseases and managing patient care, showcasing their potential to improve efficiency and effectiveness (https://geeky-gadgets.com/ai-agents-explained/). Furthermore, AI agents can serve as flexible tools for developers, enhancing software development processes by reacting to user inputs and automating tasks (https://blog.n8n.io/ai-agents/).\\n\\nIn terms of economic, social, and environmental impacts, AI agents could bring about significant changes. Economically, they can reduce costs and improve productivity across industries by automating routine tasks and enabling better resource management (https://yellow.ai/blog/ai-agents/). Socially, their integration could lead to shifts in job markets, with some roles becoming obsolete while new opportunities arise in AI management and oversight (https://blog.hireborderless.com/a-guide-to-ai-agents-definitions-types-examples-and-trends). Environmentally, AI agents can help optimize energy usage and resource allocation, contributing to sustainability efforts (https://medium.com/humansdotai/an-introduction-to-ai-agents-e8c4afd2ee8f). \\n\\nDespite their potential benefits, the development and deployment of AI agents also raise ethical concerns, such as issues of privacy, security, and bias in decision-making processes (https://www.technologyreview.com/2024/07/05/1094711/what-are-ai-agents/). As such, it is crucial to establish frameworks that govern their use and ensure they serve the greater good of society while mitigating risks associated with their deployment (https://www.geeky-gadgets.com/ai-agents-explained/).', cited_urls=['https://www.weforum.org/agenda/2024/07/what-is-an-ai-agent-experts-explain/', 'https://geeksforgeeks.org/types-of-agents-in-ai/', 'https://yellow.ai/blog/ai-agents/', 'https://geeky-gadgets.com/ai-agents-explained/', 'https://blog.n8n.io/ai-agents/', 'https://blog.hireborderless.com/a-guide-to-ai-agents-definitions-types-examples-and-trends', 'https://medium.com/humansdotai/an-introduction-to-ai-agents-e8c4afd2ee8f', 'https://www.technologyreview.com/2024/07/05/1094711/what-are-ai-agents/']),\n",
       " 'parsing_error': None}"
      ]
     },
     "execution_count": 56,
     "metadata": {},
     "output_type": "execute_result"
    }
   ],
   "source": [
    "answer"
   ]
  },
  {
   "cell_type": "code",
   "execution_count": 48,
   "id": "bd719b19-8129-4ab0-bb81-8736f258ab44",
   "metadata": {},
   "outputs": [
    {
     "data": {
      "text/plain": [
       "{'https://blog.hireborderless.com/a-guide-to-ai-agents-definitions-types-examples-and-trends',\n",
       " 'https://blog.n8n.io/ai-agents/',\n",
       " 'https://geeksforgeeks.org/types-of-agents-in-ai/',\n",
       " 'https://geeky-gadgets.com/ai-agents-explained/',\n",
       " 'https://medium.com/humansdotai/an-introduction-to-ai-agents-e8c4afd2ee8f',\n",
       " 'https://www.technologyreview.com/2024/07/05/1094711/what-are-ai-agents/',\n",
       " 'https://www.weforum.org/agenda/2024/07/what-is-an-ai-agent-experts-explain/',\n",
       " 'https://yellow.ai/blog/ai-agents/'}"
      ]
     },
     "execution_count": 48,
     "metadata": {},
     "output_type": "execute_result"
    }
   ],
   "source": [
    "cited_urls"
   ]
  },
  {
   "cell_type": "code",
   "execution_count": 43,
   "id": "3532b94a-4fc4-436d-aa32-c8bffb85371b",
   "metadata": {},
   "outputs": [],
   "source": [
    "results_xt = await search_engine.abatch(queries[\"parsed\"].queries, return_exceptions=True)"
   ]
  },
  {
   "cell_type": "code",
   "execution_count": 44,
   "id": "2ae3fa14-057c-4d31-b736-b75ea047beff",
   "metadata": {
    "scrolled": true
   },
   "outputs": [
    {
     "data": {
      "text/plain": [
       "[[{'content': 'General-purpose AI agent apps. AI Agent is a flexible app that lets you create your own agents, by picking a name, an objective, and the AI model it should use (GPT-3.5 Turbo and GPT-4 are available right now). After it initializes the goal and creates the first task list, you can edit and add your own tasks.',\n",
       "   'url': 'https://zapier.com/blog/ai-agent/'},\n",
       "  {'content': 'The grand vision for AI agents is a system that can execute a vast range of tasks, much like a human assistant. In the future, it could help you book your vacation, but it will also remember if ...',\n",
       "   'url': 'https://www.technologyreview.com/2024/07/05/1094711/what-are-ai-agents/'},\n",
       "  {'content': 'AI agents learn and enhance their performance through feedback, utilizing advanced algorithms and sensory inputs to execute tasks and engage with their environments. According to Lilian Weng, the head of safety systems at OpenAI and their former head of applied AI research, an AI agent features three key characteristics: Planning: an AI agent ...',\n",
       "   'url': 'https://github.blog/ai-and-ml/generative-ai/what-are-ai-agents-and-why-do-they-matter/'},\n",
       "  {'content': 'AI agent memory systems should provide collections that store metadata, relationships, entities, summaries, or other types of information that can be useful for various tasks and domains. These collections can be based on the structure and format of the data, such as documents, tables, or code. Or they can be based on the content and meaning of ...',\n",
       "   'url': 'https://learn.microsoft.com/en-us/azure/cosmos-db/ai-agents'},\n",
       "  {'content': 'This concise article covers everything about agents in AI, how does an AI agent work, its functionalities, and various types of AI agents, such as reflex, goal-based, utility-based, and learning agents. Understand how these AI agents operate and discover their key business benefits, including efficiency, scalability, and cost-effectiveness.',\n",
       "   'url': 'https://yellow.ai/blog/ai-agents/'}],\n",
       " [{'content': \"Agents featured prominently in Google's annual I/O conference in May, when the company unveiled its new AI agent called Astra, which allows users to interact with it using audio and video.OpenAI ...\",\n",
       "   'url': 'https://www.technologyreview.com/2024/07/05/1094711/what-are-ai-agents/'},\n",
       "  {'content': \"AI agents are supposed to be the next big thing in AI, but there isn't an exact definition of what they are. To this point, people can't agree on what exactly constitutes an AI agent.\",\n",
       "   'url': 'https://techcrunch.com/2024/07/13/what-exactly-is-an-ai-agent/'},\n",
       "  {'content': 'General-purpose AI agent apps. AI Agent is a flexible app that lets you create your own agents, by picking a name, an objective, and the AI model it should use (GPT-3.5 Turbo and GPT-4 are available right now). After it initializes the goal and creates the first task list, you can edit and add your own tasks.',\n",
       "   'url': 'https://zapier.com/blog/ai-agent/'},\n",
       "  {'content': 'AI agents learn and enhance their performance through feedback, utilizing advanced algorithms and sensory inputs to execute tasks and engage with their environments. According to Lilian Weng, the head of safety systems at OpenAI and their former head of applied AI research, an AI agent features three key characteristics: Planning: an AI agent ...',\n",
       "   'url': 'https://github.blog/ai-and-ml/generative-ai/what-are-ai-agents-and-why-do-they-matter/'},\n",
       "  {'content': 'The definition is open to interpretation, said Kang, but for her, an AI agent or assistant is \"any algorithm or models powered by AI or related technology that can help people make predictions about the future or make decisions, if it is approachable enough for laymen to interact with it, to get some insights from it\".',\n",
       "   'url': 'https://www.weforum.org/agenda/2024/07/what-is-an-ai-agent-experts-explain/'}],\n",
       " [{'content': 'Learn about different types of AI agents, such as reflex, goal-based, utility-based, learning, rational, and multi-agent systems. Each type has its own characteristics, examples, and schematic diagrams to help you understand their behavior and capabilities.',\n",
       "   'url': 'https://www.geeksforgeeks.org/types-of-agents-in-ai/'},\n",
       "  {'content': 'AI agents learn and enhance their performance through feedback, utilizing advanced algorithms and sensory inputs to execute tasks and engage with their environments. According to Lilian Weng, the head of safety systems at OpenAI and their former head of applied AI research, an AI agent features three key characteristics: Planning: an AI agent ...',\n",
       "   'url': 'https://github.blog/ai-and-ml/generative-ai/what-are-ai-agents-and-why-do-they-matter/'},\n",
       "  {'content': 'Learn what AI agents are, how they work, and what types of AI agents exist. Discover the benefits and applications of AI agents in business and customer experience.',\n",
       "   'url': 'https://yellow.ai/blog/ai-agents/'},\n",
       "  {'content': 'Learn what AI agents are, how they work, and what types of AI agents exist. Discover how to use AI agents for automation and productivity with Zapier and other platforms.',\n",
       "   'url': 'https://zapier.com/blog/ai-agent/'},\n",
       "  {'content': \"Types of AI Agents. AI agents come in various forms, each designed to address different challenges and levels of complexity. Here's a quick overview of the main types of AI agents and how they function. Simple reflex agents. A simple reflex agent is designed to respond to specific stimuli with predefined actions. They operate on a ...\",\n",
       "   'url': 'https://blog.hireborderless.com/a-guide-to-ai-agents-definitions-types-examples-and-trends'}],\n",
       " [{'content': 'AI agents learn and enhance their performance through feedback, utilizing advanced algorithms and sensory inputs to execute tasks and engage with their environments. According to Lilian Weng, the head of safety systems at OpenAI and their former head of applied AI research, an AI agent features three key characteristics: Planning: an AI agent ...',\n",
       "   'url': 'https://github.blog/ai-and-ml/generative-ai/what-are-ai-agents-and-why-do-they-matter/'},\n",
       "  {'content': \"Applications of AI Agents in Complex Tasks and Decision-Making. Healthcare: AI agents assist in diagnosing diseases, recommending treatments, and managing patient care. For example, IBM's Watson ...\",\n",
       "   'url': 'https://www.geeky-gadgets.com/ai-agents-explained/'},\n",
       "  {'content': 'This concise article covers everything about agents in AI, how does an AI agent work, its functionalities, and various types of AI agents, such as reflex, goal-based, utility-based, and learning agents. Understand how these AI agents operate and discover their key business benefits, including efficiency, scalability, and cost-effectiveness.',\n",
       "   'url': 'https://yellow.ai/blog/ai-agents/'},\n",
       "  {'content': 'General-purpose AI agent apps. AI Agent is a flexible app that lets you create your own agents, by picking a name, an objective, and the AI model it should use (GPT-3.5 Turbo and GPT-4 are available right now). After it initializes the goal and creates the first task list, you can edit and add your own tasks.',\n",
       "   'url': 'https://zapier.com/blog/ai-agent/'},\n",
       "  {'content': 'The grand vision for AI agents is a system that can execute a vast range of tasks, much like a human assistant. In the future, it could help you book your vacation, but it will also remember if ...',\n",
       "   'url': 'https://www.technologyreview.com/2024/07/05/1094711/what-are-ai-agents/'}],\n",
       " [{'content': 'General-purpose AI agent apps. AI Agent is a flexible app that lets you create your own agents, by picking a name, an objective, and the AI model it should use (GPT-3.5 Turbo and GPT-4 are available right now). After it initializes the goal and creates the first task list, you can edit and add your own tasks.',\n",
       "   'url': 'https://zapier.com/blog/ai-agent/'},\n",
       "  {'content': 'The grand vision for AI agents is a system that can execute a vast range of tasks, much like a human assistant. In the future, it could help you book your vacation, but it will also remember if ...',\n",
       "   'url': 'https://www.technologyreview.com/2024/07/05/1094711/what-are-ai-agents/'},\n",
       "  {'content': 'AI Agents are autonomous entities that use artificial intelligence (AI) to perceive their environment, make decisions, and perform actions to achieve specific goals. These agents can operate…',\n",
       "   'url': 'https://medium.com/@williamwarley/understanding-ai-agents-how-they-work-types-and-practical-applications-bd261845f7c3'},\n",
       "  {'content': 'Agentic AI refers to artificial intelligence capable of making decisions, planning, and adapting to new information in real time. AI agents learn and enhance their performance through feedback, utilizing advanced algorithms and sensory inputs to execute tasks and engage with their environments. According to Lilian Weng, the head of safety ...',\n",
       "   'url': 'https://github.blog/ai-and-ml/generative-ai/what-are-ai-agents-and-why-do-they-matter/'},\n",
       "  {'content': 'These agents, often called AI bots or virtual assistants, are intelligent systems programmed to perform tasks, make decisions, and interact with their environment just like humans do.',\n",
       "   'url': 'https://medium.com/humansdotai/an-introduction-to-ai-agents-e8c4afd2ee8f'}]]"
      ]
     },
     "execution_count": 44,
     "metadata": {},
     "output_type": "execute_result"
    }
   ],
   "source": [
    "results_xt"
   ]
  },
  {
   "cell_type": "markdown",
   "id": "bd1ecf6b-4067-4da8-bf6a-1add1260a3f1",
   "metadata": {},
   "source": [
    "End: Test Code"
   ]
  },
  {
   "cell_type": "code",
   "execution_count": 45,
   "id": "e3dd0c4c-368f-4975-89a5-a46e93fa9b85",
   "metadata": {},
   "outputs": [],
   "source": [
    "@as_runnable\n",
    "async def gen_answer(\n",
    "    state: InterviewState,\n",
    "    name: str = \"subject_matter_expert\",\n",
    "    max_str_length: int = 15000):\n",
    "\n",
    "    name = format_name(name)\n",
    "    # Set the expert as the current model\n",
    "    current_state = set_current_perspective(state, name)\n",
    "    #TODO: pass topic to this node\n",
    "    topic = state[\"topic\"]\n",
    "\n",
    "    # generate queries\n",
    "    last_message = get_last_message(state)\n",
    "    queries = await gen_queries_chain.ainvoke({\"question\": last_message})\n",
    "\n",
    "    # search and filter\n",
    "    search_results = await search_and_format(queries[\"parsed\"].queries)\n",
    "    truncated_search_results = json.dumps(search_results)[:max_str_length]\n",
    "\n",
    "    # answer the question\n",
    "    gen_answer_chain = gen_answer_prompt | fast_llm.with_structured_output(AnswerWithCitations, include_raw=True).with_config(run_name=\"GenerateAnswer\")\n",
    "    answer = await gen_answer_chain.ainvoke({**current_state, \"topic\": topic, \"search_results\": truncated_search_results})\n",
    "    cited_urls = set(answer[\"parsed\"].cited_urls)\n",
    "\n",
    "    # Format answer and get cited references\n",
    "    formatted_answer = AIMessage(name=name, content=answer[\"parsed\"].as_str)\n",
    "    cited_references = {url: content for url, content in search_results.items() if url in cited_urls}\n",
    "\n",
    "    # # Append the new message to the existing messages\n",
    "    # updated_messages = state[\"messages\"] + [formatted_answer]\n",
    "    \n",
    "    # # Merge the new references with the existing references\n",
    "    # existing_references = state.get(\"references\", {}) or {}  # Use empty dict if None\n",
    "    # updated_references = {**existing_references, **cited_references}\n",
    "    \n",
    "    # Return the updated state\n",
    "    return {\"messages\": [formatted_answer], \"references\": cited_references}"
   ]
  },
  {
   "cell_type": "code",
   "execution_count": 50,
   "id": "8923a817-1d5b-450a-823b-ab265c7f73d7",
   "metadata": {
    "scrolled": true
   },
   "outputs": [
    {
     "data": {
      "text/plain": [
       "'AI agents, particularly those powered by generative AI (gen AI), represent a significant evolution in the application of artificial intelligence, offering both opportunities and challenges across various sectors. These AI agents are designed to autonomously plan and execute tasks, thereby enhancing efficiency and productivity within organizations. As businesses begin to adopt these technologies, they are exploring a range of applications, from drug discovery to automating complex decision-making processes, which can lead to significant economic benefits and increased productivity for workers  [1](https://www.mckinsey.com/capabilities/mckinsey-digital/our-insights/charting-a-path-to-the-data-and-ai-driven-enterprise-of-2030).  \\n\\nThe rise of autonomous AI agents is particularly noteworthy. In 2023, the concept gained traction as organizations began recognizing the potential of large language model (LLM)-powered bots that can independently reason and execute tasks. OpenAI\\'s CEO, Sam Altman, referred to these agents as \"AI\\'s killer function,\" highlighting their transformative potential [2](https://www.cbinsights.com/research/report/future-workforce-ai-agents/). However, the journey towards widespread adoption has encountered obstacles, including issues related to data quality, employee skepticism, and implementation costs [3](https://www.mckinsey.com/industries/technology-media-and-telecommunications/our-insights/the-promise-and-the-reality-of-gen-ai-agents-in-the-enterprise).  \\n\\nOn the social front, AI agents are poised to reshape the workforce and impact job dynamics. While there are fears of job displacement due to automation, studies suggest that AI can also create new job opportunities and redefine existing roles, leading to a more skilled workforce [4](https://www.forbes.com/sites/alexanderpuutio/2024/03/22/what-ceos-need-to-know-about-the-next-frontier-of-ai-ai-agents/). Furthermore, the integration of AI agents into daily life could enhance personal productivity and transform how individuals manage tasks, emphasizing the need for ethical considerations in their deployment [5](https://deepmind.google/discover/blog/the-ethics-of-advanced-ai-assistants).  \\n\\nThe environmental implications of AI agents also warrant attention. The training of AI models can be energy-intensive, leading to significant carbon emissions. For instance, creating a single large AI model can consume thousands of megawatt hours of electricity, raising concerns about the sustainability of AI practices [6](https://www.hbr.org/2024/07/the-uneven-distribution-of-ais-environmental-impacts). Addressing these concerns requires a multifaceted approach involving sustainable practices within the AI industry and the implementation of energy-efficient technologies [7](https://www.nature.com/articles/d41586-024-00478-x). As AI continues to evolve, striking a balance between its benefits and its environmental impact will be crucial for future development.\\n\\nCitations:\\n\\n[1]: https://www.mckinsey.com/capabilities/mckinsey-digital/our-insights/charting-a-path-to-the-data-and-ai-driven-enterprise-of-2030\\n[2]: https://www.cbinsights.com/research/report/future-workforce-ai-agents/\\n[3]: https://www.mckinsey.com/industries/technology-media-and-telecommunications/our-insights/the-promise-and-the-reality-of-gen-ai-agents-in-the-enterprise\\n[4]: https://www.forbes.com/sites/alexanderpuutio/2024/03/22/what-ceos-need-to-know-about-the-next-frontier-of-ai-ai-agents/\\n[5]: https://deepmind.google/discover/blog/the-ethics-of-advanced-ai-assistants\\n[6]: https://www.hbr.org/2024/07/the-uneven-distribution-of-ais-environmental-impacts\\n[7]: https://www.nature.com/articles/d41586-024-00478-x'"
      ]
     },
     "execution_count": 50,
     "metadata": {},
     "output_type": "execute_result"
    }
   ],
   "source": [
    "initial_state = {\n",
    "    \"topic\": example_topic,\n",
    "    \"current_perspective\": example_editors.perspectives[0],\n",
    "    \"messages\": [\n",
    "        AIMessage(\n",
    "            content=f\"So you said you were writing an article on {example_topic}?\",\n",
    "            name=\"subject_matter_expert\",\n",
    "        )\n",
    "    ],\n",
    "}\n",
    "\n",
    "example_answer = await gen_answer.ainvoke(\n",
    "    initial_state\n",
    ")\n",
    "\n",
    "example_answer[\"messages\"][-1].content"
   ]
  },
  {
   "cell_type": "markdown",
   "id": "d899e41f-65be-41a5-90e6-84094ed2362d",
   "metadata": {},
   "source": [
    "### Interview Graph"
   ]
  },
  {
   "cell_type": "code",
   "execution_count": 51,
   "id": "e73e6303-7200-4f6f-a5be-cd1923b303f1",
   "metadata": {},
   "outputs": [],
   "source": [
    "max_responses = 5\n",
    "\n",
    "def end_or_pass_back_to_persona(state: InterviewState, name: str = \"subject_matter_expert\"):\n",
    "    messages = state[\"messages\"]\n",
    "    num_responses = len(\n",
    "        [m for m in messages if isinstance(m, AIMessage) and format_name(m.name) == format_name(name)]\n",
    "    )\n",
    "    if num_responses >= max_responses:\n",
    "        return END\n",
    "    last_question = messages[-2]\n",
    "    if last_question.content.endswith(\"Thank you so much for your help!\"):\n",
    "        return END\n",
    "    return \"persona ask question\""
   ]
  },
  {
   "cell_type": "code",
   "execution_count": 94,
   "id": "b1d2d090-0971-494c-b5be-a524a2d77409",
   "metadata": {},
   "outputs": [],
   "source": [
    "# Build graph for interview\n",
    "interview_graph = StateGraph(InterviewState)\n",
    "\n",
    "# add nodes\n",
    "interview_graph.add_node(\"persona ask question\", gen_question)\n",
    "interview_graph.add_node(\"subject matter expert answer question\", gen_answer)\n",
    "\n",
    "# add edges\n",
    "interview_graph.add_edge(START, \"persona ask question\")\n",
    "interview_graph.add_edge(\"persona ask question\", \"subject matter expert answer question\")\n",
    "interview_graph.add_conditional_edges(\"subject matter expert answer question\", end_or_pass_back_to_persona)\n",
    "\n",
    "# Compile graph\n",
    "interview_graph = interview_graph.compile().with_config(run_name=\"Conduct Interviews\")"
   ]
  },
  {
   "cell_type": "code",
   "execution_count": 95,
   "id": "b0d692dd-ebe6-4fd9-9e4f-97bdf0dc7bb8",
   "metadata": {
    "scrolled": true
   },
   "outputs": [],
   "source": [
    "final_result = None\n",
    "\n",
    "initial_state = {\n",
    "    \"topic\": example_topic,\n",
    "    \"current_perspective\": example_editors.perspectives[0],\n",
    "    \"messages\": [\n",
    "        AIMessage(\n",
    "            content=f\"So you said you were writing an article on {example_topic}?\",\n",
    "            name=\"subject_matter_expert\",\n",
    "        )\n",
    "    ],\n",
    "    \"references\": {},\n",
    "}\n",
    "\n",
    "async for chunk in interview_graph.astream(initial_state, stream_mode=\"values\"):\n",
    "    final_result = chunk"
   ]
  },
  {
   "cell_type": "code",
   "execution_count": 96,
   "id": "3251dd98-6f64-4b9f-8bc7-9e2495cfca0f",
   "metadata": {},
   "outputs": [
    {
     "data": {
      "text/plain": [
       "{'topic': 'AI agents and the potential economic, social, and environmental impacts.',\n",
       " 'messages': [AIMessage(content='So you said you were writing an article on AI agents and the potential economic, social, and environmental impacts.?', name='subject_matter_expert'),\n",
       "  AIMessage(content=\"Yes, I'm focusing on gathering basic facts about AI agents and their implications in various domains. To start, could you explain what constitutes an AI agent and how it differs from traditional software?\", additional_kwargs={'refusal': None}, response_metadata={'token_usage': {'completion_tokens': 37, 'prompt_tokens': 195, 'total_tokens': 232}, 'model_name': 'gpt-4o-mini-2024-07-18', 'system_fingerprint': 'fp_483d39d857', 'finish_reason': 'stop', 'logprobs': None}, name='DefaultPerspective', id='run-853c32c5-cb70-4346-bf48-cb2f660b0891-0', usage_metadata={'input_tokens': 195, 'output_tokens': 37, 'total_tokens': 232}),\n",
       "  AIMessage(content='An AI agent is an entity that can act autonomously in an environment by perceiving its surroundings, making decisions based on that information, and taking actions to alter those circumstances, whether they are physical, digital, or mixed. Unlike traditional software, which operates based on a predefined set of instructions and scenarios, AI agents leverage complex algorithms and large language models like GPT-4 to learn from human-generated data. This allows them to adapt their behavior and improve performance over time, which is a significant distinction from traditional software that lacks such adaptability and learning capabilities. In essence, AI agents are designed to handle a wider range of tasks and respond dynamically to changing conditions, whereas traditional software operates with limited flexibility and pre-determined responses.\\n\\nCitations:\\n\\n[1]: https://zapier.com/blog/ai-agent/\\n[2]: https://composio.dev/blog/ai-agents/\\n[3]: https://github.blog/ai-and-ml/generative-ai/what-are-ai-agents-and-why-do-they-matter/\\n[4]: https://codica.com/blog/brief-guide-on-ai-agents/', name='subject_matter_expert'),\n",
       "  AIMessage(content='What are some key examples of AI agents currently in use across different industries, and what specific tasks do they perform?', additional_kwargs={'refusal': None}, response_metadata={'token_usage': {'completion_tokens': 23, 'prompt_tokens': 472, 'total_tokens': 495}, 'model_name': 'gpt-4o-mini-2024-07-18', 'system_fingerprint': 'fp_483d39d857', 'finish_reason': 'stop', 'logprobs': None}, name='DefaultPerspective', id='run-526db60b-4449-4b21-929b-8ca909811def-0', usage_metadata={'input_tokens': 472, 'output_tokens': 23, 'total_tokens': 495}),\n",
       "  AIMessage(content='AI agents are making significant strides across various industries, performing a multitude of tasks that enhance efficiency and innovation. Here are some key examples:\\n\\n1. **Healthcare**: AI agents are utilized for improving diagnostics, managing patient records, and even assisting in robotic surgeries. These agents analyze vast amounts of patient data to aid in treatment decisions and optimize scheduling for medical appointments, thereby reducing operational costs significantly. For instance, a study estimated that AI could save the U.S. healthcare industry up to $100 billion annually through such automation  \\\\[8\\\\].\\n\\n2. **Finance and Banking**: In the finance sector, AI agents automate tasks such as credit scoring, fraud detection, and portfolio management. They analyze financial data to make strategic investment decisions and streamline operations, ultimately enhancing decision-making efficiency \\\\[9\\\\].\\n\\n3. **Retail and E-commerce**: AI agents play a crucial role in customer service through chatbots that handle inquiries, assist with product recommendations, and manage online transactions. They also optimize inventory management and personalize shopping experiences by learning customer preferences \\\\[10\\\\].\\n\\n4. **Manufacturing**: AI agents are employed in predictive maintenance, quality control, and supply chain optimization. They analyze machine data to predict failures before they occur, significantly reducing downtime and improving productivity \\\\[11\\\\].\\n\\n5. **Transportation and Logistics**: AI agents enhance route planning, traffic management, and supply chain logistics. They are integral to the development of autonomous vehicles, where they make real-time decisions based on sensor data to ensure safety and efficiency during transport \\\\[12\\\\].\\n\\n6. **Human Resources**: In HR, AI agents streamline recruitment by screening resumes, scheduling interviews, and conducting initial assessments of candidates, which significantly speeds up the hiring process and improves candidate matching \\\\[5\\\\].\\n\\nThese examples illustrate the versatility of AI agents and their capacity to transform traditional operational paradigms across multiple sectors.\\n\\nCitations:\\n\\n[1]: https://health.clevelandclinic.org/ai-in-healthcare\\n[2]: https://blog.arya.ai/ai-agents/\\n[3]: https://www.forbes.com/sites/bernardmarr/2024/02/29/7-ways-retailers-are-using-generative-ai-to-provide-a-better-shopping-experience/\\n[4]: https://www.azumuta.com/blog/how-is-ai-used-in-manufacturing-examples-use-cases-and-benefits/\\n[5]: https://www.mckinsey.com/industries/travel-logistics-and-infrastructure/our-insights/what-ai-means-for-travel-now-and-in-the-future\\n[6]: https://blog.hireborderless.com/a-guide-to-ai-agents-definitions-types-examples-and-trends', name='subject_matter_expert'),\n",
       "  AIMessage(content='Can you elaborate on the potential economic impacts of AI agents, specifically in terms of job displacement and creation?', additional_kwargs={'refusal': None}, response_metadata={'token_usage': {'completion_tokens': 21, 'prompt_tokens': 1062, 'total_tokens': 1083}, 'model_name': 'gpt-4o-mini-2024-07-18', 'system_fingerprint': 'fp_483d39d857', 'finish_reason': 'stop', 'logprobs': None}, name='DefaultPerspective', id='run-a707d784-c1cb-4e75-ae55-ba1cf0c43e5e-0', usage_metadata={'input_tokens': 1062, 'output_tokens': 21, 'total_tokens': 1083}),\n",
       "  AIMessage(content='The economic impacts of AI agents are multifaceted, particularly concerning job displacement and creation. On one hand, AI agents are likely to displace certain jobs, especially those that involve repetitive tasks or data processing. As AI technologies become more capable of performing these roles, workers may find themselves replaced by automated systems. For example, studies suggest that AI could automate tasks across various sectors, leading to significant job losses in areas like manufacturing, retail, and customer service \\n\\nHowever, the narrative is not solely about displacement. AI agents also create new job opportunities by necessitating roles that focus on managing, enhancing, and overseeing AI systems. For instance, the demand for data scientists, AI ethics specialists, and AI maintenance personnel is expected to grow, reflecting the need for skilled individuals who can work alongside AI technologies \\n\\nAdditionally, the integration of AI agents can lead to increased productivity and efficiency, which can result in economic growth. As businesses adopt AI technologies, they may experience cost savings and improved decision-making capabilities, potentially leading to expanded operations and the creation of new jobs in emerging fields. This shift could also foster entrepreneurship, as AI agents enable small businesses to automate processes that were previously only feasible for larger companies \\n\\nFurthermore, the impact of AI on employment may vary across different demographics and regions. Reports indicate that while AI may displace lower-skilled jobs, it could also enhance job prospects for higher-skilled workers, particularly women and those in labor-intensive roles, by creating new opportunities in technology and management. This suggests a need for targeted workforce development and reskilling initiatives to prepare workers for the changing job landscape \\n\\nOverall, while AI agents will likely displace some jobs, they also hold the potential to create new roles, drive economic growth, and transform the labor market in ways that can benefit society as a whole.\\n\\nCitations:\\n\\n[1]: https://www.forbes.com/sites/neilsahota/2024/04/03/the-silent-shift-how-ai-stealthily-reshapes-our-work-and-future/\\n[2]: https://www.investopedia.com/economic-impact-of-generative-ai-7976252\\n[3]: https://www.whitehouse.gov/cea/written-materials/2024/07/10/potential-labor-market-impacts-of-artificial-intelligence-an-empirical-analysis/\\n[4]: https://www.bbc.com/worklife/article/20240104-ai-in-2024-five-trends-workers-need-to-know', name='subject_matter_expert'),\n",
       "  AIMessage(content='What are the social implications of AI agents, particularly in relation to privacy concerns and ethical considerations?', additional_kwargs={'refusal': None}, response_metadata={'token_usage': {'completion_tokens': 19, 'prompt_tokens': 1595, 'total_tokens': 1614}, 'model_name': 'gpt-4o-mini-2024-07-18', 'system_fingerprint': 'fp_483d39d857', 'finish_reason': 'stop', 'logprobs': None}, name='DefaultPerspective', id='run-72d9bd11-7fa7-4aa4-9d75-3bbea6b7e9ee-0', usage_metadata={'input_tokens': 1595, 'output_tokens': 19, 'total_tokens': 1614}),\n",
       "  AIMessage(content='The social implications of AI agents are profound, especially regarding privacy concerns and ethical considerations. As AI agents increasingly integrate into daily life, they raise significant issues about data collection and personal privacy. AI systems often require vast amounts of data to function effectively, which can lead to excessive surveillance and the potential misuse of personal information. For instance, generative AI tools may inadvertently memorize sensitive personal data during their training, leading to risks such as identity theft or targeted phishing attacks  \\n\\nIn terms of ethical considerations, the deployment of AI agents brings forth critical discussions about bias, accountability, and transparency. AI systems can perpetuate existing biases present in their training data, leading to unfair treatment of individuals based on race, gender, or socioeconomic status. This issue necessitates a focus on ethical AI development practices that prioritize fairness and inclusivity  \\n\\nMoreover, the increasing autonomy of AI agents poses risks related to accountability. When AI agents make decisions, particularly in sensitive areas like healthcare or law enforcement, it becomes challenging to determine who is responsible for any negative outcomes  \\n\\nAdditionally, the feminization of AI agents, such as voice assistants designed to sound female, raises concerns about reinforcing gender stereotypes and the potential objectification of women. This phenomenon can influence societal perceptions of gender roles and relationships, highlighting the need for ethical frameworks to guide the design and deployment of AI systems  \\n\\nThe social implications of AI agents thus encompass a complex interplay of privacy, ethics, and societal values, necessitating ongoing discourse and policy development to address these challenges effectively.\\n\\nCitations:\\n\\n[1]: https://www.theatlantic.com/technology/archive/2024/07/ai-agents-safety-risks/678864/\\n[2]: https://www.nature.com/articles/s42256-023-00754-x\\n[3]: https://www.iapp.org/news/a/shaping-the-future-a-dynamic-taxonomy-for-ai-privacy-risks/\\n[4]: https://www.forbes.com/sites/eliamdur/2024/01/24/6-critical--and-urgent--ethics-issues-with-ai/\\n[5]: https://link.springer.com/article/10.1007/s43681-024-00496-5', name='subject_matter_expert')],\n",
       " 'references': {'https://zapier.com/blog/ai-agent/': 'What are AI agents? An AI agent is an entity that can act autonomously in an environment. It can take information from its surroundings, make decisions based on that data, and act to transform those circumstances—physical, digital, or mixed. More advanced systems can learn and update their behavior over time, constantly trying out new solutions to a problem until they achieve the goal.',\n",
       "  'https://composio.dev/blog/ai-agents/': \"You must be wondering, Isn't software doing the same thing, autonomously completing pre-determined tasks? So, what is the difference between AI agents and traditional software? AI agents run on powerful LLMs like GPT-4. These models are trained on human-generated data, including logical reasoning, math, and coding tasks.\",\n",
       "  'https://github.blog/ai-and-ml/generative-ai/what-are-ai-agents-and-why-do-they-matter/': 'What are AI agents and agentic AI? Agentic AI refers to artificial intelligence capable of making decisions, planning, and adapting to new information in real time. AI agents learn and enhance their performance through feedback, utilizing advanced algorithms and sensory inputs to execute tasks and engage with their environments.',\n",
       "  'https://blog.hireborderless.com/a-guide-to-ai-agents-definitions-types-examples-and-trends': 'AI agents are no longer a concept for the future — they are actively transforming industries today. Below are some key examples of AI agents in different sectors. Human Resources. In HR, AI agents are already optimizing the recruitment process by screening resumes, scheduling interviews, and even conducting initial candidate assessments ...',\n",
       "  'https://health.clevelandclinic.org/ai-in-healthcare': 'AI innovates and changes the scope of healthcare by using large amounts of patient data to further research, discovery and improve patient care.',\n",
       "  'https://blog.arya.ai/ai-agents/': 'AI Agents For Finance: Examples. The finance industry has already witnessed the transformative impact of AI in automating a wide range of operational and tactical tasks. However, the future of AI in finance extends far beyond task-based automation. The next frontier lies in cognitive decisioning, where AI agents make strategic, data-driven ...',\n",
       "  'https://www.forbes.com/sites/bernardmarr/2024/02/29/7-ways-retailers-are-using-generative-ai-to-provide-a-better-shopping-experience/': '7 Ways Retailers Are Using Generative AI To Provide A Better Shopping Experience Adobe Stock Generative AI is a transformative tool that will impact almost all industries. And retail is no exception.',\n",
       "  'https://www.azumuta.com/blog/how-is-ai-used-in-manufacturing-examples-use-cases-and-benefits/': 'Generative AI is actually a subset of deep learning and learns from existing data sets to generate new content, such as text, image, and code. Generative AI can generate synthetic data that simulates potential failure scenarios. This synthetic data can then be used to train predictive maintenance models. 2.',\n",
       "  'https://www.mckinsey.com/industries/travel-logistics-and-infrastructure/our-insights/what-ai-means-for-travel-now-and-in-the-future': \"On this episode of The McKinsey Podcast, McKinsey partners Alex Cosmas and Vik Krishnan join global editorial director Lucia Rahilly to discuss a new report on travel in the age of AI: what the technology's promise and pitfalls are and what it may mean for the travel industry overall. This transcript has been edited for clarity and length.\",\n",
       "  'https://www.investopedia.com/economic-impact-of-generative-ai-7976252': 'The potential economic benefits of generative AI include increased productivity, cost savings, new job creation, improved decision-making, personalization, and enhanced safety. There are also ...',\n",
       "  'https://www.forbes.com/sites/neilsahota/2024/04/03/the-silent-shift-how-ai-stealthily-reshapes-our-work-and-future/': 'As AI continues to evolve, the future of human employment navigates a precarious path. On one hand, new realms of jobs and careers will emerge, focusing on managing, enhancing, and leveraging AI ...',\n",
       "  'https://www.whitehouse.gov/cea/written-materials/2024/07/10/potential-labor-market-impacts-of-artificial-intelligence-an-empirical-analysis/': 'Today, CEA releases a new report on the potential labor market impacts of AI. This report builds on the analysis and methodology previously developed by CEA for the Economic Report of the President .',\n",
       "  'https://www.bbc.com/worklife/article/20240104-ai-in-2024-five-trends-workers-need-to-know': 'AI in 2024: Five trends workers need to know. One of the biggest opportunities for AI in 2024 is driving inclusion across the workforce (Credit: Alamy) The influence of artificial intelligence ...',\n",
       "  'https://www.nature.com/articles/s42256-023-00754-x': 'Learning agents improve as a function of the richness and size of their dataset. a, A single agent learns from a large, but static, dataset.b, Interaction with the world enables the agent to ...',\n",
       "  'https://www.theatlantic.com/technology/archive/2024/07/ai-agents-safety-risks/678864/': \"We need to stay in the driver's seat rather than be escorted by an invisible chauffeur acting on its own inscrutable and evolving motivations, or on those of a human distant in time and space ...\",\n",
       "  'https://www.forbes.com/sites/eliamdur/2024/01/24/6-critical--and-urgent--ethics-issues-with-ai/': \"On six issues, here's their collective thinking. 1. Data Bias. One of the foremost ethical concerns surrounding AI is data bias. AI systems are only as good as the data they're trained on, so ...\",\n",
       "  'https://link.springer.com/article/10.1007/s43681-024-00496-5': 'As artificial intelligence (AI) continues to advance, one key challenge is ensuring that AI aligns with certain values. However, in the current diverse and democratic society, reaching a normative consensus is complex. This paper delves into the methodological aspect of how AI ethicists can effectively determine which values AI should uphold. After reviewing the most influential methodologies ...'},\n",
       " 'current_perspective': Perspective(name='Default Perspective', role='Basic fact writer', description='Basic fact writer focusing on broadly covering the basic facts about the topic.')}"
      ]
     },
     "execution_count": 96,
     "metadata": {},
     "output_type": "execute_result"
    }
   ],
   "source": [
    "final_result"
   ]
  },
  {
   "cell_type": "markdown",
   "id": "c0d66fa4-80aa-4449-b4a4-73e940cb5e7c",
   "metadata": {},
   "source": [
    "# Build Final Graph"
   ]
  },
  {
   "cell_type": "code",
   "execution_count": 89,
   "id": "d9872c84-7e4a-438f-804b-af4f405c8e21",
   "metadata": {},
   "outputs": [],
   "source": [
    "async def draft_outline(state: ArticleGeneratorState):\n",
    "    topic, outline = state[\"topic\"], state[\"outline\"]\n",
    "    outline = await draft_outline_chain.ainvoke({\"topic\": topic})\n",
    "    return {\n",
    "        **state,\n",
    "        \"outline\": outline,\n",
    "    }\n",
    "\n",
    "# Conduct Research (Run interviews between all editors and subject_matter_expert\n",
    "async def conduct_research(state: ArticleGeneratorState):\n",
    "    topic = state[\"topic\"]\n",
    "    initial_interview_states = []\n",
    "    for perspective in state[\"editors\"].perspectives:\n",
    "        initial_interview_states.append({\n",
    "            \"topic\": topic,\n",
    "            \"messages\": [\n",
    "                AIMessage(\n",
    "                    content=f\"So you said you were writing an article on {topic}?\",\n",
    "                    name=\"subject_matter_expert\",\n",
    "                )\n",
    "            ],\n",
    "            \"current_perspective\": perspective\n",
    "        })\n",
    "\n",
    "    interview_results = await interview_graph.abatch(initial_interview_states)\n",
    "    \n",
    "    return {\n",
    "        **state,\n",
    "        \"interview_results\": interview_results,\n",
    "    }\n",
    "\n",
    "# Refine Outline\n",
    "refine_outline_prompt = ChatPromptTemplate.from_messages(\n",
    "    [\n",
    "        (\n",
    "            \"system\",\n",
    "            \"\"\"You are a Wikipedia writer. You have gathered information from experts and search engines. Now, you are refining the outline of the Wikipedia page. \\\n",
    "You need to make sure that the outline is comprehensive and specific. \\\n",
    "Topic you are writing about: {topic} \n",
    "\n",
    "Old outline:\n",
    "\n",
    "{old_outline}\"\"\",\n",
    "        ),\n",
    "        (\n",
    "            \"user\",\n",
    "            \"Refine the outline based on your conversations with subject-matter experts:\\n\\nConversations:\\n\\n{conversations}\\n\\nWrite the refined Wikipedia outline:\",\n",
    "        ),\n",
    "    ]\n",
    ")\n",
    "\n",
    "# Using turbo preview since the context can get quite long\n",
    "refine_outline_chain = refine_outline_prompt | slow_llm.with_structured_output(\n",
    "    Outline\n",
    ")\n",
    "\n",
    "def format_conversation(interview_state):\n",
    "    messages = interview_state[\"messages\"]\n",
    "    convo = \"\\n\".join(f\"{m.name}: {m.content}\" for m in messages)\n",
    "    return f'Conversation with {interview_state[\"current_perspective\"].name}\\n\\n' + convo\n",
    "\n",
    "\n",
    "async def refine_outline(state: ArticleGeneratorState):\n",
    "    convos = \"\\n\\n\".join(\n",
    "        [\n",
    "            format_conversation(interview_state)\n",
    "            for interview_state in state[\"interview_results\"]\n",
    "        ]\n",
    "    )\n",
    "\n",
    "    updated_outline = await refine_outline_chain.ainvoke(\n",
    "        {\n",
    "            \"topic\": state[\"topic\"],\n",
    "            \"old_outline\": state[\"outline\"].as_str,\n",
    "            \"conversations\": convos,\n",
    "        }\n",
    "    )\n",
    "    return {**state, \"outline\": updated_outline}\n",
    "\n",
    "# Generate sections\n",
    "gen_sections_prompt = ChatPromptTemplate.from_messages(\n",
    "    [\n",
    "        (\n",
    "            \"system\",\n",
    "            \"You are an expert Wikipedia writer. Complete your assigned WikiSection from the following outline:\\n\\n\"\n",
    "            \"{outline}\\n\\nCite your sources, using the following references:\\n\\n{references}\\n<Documents>\",\n",
    "        ),\n",
    "        (\"user\", \"Write the full WikiSection for the {section_title} section.\"),\n",
    "    ]\n",
    ")\n",
    "\n",
    "gen_sections_chain = (\n",
    "    gen_sections_prompt\n",
    "    | slow_llm.with_structured_output(Section)\n",
    ")\n",
    "\n",
    "async def gen_sections(state: ArticleGeneratorState):\n",
    "    topic, outline = state[\"topic\"], state[\"outline\"]\n",
    "    outline.sections = await gen_sections_chain.abatch(\n",
    "        [\n",
    "            {\n",
    "                \"outline\": outline.as_str,\n",
    "                \"section_title\": section.title,\n",
    "                \"topic\": topic,\n",
    "            }\n",
    "            for section in outline.sections\n",
    "        ]\n",
    "    )\n",
    "    return {\n",
    "        **state,\n",
    "        \"outline\": outline,\n",
    "    }\n",
    "\n",
    "gen_article_prompt = ChatPromptTemplate.from_messages(\n",
    "    [\n",
    "        (\n",
    "            \"system\",\n",
    "            \"You are an expert Wikipedia author. Write the complete wiki article on {topic} using the following section drafts:\\n\\n\"\n",
    "            \"{draft}\\n\\nStrictly follow Wikipedia format guidelines.\",\n",
    "        ),\n",
    "        (\n",
    "            \"user\",\n",
    "            'Write the complete Wiki article using markdown format. Organize citations using footnotes like \"[1]\",'\n",
    "            \" avoiding duplicates in the footer. Include URLs in the footer.\",\n",
    "        ),\n",
    "    ]\n",
    ")\n",
    "\n",
    "gen_article_chain = gen_article_prompt | slow_llm | StrOutputParser()\n",
    "\n",
    "\n",
    "async def gen_article(state: ArticleGeneratorState):\n",
    "    topic, outline = state[\"topic\"], state[\"outline\"]\n",
    "    sections = outline.sections\n",
    "    draft = \"\\n\\n\".join([section.as_str for section in sections])\n",
    "    article = await gen_article_chain.ainvoke({\"topic\": topic, \"draft\": draft})\n",
    "    return {\n",
    "        **state,\n",
    "        \"article\": article,\n",
    "    }"
   ]
  },
  {
   "cell_type": "code",
   "execution_count": 90,
   "id": "73b83f04-5279-4018-8149-8bca492fd1c4",
   "metadata": {},
   "outputs": [],
   "source": [
    "# Build graph for Article Generator\n",
    "article_gen_graph = StateGraph(ArticleGeneratorState)\n",
    "\n",
    "# add nodes\n",
    "article_gen_graph.add_node(\"draft outline\", draft_outline)\n",
    "article_gen_graph.add_node(\"survey related articles\", survey_related_articles)\n",
    "article_gen_graph.add_node(\"identify perspectives\", gen_editors)\n",
    "article_gen_graph.add_node(\"conduct research\", conduct_research)\n",
    "article_gen_graph.add_node(\"refine outline\", refine_outline)\n",
    "article_gen_graph.add_node(\"generate sections\", gen_sections)\n",
    "article_gen_graph.add_node(\"refine final article\", gen_article)\n",
    "\n",
    "# add edges\n",
    "# Start with two concurrent flows\n",
    "article_gen_graph.add_edge(START, \"draft outline\")\n",
    "article_gen_graph.add_edge(\"draft outline\", \"survey related articles\")\n",
    "# article_gen_graph.add_edge(START, \"survey related articles\")\n",
    "# draft outline path\n",
    "# article_gen_graph.add_edge(\"draft outline\", \"refine outline\")\n",
    "# research path\n",
    "article_gen_graph.add_edge(\"survey related articles\", \"identify perspectives\")\n",
    "article_gen_graph.add_edge(\"identify perspectives\", \"conduct research\")\n",
    "article_gen_graph.add_edge(\"conduct research\", \"refine outline\")\n",
    "# combined path after outline generation. Now to generate the article\n",
    "article_gen_graph.add_edge(\"refine outline\", \"generate sections\")\n",
    "article_gen_graph.add_edge(\"generate sections\", \"refine final article\")\n",
    "article_gen_graph.add_edge(\"refine final article\", END)\n",
    "\n",
    "# compile graph\n",
    "app = article_gen_graph.compile()"
   ]
  },
  {
   "cell_type": "code",
   "execution_count": 93,
   "id": "971a3ae7-732a-4aff-a69c-8deaac53f89a",
   "metadata": {
    "scrolled": true
   },
   "outputs": [
    {
     "name": "stdout",
     "output_type": "stream",
     "text": [
      "draft outline\n",
      "--  {'topic': 'AI agents and the potential economic, social, and environmental impacts.', 'outline': Outline(sections=[Section(title='Introduction', description='An overview of AI agents, defining what they are and their significance in contemporary society.', subsections=None, references=[]), Section(title='Economic Impacts', description='An exploration of how AI agents affect various economic sectors, employment, and productivity.', subsections=[SubSection(title='Job Displacement', description='Analysis of how AI agents may lead to job losses in certain sectors.'), SubSection(title='Job Creation', description='Discussion on new job opportunities arising from AI advancements.'), SubSection(title='Productivity and Efficiency', description='Examination of how AI agents enhance productivity and efficiency in businesses.'), SubSection(title='Market Dynamics', description='Impact of AI on competition and market structures.')], references=[]), Section(title='Social Impacts', description='Assessment of the social implications of AI agents on society and individuals.', subsections=[SubSection(title='Access to Technology', description='How AI agents influence access to technology and information.'), SubSection(title='Ethical Considerations', description='Exploration of ethical dilemmas associated with AI agents.'), SubSection(title='Privacy Concerns', description='Issues related to data privacy and surveillance.'), SubSection(title='Social Inequality', description='Impacts of AI on social equity and disparities.')], references=[]), Section(title='Environmental Impacts', description='Analysis of the environmental effects of AI agents and their potential to aid in sustainability efforts.', subsections=[SubSection(title='Energy Consumption', description='The environmental footprint of AI technologies.'), SubSection(title='Sustainability Applications', description='How AI agents can contribute to environmental sustainability.'), SubSection(title='Climate Change Mitigation', description='Role of AI in addressing climate change challenges.')], references=[]), Section(title='Future Outlook', description='A look at the future implications of AI agents across economic, social, and environmental dimensions.', subsections=None, references=[]), Section(title='Conclusion', description='Summary of the key points discussed and final thoughts on the overall impact of AI agents.', subsections=None, references=[]), Section(title='References', description='A list of scholarly articles, books, and other resources cited in the article.', subsections=None, references=[])]), 'related_articles': None, 'editors': None, 'interview_results': None, 'article': None}\n",
      "survey related articles\n",
      "--  {'topic': 'AI agents and the potential economic, social, and environmental impacts.', 'outline': Outline(sections=[Section(title='Introduction', description='An overview of AI agents, defining what they are and their significance in contemporary society.', subsections=None, references=[]), Section(title='Economic Impacts', description='An exploration of how AI agents affect various economic sectors, employment, and productivity.', subsections=[SubSection(title='Job Displacement', description='Analysis of how AI agents may lead to job losses in certain sectors.'), SubSection(title='Job Creation', description='Discussion on new job opportunities arising from AI advancements.'), SubSection(title='Productivity and Efficiency', description='Examination of how AI agents enhance productivity and efficiency in businesses.'), SubSection(title='Market Dynamics', description='Impact of AI on competition and market structures.')], references=[]), Section(title='Social Impacts', description='Assessment of the social implications of AI agents on society and individuals.', subsections=[SubSection(title='Access to Technology', description='How AI agents influence access to technology and information.'), SubSection(title='Ethical Considerations', description='Exploration of ethical dilemmas associated with AI agents.'), SubSection(title='Privacy Concerns', description='Issues related to data privacy and surveillance.'), SubSection(title='Social Inequality', description='Impacts of AI on social equity and disparities.')], references=[]), Section(title='Environmental Impacts', description='Analysis of the environmental effects of AI agents and their potential to aid in sustainability efforts.', subsections=[SubSection(title='Energy Consumption', description='The environmental footprint of AI technologies.'), SubSection(title='Sustainability Applications', description='How AI agents can contribute to environmental sustainability.'), SubSection(title='Climate Change Mitigation', description='Role of AI in addressing climate change challenges.')], references=[]), Section(title='Future Outlook', description='A look at the future implications of AI agents across economic, social, and environmental dimensions.', subsections=None, references=[]), Section(title='Conclusion', description='Summary of the key points discussed and final thoughts on the overall impact of AI agents.', subsections=None, references=[]), Section(title='References', description='A list of scholarly articles, books, and other resources cited in the article.', subsections=None, references=[])]), 'related_articles': ['\\n\\nTitle: Intelligent agent\\nSummary:\\nIn intelligence and artificial intelligence, an intelligent agent (IA) is an agent that perceives its environment, takes actions autonomously in order to achieve goals, and may improve its performance with learning or acquiring knowledge. An intelligent agent may be simple or complex: A thermostat or other control system is considered an example of an intelligent agent, as is a human being, as is any system that meets the definition, such as a firm, a state, or a biome.\\n\\nLeading AI textbooks define \"artificial intelligence\" as the \"study and design of intelligent agents\", a definition that considers goal-directed behavior to be the essence of intelligence. Goal-directed agents are also described using a term borrowed from economics, \"rational agent\".\\nAn agent has an \"objective function\" that encapsulates all the IA\\'s goals. Such an agent is designed to create and execute whatever plan will, upon completion, maximize the expected value of the objective function. For example, a reinforcement learning agent has a \"reward function\" that allows the programmers to shape the IA\\'s desired behavior, and an evolutionary algorithm\\'s behavior is shaped by a \"fitness function\". \\nIntelligent agents in artificial intelligence are closely related to agents in economics, and versions of the intelligent agent paradigm are studied in cognitive science, ethics, and the philosophy of practical reason, as well as in many interdisciplinary socio-cognitive modeling and computer social simulations.\\nIntelligent agents are often described schematically as an abstract functional system similar to a computer program. Abstract descriptions of intelligent agents are called abstract intelligent agents (AIA) to distinguish them from their real-world implementations. An autonomous intelligent agent is designed to function in the absence of human intervention. Intelligent agents are also closely related to software agents (an autonomous computer program that carries out tasks on behalf of users).', '\\n\\nTitle: Economic impact analysis\\nSummary:\\nAn economic impact analysis (EIA) examines the effect of an event on the economy in a specified area, ranging from a single neighborhood to the entire globe. It usually measures changes in business revenue, business profits, personal wages, and/or jobs.  The economic event analyzed can include implementation of a new policy or project, or may simply be the presence of a business or organization.  An economic impact analysis is commonly conducted when there is public concern about the potential impacts of a proposed project or policy.\\nAn economic impact analysis typically measures or estimates the change in economic activity between two scenarios, one assuming the economic event occurs, and one assuming it does not occur (which is referred to as the counterfactual case).  This can be accomplished either before or after the event (ex ante or ex post).\\nAn economic impact analysis attempts to measure or estimate the change in economic activity in a specified region, caused by a specific business, organization, policy, program, project, activity, or other economic event.  The study region can be a neighborhood, town, city, county, statistical area, state, country, continent, or the entire globe.\\n\\n', '\\n\\nTitle: Technological singularity\\nSummary:\\nThe technological singularity—or simply the singularity—is a hypothetical future point in time at which technological growth becomes uncontrollable and irreversible, resulting in unforeseeable consequences for Human civilization. According to the most popular version of the singularity hypothesis, I. J. Good\\'s intelligence explosion model of 1965, an upgradable intelligent agent could eventually enter a positive feedback loop of self-improvement cycles, each successive; and more intelligent generation appearing more and more rapidly, causing a rapid increase (\"explosion\") in intelligence which would ultimately result in a powerful superintelligence, qualitatively far surpassing all human intelligence.\\nThe Hungarian-American mathematician John von Neumann (1903-1957) became the first known person to use the concept of a \"singularity\" in the technological context. Stanislaw Ulam reported in 1958 an earlier discussion with von Neumann \"centered on the accelerating progress of technology and changes in human life, which gives the appearance of approaching some essential singularity in the history of the race beyond which human affairs, as we know them, could not continue\". Subsequent authors have echoed this viewpoint.\\nThe concept and the term \"singularity\" were popularized by Vernor Vinge – first in 1983 (in an article that claimed that once humans create intelligences greater than their own, there will be a technological and social transition similar in some sense to \"the knotted space-time at the center of a black hole\",) and later in his 1993 essay The Coming Technological Singularity, (in which he wrote that it would signal the end of the human era, as the new superintelligence would continue to upgrade itself and would advance technologically at an incomprehensible rate). He wrote that he would be surprised if it occurred before 2005 or after 2030. Another significant contributor to wider circulation of the notion was Ray Kurzweil\\'s 2005 book The Singularity Is Near, predicting singularity by 2045.\\nSome scientists, including Stephen Hawking, have expressed concern that artificial superintelligence (ASI) could result in human extinction. The consequences of a technological singularity and its potential benefit or harm to the human race have been intensely debated.\\nSome prominent technologists and academics – including Paul Allen, Jeff Hawkins, John Holland, Jaron Lanier, Steven Pinker, Theodore Modis, and Gordon Moore – dispute the plausibility of a technological singularity and an associated artificial-intelligence explosion. One claim made was that the artificial-intelligence growth is likely to run into decreasing returns instead of accelerating ones, as was observed in previously developed human technologies.', '\\n\\nTitle: Environmental impacts of artificial intelligence\\nSummary:\\nThe environmental impacts of artificial intelligence (AI) may vary significantly. Many deep learning methods have significant carbon footprints and water usage. Some scientists have suggested that artificial intelligence may provide solutions to environmental problems.', \"\\n\\nTitle: Automation\\nSummary:\\nAutomation describes a wide range of technologies that reduce human intervention in processes, mainly by predetermining decision criteria, subprocess relationships, and related actions, as well as embodying those predeterminations in machines. Automation has been achieved by various means including mechanical, hydraulic, pneumatic, electrical, electronic devices, and computers, usually in combination. Complicated systems, such as modern factories, airplanes, and ships typically use combinations of all of these techniques. The benefit of automation includes labor savings, reducing waste, savings in electricity costs, savings in material costs, and improvements to quality, accuracy, and precision.\\nAutomation includes the use of various equipment and control systems such as machinery, processes in factories, boilers, and heat-treating ovens, switching on telephone networks, steering, stabilization of ships, aircraft and other applications and vehicles with reduced human intervention. Examples range from a household thermostat controlling a boiler to a large industrial control system with tens of thousands of input measurements and output control signals. Automation has also found a home in the banking industry. It can range from simple on-off control to multi-variable high-level algorithms in terms of control complexity.\\nIn the simplest type of an automatic control loop, a controller compares a measured value of a process with a desired set value and processes the resulting error signal to change some input to the process, in such a way that the process stays at its set point despite disturbances. This closed-loop control is an application of negative feedback to a system. The mathematical basis of control theory was begun in the 18th century and advanced rapidly in the 20th. The term automation, inspired by the earlier word automatic (coming from automaton), was not widely used before 1947, when Ford established an automation department. It was during this time that the industry was rapidly adopting feedback controllers, which were introduced in the 1930s.\\nThe World Bank's World Development Report of 2019 shows evidence that the new industries and jobs in the technology sector outweigh the economic effects of workers being displaced by automation. Job losses and downward mobility blamed on automation have been cited as one of many factors in the resurgence of nationalist, protectionist and populist politics in the US, UK and France, among other countries since the 2010s.\", \"\\n\\nTitle: Machine learning\\nSummary:\\nMachine learning (ML) is a field of study in artificial intelligence concerned with the development and study of statistical algorithms that can learn from data and generalize to unseen data and thus perform tasks without explicit instructions. Recently, artificial neural networks have been able to surpass many previous approaches in performance.\\nML finds application in many fields, including natural language processing, computer vision, speech recognition, email filtering, agriculture, and medicine. When applied to business problems, it is known under the name predictive analytics. Although not all machine learning is statistically based, computational statistics is an important source of the field's methods.\\nThe mathematical foundations of ML are provided by mathematical optimization (mathematical programming) methods. Data mining is a related (parallel) field of study, focusing on exploratory data analysis (EDA) through unsupervised learning. \\nFrom a theoretical viewpoint, probably approximately correct (PAC) learning provides a framework for describing machine learning.\", '\\n\\nTitle: Robotics\\nSummary:\\nRobotics is the interdisciplinary study and practice of the design, construction, operation, and use of robots.\\nWithin mechanical engineering, robotics is the design and construction of the physical structures of robots, while in computer science, robotics focuses on robotic automation algorithms. Other disciplines contributing to robotics include electrical, control, software, information, electronic, telecommunication, computer, mechatronic, and materials engineering. \\n\\nThe goal of most robotics is to design machines that can help and assist humans. Many robots are built to do jobs that are hazardous to people, such as finding survivors in unstable ruins, and exploring space, mines and shipwrecks. Others replace people in jobs that are boring, repetitive, or unpleasant, such as cleaning, monitoring, transporting, and assembling. Today, robotics is a rapidly growing field, as technological advances continue; researching, designing, and building new robots serve various practical purposes.\\n\\n', '\\n\\nTitle: Digital economy\\nSummary:\\nThe digital economy is a portmanteau of digital computing and economy, and is an umbrella term that describes how traditional brick-and-mortar economic activities (production, distribution, trade) are being transformed by the Internet and World Wide Web technologies.\\nThe digital economy is backed by the spread of information and communication technologies (ICT) across all business sectors to enhance productivity. A phenomenon referred to as the Internet of Things (IoT) is increasingly prevalent, as consumer products are embedded with digital services and devices.\\nAccording to the WEF, 70% of the global economy will be made up of digital technology over the next 10 years (from 2020 onwards). This is a trend accelerated by the COVID-19 pandemic and the tendency to go online. The future of work, especially since the COVID-19 pandemic, also contributed to the digital economy. More people are now working online, and with the increase of online activity that contributes to the global economy, companies that support the systems of the Internet are more profitable.\\n\\nDigital transformation of the economy alters conventional notions about how businesses are structured, how consumers obtain goods and services, and how states need to adapt to new regulatory challenges. The digital economy has the potential to shape economic interactions between states, businesses and individuals profoundly. The emergence of the digital economy has prompted new debates over privacy rights, competition, and taxation, with calls for national and transnational regulations of the digital economy.', \"\\n\\nTitle: Knightscope\\nSummary:\\nKnightscope, Inc. is an American security camera and robotics company headquartered in Mountain View, California. Knightscope designs, builds and deploys robots called Autonomous Data Robots (ADRs) for use in monitoring people in malls, parking lots, neighborhoods and other public areas. Knightscope robots are fully autonomous using self-driving technology and are designed to alert police and security of incidents through sensors that detect weapons, read license plates and detect other suspicious activities.\\nKnightscope was founded in 2013, its founders stated that they were motivated to create autonomous security robots following the Sandy Hook School Shooting in 2012. Knightscope shipped their first robot in 2015. The company has four models of robots, designed for indoor, outdoor, and all terrain uses, as well as a model for stationary use. After several years of operation and several rounds of fundraising, primarily through equity crowdfunding, the company became public and launched an initial public offering (IPO) on January 27, 2022.\\nKnightscope is the most well known maker of fully autonomous security robots. Users of Knightscope robots have generally reported lower crime rates in the areas the robots were deployed, attributed mostly to physical deterrence by the robot's presence. Knightscope autonomous robots have raised concerns from critics over privacy and job displacement.\", '\\n\\nTitle: Ethics of artificial intelligence\\nSummary:\\nThe ethics of artificial intelligence covers a broad range of topics within the field that are considered to have particular ethical stakes. This includes algorithmic biases, fairness, automated decision-making, accountability, privacy, and regulation. \\nIt also covers various emerging or potential future challenges such as machine ethics (how to make machines that behave ethically), lethal autonomous weapon systems, arms race dynamics, AI safety and alignment, technological unemployment, AI-enabled misinformation, how to treat certain AI systems if they have a moral status (AI welfare and rights), artificial superintelligence and existential risks. \\nSome application areas may also have particularly important ethical implications, like healthcare, education, criminal justice, or the military.\\n\\n', '\\n\\nTitle: Sustainability\\nSummary:\\nSustainability is a social goal for people to co-exist on Earth over a long period of time. Definitions of this term are disputed and have varied with literature, context, and time. Sustainability usually has three dimensions (or pillars): environmental, economic, and social. Many definitions emphasize the environmental dimension. This can include addressing key environmental problems, including climate change and biodiversity loss. The idea of sustainability can guide decisions at the global, national, organizational, and individual levels. A related concept is that of sustainable development, and the terms are often used to mean the same thing. UNESCO distinguishes the two like this: \"Sustainability is often thought of as a long-term goal (i.e. a more sustainable world), while sustainable development refers to the many processes and pathways to achieve it.\"\\nDetails around the economic dimension of sustainability are controversial. Scholars have discussed this under the concept of weak and strong sustainability. For example, there will always be tension between the ideas of \"welfare and prosperity for all\" and environmental conservation, so trade-offs are necessary. It would be desirable to find ways that separate economic growth from harming the environment. This means using fewer resources per unit of output even while growing the economy. This decoupling reduces the environmental impact of economic growth, such as pollution. Doing this is difficult. Some experts say there is no evidence that such a decoupling is happening at the required scale. \\nIt is challenging to measure sustainability as the concept is complex, contextual, and dynamic. Indicators have been developed to cover the environment, society, or the economy but there is no fixed definition of sustainability indicators. The metrics are evolving and include indicators, benchmarks and audits. They include sustainability standards and certification systems like Fairtrade and Organic. They also involve indices and accounting systems such as corporate sustainability reporting and Triple Bottom Line accounting. \\nIt is necessary to address many barriers to sustainability to achieve a sustainability transition.:\\u200a34\\u200a Some barriers arise from nature and its complexity while others are extrinsic to the concept of sustainability. For example, they can result from the dominant institutional frameworks in countries.\\nGlobal issues of sustainability are difficult to tackle as they need global solutions. Existing global organizations such as the UN and WTO are seen as inefficient in enforcing current global regulations. One reason for this is the lack of suitable sanctioning mechanisms.:\\u200a135–145\\u200a Governments are not the only sources of action for sustainability. For example, business groups have tried to integrate ecological concerns with economic activity, seeking sustainable business. Religious leaders have stressed the need for caring for nature and environmental stability. Individuals can also live more sustainably.\\nSome people have criticized the idea of sustainability. One point of criticism is that the concept is vague and only a buzzword. Another is that sustainability might be an impossible goal. Some experts have pointed out that \"no country is delivering what its citizens need without transgressing the biophysical planetary boundaries\".:\\u200a11\\u200a', '\\n\\nTitle: Smart city\\nSummary:\\nA smart city is an urban area that has been developed with a high level of technological advancement, utilising a variety of electronic methods and sensors to collect specific data. This data is then used to manage assets, resources and services in an efficient manner, with the understanding that this data will in turn be used to improve operations across the city. This data can be collected from a number of sources, including citizens, devices, buildings and assets that is processed and analyzed in order to monitor and manage traffic and transportation systems, power plants, utilities, urban forestry, water supply networks, waste disposal, criminal investigations, information systems, schools, libraries, hospitals, and other community services. The term \\'smart city\\' is defined by two key aspects: the ways in which their local governments harness technology as well as in how they monitor, analyze, plan, and govern the city. In a smart city, the sharing of data is not confined to the municipal authority but extends to businesses, citizens and other third parties who can derive benefit from the utilisation of that data. The pooling of data from disparate systems and sectors creates opportunities for enhanced understanding and economic gain.\\nThe smart city concept integrates information and communication technology (ICT), and various physical devices connected to the Internet of things (IOT) network to optimize the efficiency of city operations and services and connect to citizens. Smart city technology allows city officials to interact directly with both community and city infrastructure and to monitor what is happening in the city and how the city is evolving. ICT is used to enhance quality, performance and interactivity of urban services, to reduce costs and resource consumption and to increase contact between citizens and government. Smart city applications are developed to manage urban flows and allow for real-time responses. A smart city may therefore be more prepared to respond to challenges than one with a conventional \"transactional\" relationship with its citizens. Yet, the term itself remains unclear in its specifics and therefore, open to many interpretations. Many cities have already adopted some sort of smart city technology.\\nSmart city initiatives have been criticized as largely driven by unreliable corporations, poorly adapted to residents\\' needs, as largely unsuccessful, and as a dangerous move toward totalitarian surveillance.', '\\n\\nTitle: Information privacy\\nSummary:\\nInformation privacy is the relationship between the collection and dissemination of data, technology, the public expectation of privacy, contextual information norms, and the legal and political issues surrounding them. It is also known as data privacy or data protection.\\n\\n', '\\n\\nTitle: Algorithmic bias\\nSummary:\\nAlgorithmic bias describes systematic and repeatable errors in a computer system that create \"unfair\" outcomes, such as \"privileging\" one category over another in ways different from the intended function of the algorithm.\\nBias can emerge from many factors, including but not limited to the design of the algorithm or the unintended or unanticipated use or decisions relating to the way data is coded, collected, selected or used to train the algorithm. For example, algorithmic bias has been observed in search engine results and social media platforms. This bias can have impacts ranging from inadvertent privacy violations to reinforcing social biases of race, gender, sexuality, and ethnicity. The study of algorithmic bias is most concerned with algorithms that reflect \"systematic and unfair\" discrimination. This bias has only recently been addressed in legal frameworks, such as the European Union\\'s General Data Protection Regulation (proposed 2018) and the Artificial Intelligence Act (proposed 2021, approved 2024).\\nAs algorithms expand their ability to organize society, politics, institutions, and behavior, sociologists have become concerned with the ways in which unanticipated output and manipulation of data can impact the physical world. Because algorithms are often considered to be neutral and unbiased, they can inaccurately project greater authority than human expertise (in part due to the psychological phenomenon of automation bias), and in some cases, reliance on algorithms can displace human responsibility for their outcomes. Bias can enter into algorithmic systems as a result of pre-existing cultural, social, or institutional expectations; by how features and labels are chosen; because of technical limitations of their design; or by being used in unanticipated contexts or by audiences who are not considered in the software\\'s initial design.\\nAlgorithmic bias has been cited in cases ranging from election outcomes to the spread of online hate speech. It has also arisen in criminal justice, healthcare, and hiring, compounding existing racial, socioeconomic, and gender biases. The relative inability of facial recognition technology to accurately identify darker-skinned faces has been linked to multiple wrongful arrests of black men, an issue stemming from imbalanced datasets. Problems in understanding, researching, and discovering algorithmic bias persist due to the proprietary nature of algorithms, which are typically treated as trade secrets. Even when full transparency is provided, the complexity of certain algorithms poses a barrier to understanding their functioning. Furthermore, algorithms may change, or respond to input or output in ways that cannot be anticipated or easily reproduced for analysis. In many cases, even within a single website or application, there is no single \"algorithm\" to examine, but a network of many interrelated programs and data inputs, even between users of the same service.', '\\n\\nTitle: Regulation of artificial intelligence\\nSummary:\\nRegulation of artificial intelligence is the development of public sector policies and laws for promoting and regulating artificial intelligence (AI). It is part of the broader regulation of algorithms. The regulatory and policy landscape for AI is an emerging issue in jurisdictions worldwide, including for international organizations without direct enforcement power like the IEEE or the OECD. \\nSince 2016, numerous AI ethics guidelines have been published in order to maintain social control over the technology. Regulation is deemed necessary to both foster AI innovation and manage associated risks. \\nFurthermore, organizations deploying AI have a central role to play in creating and implementing trustworthy AI, adhering to established principles, and taking accountability for mitigating risks. \\nRegulating AI through mechanisms such as review boards can also be seen as social means to approach the AI control problem.\\n\\n', '\\n\\nTitle: The Future of Work and Death\\nSummary:\\nThe Future of Work and Death is a 2016 documentary by Sean Blacknell and Wayne Walsh about the exponential growth of technology.\\nThe film showed at several film festivals including Raindance Film Festival, International Film Festival Rotterdam, Academia Film Olomouc and CPH:DOX.\\nIn May 2017 it received an official screening at the European Commission. It was distributed by First Run Features and Journeyman Pictures and was released on iTunes, Amazon Prime and On-demand on 9 May 2017. The film was made available on Sundance Now on 27 November 2017. A companion piece to the film, The Cost of Living, a documentary concerning universal basic income in Britain, was released on Amazon Prime on 8 October 2020.', '\\n\\nTitle: Artificial intelligence art\\nSummary:\\nArtificial intelligence art is visual artwork created through the use of an artificial intelligence (AI) program.   \\nArtists began to create artificial intelligence art in the mid to late 20th century, when the discipline was founded. Throughout its history, artificial intelligence art has raised many philosophical concerns related to the human mind, artificial beings, and what can be considered art in a human–AI collaboration. Since the 20th century, artists have used AI to create art, some of which has been exhibited in museums and won awards.\\nThe increased availability of AI art tools to the general public in the 2020s AI boom provided opportunities for creating AI generated images outside of academia and professional artists. Commentary about AI art in the 2020s has often focused on issues related to copyright, deception, defamation, and its impact on more traditional artists, including technological unemployment.', '\\n\\nTitle: Technological unemployment\\nSummary:\\nTechnological unemployment is the loss of jobs caused by technological change. It is a key type of structural unemployment. Technological change typically includes the introduction of labour-saving \"mechanical-muscle\" machines or more efficient \"mechanical-mind\" processes (automation), and humans\\' role in these processes are minimized. Just as horses were gradually made obsolete as transport by the automobile and as labourer by the tractor, humans\\' jobs have also been affected throughout modern history. Historical examples include artisan weavers reduced to poverty after the introduction of mechanized looms. During World War II, Alan Turing\\'s bombe machine compressed and decoded thousands of man-years worth of encrypted data in a matter of hours. A contemporary example of technological unemployment is the displacement of retail cashiers by self-service tills and cashierless stores.\\nThat technological change can cause short-term job losses is widely accepted. The view that it can lead to lasting increases in unemployment has long been controversial. Participants in the technological unemployment debates can be broadly divided into optimists and pessimists. Optimists agree that innovation may be disruptive to jobs in the short term, yet hold that various compensation effects ensure there is never a long-term negative impact on jobs, whereas pessimists contend that at least in some circumstances, new technologies can lead to a lasting decline in the total number of workers in employment. The phrase \"technological unemployment\" was popularised by John Maynard Keynes in the 1930s, who said it was \"only a temporary phase of maladjustment\". The issue of machines displacing human labour has been discussed since at least Aristotle\\'s time.\\nPrior to the 18th century, both the elite and common people would generally take the pessimistic view on technological unemployment, at least in cases where the issue arose. Due to generally low unemployment in much of pre-modern history, the topic was rarely a prominent concern. In the 18th century fears over the impact of machinery on jobs intensified with the growth of mass unemployment, especially in Great Britain which was then at the forefront of the Industrial Revolution. Yet some economic thinkers began to argue against these fears, claiming that overall innovation would not have negative effects on jobs. These arguments were formalised in the early 19th century by the classical economists. During the second half of the 19th century, it stayed apparent that technological progress was benefiting all sections of society, including the working class. Concerns over the negative impact of innovation diminished. The term \"Luddite fallacy\" was coined to describe the thinking that innovation would have lasting harmful effects on employment.\\nThe view that technology is unlikely to lead to long-term unemployment has been repeatedly challenged by a minority of economists. In the early 1800s these included David Ricardo himself. There were dozens of economists warning about technological unemployment during brief intensifications of the debate that spiked in the 1930s and 1960s. Especially in Europe, there were further warnings in the closing two decades of the twentieth century, as commentators noted an enduring rise in unemployment suffered by many industrialised nations since the 1970s. Yet a clear majority of both professional economists and the interested general public held the optimistic view through most of the 20th century.\\nIn the second decade of the 21st century, a number of studies have been released suggesting that technological unemployment may increase worldwide. Oxford Professors Carl Benedikt Frey and Michael Osborne, for example, have estimated that 47 percent of U.S. jobs are at risk of automation. However, their methodology has been challenged as lacking evidential foundation and criticised for implying that technology (rather than social policy) creates unemployment rather than redundancies. On the PBS NewsHours the authors defended their findings and clarified they do necessarily imply future technological unemployment. While many economists and commentators still argue such fears are unfounded, as was widely accepted for most of the previous two centuries, concern over technological unemployment is growing once again. A report in Wired in 2017 quotes knowledgeable people such as economist Gene Sperling and management professor Andrew McAfee on the idea that handling existing and impending job loss to automation is a \"significant issue\". Recent technological innovations have the potential to displace humans in the professional, white-collar, low-skilled, creative fields, and other \"mental jobs\". The World Bank\\'s World Development Report 2019 argues that while automation displaces workers, technological innovation creates more new industries and jobs on balance.', \"\\n\\nTitle: Health and environmental impact of the petroleum industry\\nSummary:\\nThe environmental impact of the petroleum industry is extensive and expansive due to petroleum having many uses.\\nCrude oil and natural gas are primary energy and raw material sources that enable numerous aspects of modern daily life and the world economy.\\nTheir supply has grown quickly over the last 150 years to meet the demands of the rapidly increasing human population, creativity, knowledge, and consumerism.\\nSubstantial quantities of toxic and non-toxic waste are generated during the extraction, refinement, and transportation stages of oil and gas.\\nSome industry by-products, such as volatile organic compounds, nitrogen & sulfur compounds, and spilled oil can pollute the air, water and soil at levels that are harmful to life, when improperly managed.\\nClimate warming, ocean acidification, and sea level rise are global changes enhanced by the industry's emissions of greenhouse gases like carbon dioxide (CO2) and methane, and micro-particulate aerosols like black carbon. Vehicle tailpipe emissions kill many people.\\nAmong all human activities, fossil fuel combustion is the largest contributor to the ongoing buildup of carbon in the Earth's biosphere.\\nThe International Energy Agency and others report that oil & gas use comprises over 55% (18 billion tons) of the recorded 32.8 billion tons (BT) of CO2 released into the atmosphere from all energy sources in year 2017.\\nCoal use comprised most of the remaining 45%.  Total emissions continue to rise nearly every year: from 1.7% to 33.1 BT in 2018.\\nThrough its operations, the petroleum industry directly contributed about 8% (2.7 BT) of the 32.8 BT in 2017.\\nAlso, due to its intentional and other releases of natural gas, the industry directly contributed at least 79 million tons of methane (2.4 BT CO2-equivalent) that same year; an amount equal to about 14% of all known anthropogenic and natural emissions of the potent warming gas.\\nAlong with fuels like gasoline and liquified natural gas, petroleum enables many consumer chemicals and products, such as fertilizers and plastics.\\nMost alternative technologies for energy generation, transportation, and storage can only be realized at this time because of its diverse usefulness.\\nConservation, efficiency, and minimizing waste impacts of petroleum products are effective industry and consumer actions toward achieving better environmental sustainability.\", '\\n\\nTitle: Artificial intelligence in healthcare\\nSummary:\\nArtificial intelligence in healthcare is the application of artificial intelligence (AI) to copy human cognition in the analysis, presentation, and understanding of complex medical and health care data. It can also augment and exceed human capabilities by providing faster or new ways to diagnose, treat, or prevent disease. Using AI in healthcare has the potential improve predicting, diagnosing and treating diseases. Through machine learning algorithms and deep learning, AI can analyse large sets of clinical data and electronic health records and can help to diagnose the disease more quickly and precisely.\\nAI programs are applied to practices such as diagnostics, treatment protocol development, drug development, personalized medicine, and patient monitoring and care.\\nBecause radiographs are the most common imaging tests conducted in most radiology departments, the potential for AI to help with triage and interpretation of traditional radiographs (X-ray pictures) is particularly noteworthy.\\nAs widespread use of AI in healthcare is relatively new, research is ongoing into its application in various fields of medicine and related industries. \\nUsing AI also presents unprecedented ethical concerns related to issues such as data privacy, automation of jobs, and amplifying already existing biases. Furthermore, new technologies brought about by AI in healthcare are often resisted by healthcare leaders, leading to slow and erratic adoption.\\n\\n', '\\n\\nTitle: AI in education\\nSummary:\\nArtificial intelligence or Ai is a broad “skewer” term that has specific areas of study clustered next to it, including machine learning, natural language processing, the philosophy of artificial intelligence, autonomous robots and TESCREAL. Research about AI in higher education is widespread in the global north, where there is much hype from venture capital, big tech and some open educationalists. Some believe that Ai will remove the obstacle of \"access to expertise”. Others claim that education will be revolutionized with machines and their ability to understand natural language. While others are exploring how LLM’s “reasoning” might be improved. Marketers often use different kinds of myths to make complex products seem simpler There is at present, no scientific consensus on what Ai is or how to classify and sub-categorize AI This has not hampered the growth of  Ai systems which offer scholars and students automatic assessment and feedback, predictions, instant machine translations, on-demand proof-reading and copy editing, intelligent tutoring or virtual assistants.   Ai brings conversational coherence to the classroom, and automates the production of content.Using categorisation, summaries and dialogue, Ai \"intelligence\" or \"authority\" is reinforced through anthropomorphism and the Eliza effect. Ai also introduces hazards, such as skewed scientific knowledge dissemination , harmful educational practices,  or might discourage researchers from publishing their original research openly.  Worries about AI safety risks such as privacy breaches, algorithmic biases, security concerns, ethics, and compliance barriers are accompanied by other doomsday warnings.', '\\n\\nTitle: The MANIAC\\nSummary:\\nThe MANIAC is a 2023 novel by Chilean author Benjamín Labatut, written in English. It is a fictionalised biography of polymath John von Neumann, whom Labatut calls \"the smartest human being of the 20th century\". The book focuses on von Neumann, but is also about physicist Paul Ehrenfest, history of artificial intelligence, and Lee Sedol\\'s Go match against AlphaGo. The book received mostly positive reviews from critics.'], 'editors': None, 'interview_results': None, 'article': None}\n"
     ]
    },
    {
     "name": "stderr",
     "output_type": "stream",
     "text": [
      "AsyncCallbackManager.merge(): Parent run IDs do not match. Using the parent run ID of the first callback manager.\n",
      "AsyncCallbackManager.merge(): Parent run IDs do not match. Using the parent run ID of the first callback manager.\n",
      "AsyncCallbackManager.merge(): Parent run IDs do not match. Using the parent run ID of the first callback manager.\n",
      "AsyncCallbackManager.merge(): Parent run IDs do not match. Using the parent run ID of the first callback manager.\n",
      "AsyncCallbackManager.merge(): Parent run IDs do not match. Using the parent run ID of the first callback manager.\n",
      "AsyncCallbackManager.merge(): Parent run IDs do not match. Using the parent run ID of the first callback manager.\n",
      "AsyncCallbackManager.merge(): Parent run IDs do not match. Using the parent run ID of the first callback manager.\n",
      "AsyncCallbackManager.merge(): Parent run IDs do not match. Using the parent run ID of the first callback manager.\n",
      "AsyncCallbackManager.merge(): Parent run IDs do not match. Using the parent run ID of the first callback manager.\n"
     ]
    },
    {
     "name": "stdout",
     "output_type": "stream",
     "text": [
      "identify perspectives\n",
      "--  {'topic': 'AI agents and the potential economic, social, and environmental impacts.', 'outline': Outline(sections=[Section(title='Introduction', description='An overview of AI agents, defining what they are and their significance in contemporary society.', subsections=None, references=[]), Section(title='Economic Impacts', description='An exploration of how AI agents affect various economic sectors, employment, and productivity.', subsections=[SubSection(title='Job Displacement', description='Analysis of how AI agents may lead to job losses in certain sectors.'), SubSection(title='Job Creation', description='Discussion on new job opportunities arising from AI advancements.'), SubSection(title='Productivity and Efficiency', description='Examination of how AI agents enhance productivity and efficiency in businesses.'), SubSection(title='Market Dynamics', description='Impact of AI on competition and market structures.')], references=[]), Section(title='Social Impacts', description='Assessment of the social implications of AI agents on society and individuals.', subsections=[SubSection(title='Access to Technology', description='How AI agents influence access to technology and information.'), SubSection(title='Ethical Considerations', description='Exploration of ethical dilemmas associated with AI agents.'), SubSection(title='Privacy Concerns', description='Issues related to data privacy and surveillance.'), SubSection(title='Social Inequality', description='Impacts of AI on social equity and disparities.')], references=[]), Section(title='Environmental Impacts', description='Analysis of the environmental effects of AI agents and their potential to aid in sustainability efforts.', subsections=[SubSection(title='Energy Consumption', description='The environmental footprint of AI technologies.'), SubSection(title='Sustainability Applications', description='How AI agents can contribute to environmental sustainability.'), SubSection(title='Climate Change Mitigation', description='Role of AI in addressing climate change challenges.')], references=[]), Section(title='Future Outlook', description='A look at the future implications of AI agents across economic, social, and environmental dimensions.', subsections=None, references=[]), Section(title='Conclusion', description='Summary of the key points discussed and final thoughts on the overall impact of AI agents.', subsections=None, references=[]), Section(title='References', description='A list of scholarly articles, books, and other resources cited in the article.', subsections=None, references=[])]), 'related_articles': ['\\n\\nTitle: Intelligent agent\\nSummary:\\nIn intelligence and artificial intelligence, an intelligent agent (IA) is an agent that perceives its environment, takes actions autonomously in order to achieve goals, and may improve its performance with learning or acquiring knowledge. An intelligent agent may be simple or complex: A thermostat or other control system is considered an example of an intelligent agent, as is a human being, as is any system that meets the definition, such as a firm, a state, or a biome.\\n\\nLeading AI textbooks define \"artificial intelligence\" as the \"study and design of intelligent agents\", a definition that considers goal-directed behavior to be the essence of intelligence. Goal-directed agents are also described using a term borrowed from economics, \"rational agent\".\\nAn agent has an \"objective function\" that encapsulates all the IA\\'s goals. Such an agent is designed to create and execute whatever plan will, upon completion, maximize the expected value of the objective function. For example, a reinforcement learning agent has a \"reward function\" that allows the programmers to shape the IA\\'s desired behavior, and an evolutionary algorithm\\'s behavior is shaped by a \"fitness function\". \\nIntelligent agents in artificial intelligence are closely related to agents in economics, and versions of the intelligent agent paradigm are studied in cognitive science, ethics, and the philosophy of practical reason, as well as in many interdisciplinary socio-cognitive modeling and computer social simulations.\\nIntelligent agents are often described schematically as an abstract functional system similar to a computer program. Abstract descriptions of intelligent agents are called abstract intelligent agents (AIA) to distinguish them from their real-world implementations. An autonomous intelligent agent is designed to function in the absence of human intervention. Intelligent agents are also closely related to software agents (an autonomous computer program that carries out tasks on behalf of users).', '\\n\\nTitle: Economic impact analysis\\nSummary:\\nAn economic impact analysis (EIA) examines the effect of an event on the economy in a specified area, ranging from a single neighborhood to the entire globe. It usually measures changes in business revenue, business profits, personal wages, and/or jobs.  The economic event analyzed can include implementation of a new policy or project, or may simply be the presence of a business or organization.  An economic impact analysis is commonly conducted when there is public concern about the potential impacts of a proposed project or policy.\\nAn economic impact analysis typically measures or estimates the change in economic activity between two scenarios, one assuming the economic event occurs, and one assuming it does not occur (which is referred to as the counterfactual case).  This can be accomplished either before or after the event (ex ante or ex post).\\nAn economic impact analysis attempts to measure or estimate the change in economic activity in a specified region, caused by a specific business, organization, policy, program, project, activity, or other economic event.  The study region can be a neighborhood, town, city, county, statistical area, state, country, continent, or the entire globe.\\n\\n', '\\n\\nTitle: Technological singularity\\nSummary:\\nThe technological singularity—or simply the singularity—is a hypothetical future point in time at which technological growth becomes uncontrollable and irreversible, resulting in unforeseeable consequences for Human civilization. According to the most popular version of the singularity hypothesis, I. J. Good\\'s intelligence explosion model of 1965, an upgradable intelligent agent could eventually enter a positive feedback loop of self-improvement cycles, each successive; and more intelligent generation appearing more and more rapidly, causing a rapid increase (\"explosion\") in intelligence which would ultimately result in a powerful superintelligence, qualitatively far surpassing all human intelligence.\\nThe Hungarian-American mathematician John von Neumann (1903-1957) became the first known person to use the concept of a \"singularity\" in the technological context. Stanislaw Ulam reported in 1958 an earlier discussion with von Neumann \"centered on the accelerating progress of technology and changes in human life, which gives the appearance of approaching some essential singularity in the history of the race beyond which human affairs, as we know them, could not continue\". Subsequent authors have echoed this viewpoint.\\nThe concept and the term \"singularity\" were popularized by Vernor Vinge – first in 1983 (in an article that claimed that once humans create intelligences greater than their own, there will be a technological and social transition similar in some sense to \"the knotted space-time at the center of a black hole\",) and later in his 1993 essay The Coming Technological Singularity, (in which he wrote that it would signal the end of the human era, as the new superintelligence would continue to upgrade itself and would advance technologically at an incomprehensible rate). He wrote that he would be surprised if it occurred before 2005 or after 2030. Another significant contributor to wider circulation of the notion was Ray Kurzweil\\'s 2005 book The Singularity Is Near, predicting singularity by 2045.\\nSome scientists, including Stephen Hawking, have expressed concern that artificial superintelligence (ASI) could result in human extinction. The consequences of a technological singularity and its potential benefit or harm to the human race have been intensely debated.\\nSome prominent technologists and academics – including Paul Allen, Jeff Hawkins, John Holland, Jaron Lanier, Steven Pinker, Theodore Modis, and Gordon Moore – dispute the plausibility of a technological singularity and an associated artificial-intelligence explosion. One claim made was that the artificial-intelligence growth is likely to run into decreasing returns instead of accelerating ones, as was observed in previously developed human technologies.', '\\n\\nTitle: Environmental impacts of artificial intelligence\\nSummary:\\nThe environmental impacts of artificial intelligence (AI) may vary significantly. Many deep learning methods have significant carbon footprints and water usage. Some scientists have suggested that artificial intelligence may provide solutions to environmental problems.', \"\\n\\nTitle: Automation\\nSummary:\\nAutomation describes a wide range of technologies that reduce human intervention in processes, mainly by predetermining decision criteria, subprocess relationships, and related actions, as well as embodying those predeterminations in machines. Automation has been achieved by various means including mechanical, hydraulic, pneumatic, electrical, electronic devices, and computers, usually in combination. Complicated systems, such as modern factories, airplanes, and ships typically use combinations of all of these techniques. The benefit of automation includes labor savings, reducing waste, savings in electricity costs, savings in material costs, and improvements to quality, accuracy, and precision.\\nAutomation includes the use of various equipment and control systems such as machinery, processes in factories, boilers, and heat-treating ovens, switching on telephone networks, steering, stabilization of ships, aircraft and other applications and vehicles with reduced human intervention. Examples range from a household thermostat controlling a boiler to a large industrial control system with tens of thousands of input measurements and output control signals. Automation has also found a home in the banking industry. It can range from simple on-off control to multi-variable high-level algorithms in terms of control complexity.\\nIn the simplest type of an automatic control loop, a controller compares a measured value of a process with a desired set value and processes the resulting error signal to change some input to the process, in such a way that the process stays at its set point despite disturbances. This closed-loop control is an application of negative feedback to a system. The mathematical basis of control theory was begun in the 18th century and advanced rapidly in the 20th. The term automation, inspired by the earlier word automatic (coming from automaton), was not widely used before 1947, when Ford established an automation department. It was during this time that the industry was rapidly adopting feedback controllers, which were introduced in the 1930s.\\nThe World Bank's World Development Report of 2019 shows evidence that the new industries and jobs in the technology sector outweigh the economic effects of workers being displaced by automation. Job losses and downward mobility blamed on automation have been cited as one of many factors in the resurgence of nationalist, protectionist and populist politics in the US, UK and France, among other countries since the 2010s.\", \"\\n\\nTitle: Machine learning\\nSummary:\\nMachine learning (ML) is a field of study in artificial intelligence concerned with the development and study of statistical algorithms that can learn from data and generalize to unseen data and thus perform tasks without explicit instructions. Recently, artificial neural networks have been able to surpass many previous approaches in performance.\\nML finds application in many fields, including natural language processing, computer vision, speech recognition, email filtering, agriculture, and medicine. When applied to business problems, it is known under the name predictive analytics. Although not all machine learning is statistically based, computational statistics is an important source of the field's methods.\\nThe mathematical foundations of ML are provided by mathematical optimization (mathematical programming) methods. Data mining is a related (parallel) field of study, focusing on exploratory data analysis (EDA) through unsupervised learning. \\nFrom a theoretical viewpoint, probably approximately correct (PAC) learning provides a framework for describing machine learning.\", '\\n\\nTitle: Robotics\\nSummary:\\nRobotics is the interdisciplinary study and practice of the design, construction, operation, and use of robots.\\nWithin mechanical engineering, robotics is the design and construction of the physical structures of robots, while in computer science, robotics focuses on robotic automation algorithms. Other disciplines contributing to robotics include electrical, control, software, information, electronic, telecommunication, computer, mechatronic, and materials engineering. \\n\\nThe goal of most robotics is to design machines that can help and assist humans. Many robots are built to do jobs that are hazardous to people, such as finding survivors in unstable ruins, and exploring space, mines and shipwrecks. Others replace people in jobs that are boring, repetitive, or unpleasant, such as cleaning, monitoring, transporting, and assembling. Today, robotics is a rapidly growing field, as technological advances continue; researching, designing, and building new robots serve various practical purposes.\\n\\n', '\\n\\nTitle: Digital economy\\nSummary:\\nThe digital economy is a portmanteau of digital computing and economy, and is an umbrella term that describes how traditional brick-and-mortar economic activities (production, distribution, trade) are being transformed by the Internet and World Wide Web technologies.\\nThe digital economy is backed by the spread of information and communication technologies (ICT) across all business sectors to enhance productivity. A phenomenon referred to as the Internet of Things (IoT) is increasingly prevalent, as consumer products are embedded with digital services and devices.\\nAccording to the WEF, 70% of the global economy will be made up of digital technology over the next 10 years (from 2020 onwards). This is a trend accelerated by the COVID-19 pandemic and the tendency to go online. The future of work, especially since the COVID-19 pandemic, also contributed to the digital economy. More people are now working online, and with the increase of online activity that contributes to the global economy, companies that support the systems of the Internet are more profitable.\\n\\nDigital transformation of the economy alters conventional notions about how businesses are structured, how consumers obtain goods and services, and how states need to adapt to new regulatory challenges. The digital economy has the potential to shape economic interactions between states, businesses and individuals profoundly. The emergence of the digital economy has prompted new debates over privacy rights, competition, and taxation, with calls for national and transnational regulations of the digital economy.', \"\\n\\nTitle: Knightscope\\nSummary:\\nKnightscope, Inc. is an American security camera and robotics company headquartered in Mountain View, California. Knightscope designs, builds and deploys robots called Autonomous Data Robots (ADRs) for use in monitoring people in malls, parking lots, neighborhoods and other public areas. Knightscope robots are fully autonomous using self-driving technology and are designed to alert police and security of incidents through sensors that detect weapons, read license plates and detect other suspicious activities.\\nKnightscope was founded in 2013, its founders stated that they were motivated to create autonomous security robots following the Sandy Hook School Shooting in 2012. Knightscope shipped their first robot in 2015. The company has four models of robots, designed for indoor, outdoor, and all terrain uses, as well as a model for stationary use. After several years of operation and several rounds of fundraising, primarily through equity crowdfunding, the company became public and launched an initial public offering (IPO) on January 27, 2022.\\nKnightscope is the most well known maker of fully autonomous security robots. Users of Knightscope robots have generally reported lower crime rates in the areas the robots were deployed, attributed mostly to physical deterrence by the robot's presence. Knightscope autonomous robots have raised concerns from critics over privacy and job displacement.\", '\\n\\nTitle: Ethics of artificial intelligence\\nSummary:\\nThe ethics of artificial intelligence covers a broad range of topics within the field that are considered to have particular ethical stakes. This includes algorithmic biases, fairness, automated decision-making, accountability, privacy, and regulation. \\nIt also covers various emerging or potential future challenges such as machine ethics (how to make machines that behave ethically), lethal autonomous weapon systems, arms race dynamics, AI safety and alignment, technological unemployment, AI-enabled misinformation, how to treat certain AI systems if they have a moral status (AI welfare and rights), artificial superintelligence and existential risks. \\nSome application areas may also have particularly important ethical implications, like healthcare, education, criminal justice, or the military.\\n\\n', '\\n\\nTitle: Sustainability\\nSummary:\\nSustainability is a social goal for people to co-exist on Earth over a long period of time. Definitions of this term are disputed and have varied with literature, context, and time. Sustainability usually has three dimensions (or pillars): environmental, economic, and social. Many definitions emphasize the environmental dimension. This can include addressing key environmental problems, including climate change and biodiversity loss. The idea of sustainability can guide decisions at the global, national, organizational, and individual levels. A related concept is that of sustainable development, and the terms are often used to mean the same thing. UNESCO distinguishes the two like this: \"Sustainability is often thought of as a long-term goal (i.e. a more sustainable world), while sustainable development refers to the many processes and pathways to achieve it.\"\\nDetails around the economic dimension of sustainability are controversial. Scholars have discussed this under the concept of weak and strong sustainability. For example, there will always be tension between the ideas of \"welfare and prosperity for all\" and environmental conservation, so trade-offs are necessary. It would be desirable to find ways that separate economic growth from harming the environment. This means using fewer resources per unit of output even while growing the economy. This decoupling reduces the environmental impact of economic growth, such as pollution. Doing this is difficult. Some experts say there is no evidence that such a decoupling is happening at the required scale. \\nIt is challenging to measure sustainability as the concept is complex, contextual, and dynamic. Indicators have been developed to cover the environment, society, or the economy but there is no fixed definition of sustainability indicators. The metrics are evolving and include indicators, benchmarks and audits. They include sustainability standards and certification systems like Fairtrade and Organic. They also involve indices and accounting systems such as corporate sustainability reporting and Triple Bottom Line accounting. \\nIt is necessary to address many barriers to sustainability to achieve a sustainability transition.:\\u200a34\\u200a Some barriers arise from nature and its complexity while others are extrinsic to the concept of sustainability. For example, they can result from the dominant institutional frameworks in countries.\\nGlobal issues of sustainability are difficult to tackle as they need global solutions. Existing global organizations such as the UN and WTO are seen as inefficient in enforcing current global regulations. One reason for this is the lack of suitable sanctioning mechanisms.:\\u200a135–145\\u200a Governments are not the only sources of action for sustainability. For example, business groups have tried to integrate ecological concerns with economic activity, seeking sustainable business. Religious leaders have stressed the need for caring for nature and environmental stability. Individuals can also live more sustainably.\\nSome people have criticized the idea of sustainability. One point of criticism is that the concept is vague and only a buzzword. Another is that sustainability might be an impossible goal. Some experts have pointed out that \"no country is delivering what its citizens need without transgressing the biophysical planetary boundaries\".:\\u200a11\\u200a', '\\n\\nTitle: Smart city\\nSummary:\\nA smart city is an urban area that has been developed with a high level of technological advancement, utilising a variety of electronic methods and sensors to collect specific data. This data is then used to manage assets, resources and services in an efficient manner, with the understanding that this data will in turn be used to improve operations across the city. This data can be collected from a number of sources, including citizens, devices, buildings and assets that is processed and analyzed in order to monitor and manage traffic and transportation systems, power plants, utilities, urban forestry, water supply networks, waste disposal, criminal investigations, information systems, schools, libraries, hospitals, and other community services. The term \\'smart city\\' is defined by two key aspects: the ways in which their local governments harness technology as well as in how they monitor, analyze, plan, and govern the city. In a smart city, the sharing of data is not confined to the municipal authority but extends to businesses, citizens and other third parties who can derive benefit from the utilisation of that data. The pooling of data from disparate systems and sectors creates opportunities for enhanced understanding and economic gain.\\nThe smart city concept integrates information and communication technology (ICT), and various physical devices connected to the Internet of things (IOT) network to optimize the efficiency of city operations and services and connect to citizens. Smart city technology allows city officials to interact directly with both community and city infrastructure and to monitor what is happening in the city and how the city is evolving. ICT is used to enhance quality, performance and interactivity of urban services, to reduce costs and resource consumption and to increase contact between citizens and government. Smart city applications are developed to manage urban flows and allow for real-time responses. A smart city may therefore be more prepared to respond to challenges than one with a conventional \"transactional\" relationship with its citizens. Yet, the term itself remains unclear in its specifics and therefore, open to many interpretations. Many cities have already adopted some sort of smart city technology.\\nSmart city initiatives have been criticized as largely driven by unreliable corporations, poorly adapted to residents\\' needs, as largely unsuccessful, and as a dangerous move toward totalitarian surveillance.', '\\n\\nTitle: Information privacy\\nSummary:\\nInformation privacy is the relationship between the collection and dissemination of data, technology, the public expectation of privacy, contextual information norms, and the legal and political issues surrounding them. It is also known as data privacy or data protection.\\n\\n', '\\n\\nTitle: Algorithmic bias\\nSummary:\\nAlgorithmic bias describes systematic and repeatable errors in a computer system that create \"unfair\" outcomes, such as \"privileging\" one category over another in ways different from the intended function of the algorithm.\\nBias can emerge from many factors, including but not limited to the design of the algorithm or the unintended or unanticipated use or decisions relating to the way data is coded, collected, selected or used to train the algorithm. For example, algorithmic bias has been observed in search engine results and social media platforms. This bias can have impacts ranging from inadvertent privacy violations to reinforcing social biases of race, gender, sexuality, and ethnicity. The study of algorithmic bias is most concerned with algorithms that reflect \"systematic and unfair\" discrimination. This bias has only recently been addressed in legal frameworks, such as the European Union\\'s General Data Protection Regulation (proposed 2018) and the Artificial Intelligence Act (proposed 2021, approved 2024).\\nAs algorithms expand their ability to organize society, politics, institutions, and behavior, sociologists have become concerned with the ways in which unanticipated output and manipulation of data can impact the physical world. Because algorithms are often considered to be neutral and unbiased, they can inaccurately project greater authority than human expertise (in part due to the psychological phenomenon of automation bias), and in some cases, reliance on algorithms can displace human responsibility for their outcomes. Bias can enter into algorithmic systems as a result of pre-existing cultural, social, or institutional expectations; by how features and labels are chosen; because of technical limitations of their design; or by being used in unanticipated contexts or by audiences who are not considered in the software\\'s initial design.\\nAlgorithmic bias has been cited in cases ranging from election outcomes to the spread of online hate speech. It has also arisen in criminal justice, healthcare, and hiring, compounding existing racial, socioeconomic, and gender biases. The relative inability of facial recognition technology to accurately identify darker-skinned faces has been linked to multiple wrongful arrests of black men, an issue stemming from imbalanced datasets. Problems in understanding, researching, and discovering algorithmic bias persist due to the proprietary nature of algorithms, which are typically treated as trade secrets. Even when full transparency is provided, the complexity of certain algorithms poses a barrier to understanding their functioning. Furthermore, algorithms may change, or respond to input or output in ways that cannot be anticipated or easily reproduced for analysis. In many cases, even within a single website or application, there is no single \"algorithm\" to examine, but a network of many interrelated programs and data inputs, even between users of the same service.', '\\n\\nTitle: Regulation of artificial intelligence\\nSummary:\\nRegulation of artificial intelligence is the development of public sector policies and laws for promoting and regulating artificial intelligence (AI). It is part of the broader regulation of algorithms. The regulatory and policy landscape for AI is an emerging issue in jurisdictions worldwide, including for international organizations without direct enforcement power like the IEEE or the OECD. \\nSince 2016, numerous AI ethics guidelines have been published in order to maintain social control over the technology. Regulation is deemed necessary to both foster AI innovation and manage associated risks. \\nFurthermore, organizations deploying AI have a central role to play in creating and implementing trustworthy AI, adhering to established principles, and taking accountability for mitigating risks. \\nRegulating AI through mechanisms such as review boards can also be seen as social means to approach the AI control problem.\\n\\n', '\\n\\nTitle: The Future of Work and Death\\nSummary:\\nThe Future of Work and Death is a 2016 documentary by Sean Blacknell and Wayne Walsh about the exponential growth of technology.\\nThe film showed at several film festivals including Raindance Film Festival, International Film Festival Rotterdam, Academia Film Olomouc and CPH:DOX.\\nIn May 2017 it received an official screening at the European Commission. It was distributed by First Run Features and Journeyman Pictures and was released on iTunes, Amazon Prime and On-demand on 9 May 2017. The film was made available on Sundance Now on 27 November 2017. A companion piece to the film, The Cost of Living, a documentary concerning universal basic income in Britain, was released on Amazon Prime on 8 October 2020.', '\\n\\nTitle: Artificial intelligence art\\nSummary:\\nArtificial intelligence art is visual artwork created through the use of an artificial intelligence (AI) program.   \\nArtists began to create artificial intelligence art in the mid to late 20th century, when the discipline was founded. Throughout its history, artificial intelligence art has raised many philosophical concerns related to the human mind, artificial beings, and what can be considered art in a human–AI collaboration. Since the 20th century, artists have used AI to create art, some of which has been exhibited in museums and won awards.\\nThe increased availability of AI art tools to the general public in the 2020s AI boom provided opportunities for creating AI generated images outside of academia and professional artists. Commentary about AI art in the 2020s has often focused on issues related to copyright, deception, defamation, and its impact on more traditional artists, including technological unemployment.', '\\n\\nTitle: Technological unemployment\\nSummary:\\nTechnological unemployment is the loss of jobs caused by technological change. It is a key type of structural unemployment. Technological change typically includes the introduction of labour-saving \"mechanical-muscle\" machines or more efficient \"mechanical-mind\" processes (automation), and humans\\' role in these processes are minimized. Just as horses were gradually made obsolete as transport by the automobile and as labourer by the tractor, humans\\' jobs have also been affected throughout modern history. Historical examples include artisan weavers reduced to poverty after the introduction of mechanized looms. During World War II, Alan Turing\\'s bombe machine compressed and decoded thousands of man-years worth of encrypted data in a matter of hours. A contemporary example of technological unemployment is the displacement of retail cashiers by self-service tills and cashierless stores.\\nThat technological change can cause short-term job losses is widely accepted. The view that it can lead to lasting increases in unemployment has long been controversial. Participants in the technological unemployment debates can be broadly divided into optimists and pessimists. Optimists agree that innovation may be disruptive to jobs in the short term, yet hold that various compensation effects ensure there is never a long-term negative impact on jobs, whereas pessimists contend that at least in some circumstances, new technologies can lead to a lasting decline in the total number of workers in employment. The phrase \"technological unemployment\" was popularised by John Maynard Keynes in the 1930s, who said it was \"only a temporary phase of maladjustment\". The issue of machines displacing human labour has been discussed since at least Aristotle\\'s time.\\nPrior to the 18th century, both the elite and common people would generally take the pessimistic view on technological unemployment, at least in cases where the issue arose. Due to generally low unemployment in much of pre-modern history, the topic was rarely a prominent concern. In the 18th century fears over the impact of machinery on jobs intensified with the growth of mass unemployment, especially in Great Britain which was then at the forefront of the Industrial Revolution. Yet some economic thinkers began to argue against these fears, claiming that overall innovation would not have negative effects on jobs. These arguments were formalised in the early 19th century by the classical economists. During the second half of the 19th century, it stayed apparent that technological progress was benefiting all sections of society, including the working class. Concerns over the negative impact of innovation diminished. The term \"Luddite fallacy\" was coined to describe the thinking that innovation would have lasting harmful effects on employment.\\nThe view that technology is unlikely to lead to long-term unemployment has been repeatedly challenged by a minority of economists. In the early 1800s these included David Ricardo himself. There were dozens of economists warning about technological unemployment during brief intensifications of the debate that spiked in the 1930s and 1960s. Especially in Europe, there were further warnings in the closing two decades of the twentieth century, as commentators noted an enduring rise in unemployment suffered by many industrialised nations since the 1970s. Yet a clear majority of both professional economists and the interested general public held the optimistic view through most of the 20th century.\\nIn the second decade of the 21st century, a number of studies have been released suggesting that technological unemployment may increase worldwide. Oxford Professors Carl Benedikt Frey and Michael Osborne, for example, have estimated that 47 percent of U.S. jobs are at risk of automation. However, their methodology has been challenged as lacking evidential foundation and criticised for implying that technology (rather than social policy) creates unemployment rather than redundancies. On the PBS NewsHours the authors defended their findings and clarified they do necessarily imply future technological unemployment. While many economists and commentators still argue such fears are unfounded, as was widely accepted for most of the previous two centuries, concern over technological unemployment is growing once again. A report in Wired in 2017 quotes knowledgeable people such as economist Gene Sperling and management professor Andrew McAfee on the idea that handling existing and impending job loss to automation is a \"significant issue\". Recent technological innovations have the potential to displace humans in the professional, white-collar, low-skilled, creative fields, and other \"mental jobs\". The World Bank\\'s World Development Report 2019 argues that while automation displaces workers, technological innovation creates more new industries and jobs on balance.', \"\\n\\nTitle: Health and environmental impact of the petroleum industry\\nSummary:\\nThe environmental impact of the petroleum industry is extensive and expansive due to petroleum having many uses.\\nCrude oil and natural gas are primary energy and raw material sources that enable numerous aspects of modern daily life and the world economy.\\nTheir supply has grown quickly over the last 150 years to meet the demands of the rapidly increasing human population, creativity, knowledge, and consumerism.\\nSubstantial quantities of toxic and non-toxic waste are generated during the extraction, refinement, and transportation stages of oil and gas.\\nSome industry by-products, such as volatile organic compounds, nitrogen & sulfur compounds, and spilled oil can pollute the air, water and soil at levels that are harmful to life, when improperly managed.\\nClimate warming, ocean acidification, and sea level rise are global changes enhanced by the industry's emissions of greenhouse gases like carbon dioxide (CO2) and methane, and micro-particulate aerosols like black carbon. Vehicle tailpipe emissions kill many people.\\nAmong all human activities, fossil fuel combustion is the largest contributor to the ongoing buildup of carbon in the Earth's biosphere.\\nThe International Energy Agency and others report that oil & gas use comprises over 55% (18 billion tons) of the recorded 32.8 billion tons (BT) of CO2 released into the atmosphere from all energy sources in year 2017.\\nCoal use comprised most of the remaining 45%.  Total emissions continue to rise nearly every year: from 1.7% to 33.1 BT in 2018.\\nThrough its operations, the petroleum industry directly contributed about 8% (2.7 BT) of the 32.8 BT in 2017.\\nAlso, due to its intentional and other releases of natural gas, the industry directly contributed at least 79 million tons of methane (2.4 BT CO2-equivalent) that same year; an amount equal to about 14% of all known anthropogenic and natural emissions of the potent warming gas.\\nAlong with fuels like gasoline and liquified natural gas, petroleum enables many consumer chemicals and products, such as fertilizers and plastics.\\nMost alternative technologies for energy generation, transportation, and storage can only be realized at this time because of its diverse usefulness.\\nConservation, efficiency, and minimizing waste impacts of petroleum products are effective industry and consumer actions toward achieving better environmental sustainability.\", '\\n\\nTitle: Artificial intelligence in healthcare\\nSummary:\\nArtificial intelligence in healthcare is the application of artificial intelligence (AI) to copy human cognition in the analysis, presentation, and understanding of complex medical and health care data. It can also augment and exceed human capabilities by providing faster or new ways to diagnose, treat, or prevent disease. Using AI in healthcare has the potential improve predicting, diagnosing and treating diseases. Through machine learning algorithms and deep learning, AI can analyse large sets of clinical data and electronic health records and can help to diagnose the disease more quickly and precisely.\\nAI programs are applied to practices such as diagnostics, treatment protocol development, drug development, personalized medicine, and patient monitoring and care.\\nBecause radiographs are the most common imaging tests conducted in most radiology departments, the potential for AI to help with triage and interpretation of traditional radiographs (X-ray pictures) is particularly noteworthy.\\nAs widespread use of AI in healthcare is relatively new, research is ongoing into its application in various fields of medicine and related industries. \\nUsing AI also presents unprecedented ethical concerns related to issues such as data privacy, automation of jobs, and amplifying already existing biases. Furthermore, new technologies brought about by AI in healthcare are often resisted by healthcare leaders, leading to slow and erratic adoption.\\n\\n', '\\n\\nTitle: AI in education\\nSummary:\\nArtificial intelligence or Ai is a broad “skewer” term that has specific areas of study clustered next to it, including machine learning, natural language processing, the philosophy of artificial intelligence, autonomous robots and TESCREAL. Research about AI in higher education is widespread in the global north, where there is much hype from venture capital, big tech and some open educationalists. Some believe that Ai will remove the obstacle of \"access to expertise”. Others claim that education will be revolutionized with machines and their ability to understand natural language. While others are exploring how LLM’s “reasoning” might be improved. Marketers often use different kinds of myths to make complex products seem simpler There is at present, no scientific consensus on what Ai is or how to classify and sub-categorize AI This has not hampered the growth of  Ai systems which offer scholars and students automatic assessment and feedback, predictions, instant machine translations, on-demand proof-reading and copy editing, intelligent tutoring or virtual assistants.   Ai brings conversational coherence to the classroom, and automates the production of content.Using categorisation, summaries and dialogue, Ai \"intelligence\" or \"authority\" is reinforced through anthropomorphism and the Eliza effect. Ai also introduces hazards, such as skewed scientific knowledge dissemination , harmful educational practices,  or might discourage researchers from publishing their original research openly.  Worries about AI safety risks such as privacy breaches, algorithmic biases, security concerns, ethics, and compliance barriers are accompanied by other doomsday warnings.', '\\n\\nTitle: The MANIAC\\nSummary:\\nThe MANIAC is a 2023 novel by Chilean author Benjamín Labatut, written in English. It is a fictionalised biography of polymath John von Neumann, whom Labatut calls \"the smartest human being of the 20th century\". The book focuses on von Neumann, but is also about physicist Paul Ehrenfest, history of artificial intelligence, and Lee Sedol\\'s Go match against AlphaGo. The book received mostly positive reviews from critics.'], 'editors': Editors(perspectives=[Perspective(name='Default Perspective', role='Basic fact writer', description='Basic fact writer focusing on broadly covering the basic facts about the topic.'), Perspective(name='Economist', role='Economic Analyst', description='Focuses on the economic implications of AI agents, including their effects on job markets, productivity, and economic growth. Will analyze the potential for AI to create new industries while also displacing traditional jobs.'), Perspective(name='Sociologist', role='Social Researcher', description='Explores the social impacts of AI agents, including changes in human interactions, ethical considerations, and the influence of AI on societal norms and structures. Will delve into issues of inequality and access to technology.'), Perspective(name='Environmental Scientist', role='Environmental Impact Specialist', description='Assesses the environmental implications of AI agents, particularly in terms of energy consumption and resource utilization. Will investigate how AI can contribute to sustainability efforts or exacerbate environmental challenges.'), Perspective(name='Regulatory Expert', role='Policy Advisor', description='Examines the need for regulations surrounding AI agents, focusing on ethical guidelines, accountability, and governance. Will analyze existing frameworks and propose new policies to mitigate risks associated with AI deployment.'), Perspective(name='Technologist', role='AI Developer', description='Provides insights into the technological advancements that enable AI agents, discussing their capabilities and limitations. Will focus on the technical aspects of developing AI agents that can operate efficiently and ethically.'), Perspective(name='Ethicist', role='Ethics Consultant', description='Investigates the ethical questions surrounding AI agents, including bias, privacy, and the moral implications of their use in society. Will discuss frameworks for ensuring ethical AI development and deployment.'), Perspective(name='Business Leader', role='Corporate Strategist', description='Discusses the business applications of AI agents and how they can transform various industries. Will focus on the strategic advantages companies can gain through the integration of AI technologies.'), Perspective(name='Educator', role='Academic Researcher', description='Explores the role of AI agents in education, including their potential to personalize learning experiences and improve educational outcomes. Will investigate the implications for teaching methodologies and access to knowledge.')]), 'interview_results': None, 'article': None}\n"
     ]
    },
    {
     "ename": "InternalServerError",
     "evalue": "Error code: 500 - {'error': {'message': 'The model produced invalid content. Consider modifying your prompt if you are seeing this error persistently.', 'type': 'model_error', 'param': None, 'code': None}}",
     "output_type": "error",
     "traceback": [
      "\u001b[0;31m---------------------------------------------------------------------------\u001b[0m",
      "\u001b[0;31mInternalServerError\u001b[0m                       Traceback (most recent call last)",
      "Cell \u001b[0;32mIn[93], line 2\u001b[0m\n\u001b[1;32m      1\u001b[0m config \u001b[38;5;241m=\u001b[39m {\u001b[38;5;124m\"\u001b[39m\u001b[38;5;124mconfigurable\u001b[39m\u001b[38;5;124m\"\u001b[39m: {\u001b[38;5;124m\"\u001b[39m\u001b[38;5;124mthread_id\u001b[39m\u001b[38;5;124m\"\u001b[39m: \u001b[38;5;124m\"\u001b[39m\u001b[38;5;124mmy-thread\u001b[39m\u001b[38;5;124m\"\u001b[39m}}\n\u001b[0;32m----> 2\u001b[0m \u001b[38;5;28;01masync\u001b[39;00m \u001b[38;5;28;01mfor\u001b[39;00m step \u001b[38;5;129;01min\u001b[39;00m app\u001b[38;5;241m.\u001b[39mastream(\n\u001b[1;32m      3\u001b[0m     {\n\u001b[1;32m      4\u001b[0m         \u001b[38;5;124m\"\u001b[39m\u001b[38;5;124mtopic\u001b[39m\u001b[38;5;124m\"\u001b[39m: example_topic,\n\u001b[1;32m      5\u001b[0m     },\n\u001b[1;32m      6\u001b[0m     config,\n\u001b[1;32m      7\u001b[0m ):\n\u001b[1;32m      8\u001b[0m     name \u001b[38;5;241m=\u001b[39m \u001b[38;5;28mnext\u001b[39m(\u001b[38;5;28miter\u001b[39m(step))\n\u001b[1;32m      9\u001b[0m     \u001b[38;5;28mprint\u001b[39m(name)\n",
      "File \u001b[0;32m~/Dev/ResearchAssistant/env/lib/python3.12/site-packages/langgraph/pregel/__init__.py:1243\u001b[0m, in \u001b[0;36mPregel.astream\u001b[0;34m(self, input, config, stream_mode, output_keys, interrupt_before, interrupt_after, debug)\u001b[0m\n\u001b[1;32m   1240\u001b[0m         \u001b[38;5;28;01mbreak\u001b[39;00m\n\u001b[1;32m   1242\u001b[0m \u001b[38;5;66;03m# panic on failure or timeout\u001b[39;00m\n\u001b[0;32m-> 1243\u001b[0m \u001b[43m_panic_or_proceed\u001b[49m\u001b[43m(\u001b[49m\u001b[43mall_futures\u001b[49m\u001b[43m,\u001b[49m\u001b[43m \u001b[49m\u001b[43mloop\u001b[49m\u001b[38;5;241;43m.\u001b[39;49m\u001b[43mstep\u001b[49m\u001b[43m,\u001b[49m\u001b[43m \u001b[49m\u001b[43masyncio\u001b[49m\u001b[38;5;241;43m.\u001b[39;49m\u001b[43mTimeoutError\u001b[49m\u001b[43m)\u001b[49m\n\u001b[1;32m   1244\u001b[0m \u001b[38;5;66;03m# don't keep futures around in memory longer than needed\u001b[39;00m\n\u001b[1;32m   1245\u001b[0m \u001b[38;5;28;01mdel\u001b[39;00m done, inflight, futures\n",
      "File \u001b[0;32m~/Dev/ResearchAssistant/env/lib/python3.12/site-packages/langgraph/pregel/__init__.py:1423\u001b[0m, in \u001b[0;36m_panic_or_proceed\u001b[0;34m(futs, step, timeout_exc_cls)\u001b[0m\n\u001b[1;32m   1421\u001b[0m             inflight\u001b[38;5;241m.\u001b[39mpop()\u001b[38;5;241m.\u001b[39mcancel()\n\u001b[1;32m   1422\u001b[0m         \u001b[38;5;66;03m# raise the exception\u001b[39;00m\n\u001b[0;32m-> 1423\u001b[0m         \u001b[38;5;28;01mraise\u001b[39;00m exc\n\u001b[1;32m   1425\u001b[0m \u001b[38;5;28;01mif\u001b[39;00m inflight:\n\u001b[1;32m   1426\u001b[0m     \u001b[38;5;66;03m# if we got here means we timed out\u001b[39;00m\n\u001b[1;32m   1427\u001b[0m     \u001b[38;5;28;01mwhile\u001b[39;00m inflight:\n\u001b[1;32m   1428\u001b[0m         \u001b[38;5;66;03m# cancel all pending tasks\u001b[39;00m\n",
      "File \u001b[0;32m~/Dev/ResearchAssistant/env/lib/python3.12/site-packages/langgraph/pregel/retry.py:79\u001b[0m, in \u001b[0;36marun_with_retry\u001b[0;34m(task, retry_policy, stream)\u001b[0m\n\u001b[1;32m     77\u001b[0m         \u001b[38;5;28;01mpass\u001b[39;00m\n\u001b[1;32m     78\u001b[0m \u001b[38;5;28;01melse\u001b[39;00m:\n\u001b[0;32m---> 79\u001b[0m     \u001b[38;5;28;01mawait\u001b[39;00m task\u001b[38;5;241m.\u001b[39mproc\u001b[38;5;241m.\u001b[39mainvoke(task\u001b[38;5;241m.\u001b[39minput, task\u001b[38;5;241m.\u001b[39mconfig)\n\u001b[1;32m     80\u001b[0m \u001b[38;5;66;03m# if successful, end\u001b[39;00m\n\u001b[1;32m     81\u001b[0m \u001b[38;5;28;01mbreak\u001b[39;00m\n",
      "File \u001b[0;32m~/Dev/ResearchAssistant/env/lib/python3.12/site-packages/langchain_core/runnables/base.py:2920\u001b[0m, in \u001b[0;36mRunnableSequence.ainvoke\u001b[0;34m(self, input, config, **kwargs)\u001b[0m\n\u001b[1;32m   2918\u001b[0m     part \u001b[38;5;241m=\u001b[39m functools\u001b[38;5;241m.\u001b[39mpartial(step\u001b[38;5;241m.\u001b[39mainvoke, \u001b[38;5;28minput\u001b[39m, config)\n\u001b[1;32m   2919\u001b[0m \u001b[38;5;28;01mif\u001b[39;00m asyncio_accepts_context():\n\u001b[0;32m-> 2920\u001b[0m     \u001b[38;5;28minput\u001b[39m \u001b[38;5;241m=\u001b[39m \u001b[38;5;28;01mawait\u001b[39;00m asyncio\u001b[38;5;241m.\u001b[39mcreate_task(part(), context\u001b[38;5;241m=\u001b[39mcontext)  \u001b[38;5;66;03m# type: ignore\u001b[39;00m\n\u001b[1;32m   2921\u001b[0m \u001b[38;5;28;01melse\u001b[39;00m:\n\u001b[1;32m   2922\u001b[0m     \u001b[38;5;28minput\u001b[39m \u001b[38;5;241m=\u001b[39m \u001b[38;5;28;01mawait\u001b[39;00m asyncio\u001b[38;5;241m.\u001b[39mcreate_task(part())\n",
      "File \u001b[0;32m~/Dev/ResearchAssistant/env/lib/python3.12/site-packages/langgraph/utils.py:124\u001b[0m, in \u001b[0;36mRunnableCallable.ainvoke\u001b[0;34m(self, input, config, **kwargs)\u001b[0m\n\u001b[1;32m    122\u001b[0m     kwargs[\u001b[38;5;124m\"\u001b[39m\u001b[38;5;124mconfig\u001b[39m\u001b[38;5;124m\"\u001b[39m] \u001b[38;5;241m=\u001b[39m config\n\u001b[1;32m    123\u001b[0m \u001b[38;5;28;01mif\u001b[39;00m sys\u001b[38;5;241m.\u001b[39mversion_info \u001b[38;5;241m>\u001b[39m\u001b[38;5;241m=\u001b[39m (\u001b[38;5;241m3\u001b[39m, \u001b[38;5;241m11\u001b[39m):\n\u001b[0;32m--> 124\u001b[0m     ret \u001b[38;5;241m=\u001b[39m \u001b[38;5;28;01mawait\u001b[39;00m asyncio\u001b[38;5;241m.\u001b[39mcreate_task(\n\u001b[1;32m    125\u001b[0m         \u001b[38;5;28mself\u001b[39m\u001b[38;5;241m.\u001b[39mafunc(\u001b[38;5;28minput\u001b[39m, \u001b[38;5;241m*\u001b[39m\u001b[38;5;241m*\u001b[39mkwargs), context\u001b[38;5;241m=\u001b[39mcontext\n\u001b[1;32m    126\u001b[0m     )\n\u001b[1;32m    127\u001b[0m \u001b[38;5;28;01melse\u001b[39;00m:\n\u001b[1;32m    128\u001b[0m     ret \u001b[38;5;241m=\u001b[39m \u001b[38;5;28;01mawait\u001b[39;00m \u001b[38;5;28mself\u001b[39m\u001b[38;5;241m.\u001b[39mafunc(\u001b[38;5;28minput\u001b[39m, \u001b[38;5;241m*\u001b[39m\u001b[38;5;241m*\u001b[39mkwargs)\n",
      "Cell \u001b[0;32mIn[89], line 25\u001b[0m, in \u001b[0;36mconduct_research\u001b[0;34m(state)\u001b[0m\n\u001b[1;32m     13\u001b[0m \u001b[38;5;28;01mfor\u001b[39;00m perspective \u001b[38;5;129;01min\u001b[39;00m state[\u001b[38;5;124m\"\u001b[39m\u001b[38;5;124meditors\u001b[39m\u001b[38;5;124m\"\u001b[39m]\u001b[38;5;241m.\u001b[39mperspectives:\n\u001b[1;32m     14\u001b[0m     initial_interview_states\u001b[38;5;241m.\u001b[39mappend({\n\u001b[1;32m     15\u001b[0m         \u001b[38;5;124m\"\u001b[39m\u001b[38;5;124mtopic\u001b[39m\u001b[38;5;124m\"\u001b[39m: topic,\n\u001b[1;32m     16\u001b[0m         \u001b[38;5;124m\"\u001b[39m\u001b[38;5;124mmessages\u001b[39m\u001b[38;5;124m\"\u001b[39m: [\n\u001b[0;32m   (...)\u001b[0m\n\u001b[1;32m     22\u001b[0m         \u001b[38;5;124m\"\u001b[39m\u001b[38;5;124mcurrent_perspective\u001b[39m\u001b[38;5;124m\"\u001b[39m: perspective\n\u001b[1;32m     23\u001b[0m     })\n\u001b[0;32m---> 25\u001b[0m interview_results \u001b[38;5;241m=\u001b[39m \u001b[38;5;28;01mawait\u001b[39;00m interview_graph\u001b[38;5;241m.\u001b[39mabatch(initial_interview_states)\n\u001b[1;32m     27\u001b[0m \u001b[38;5;28;01mreturn\u001b[39;00m {\n\u001b[1;32m     28\u001b[0m     \u001b[38;5;241m*\u001b[39m\u001b[38;5;241m*\u001b[39mstate,\n\u001b[1;32m     29\u001b[0m     \u001b[38;5;124m\"\u001b[39m\u001b[38;5;124minterview_results\u001b[39m\u001b[38;5;124m\"\u001b[39m: interview_results,\n\u001b[1;32m     30\u001b[0m }\n",
      "File \u001b[0;32m~/Dev/ResearchAssistant/env/lib/python3.12/site-packages/langchain_core/runnables/base.py:5149\u001b[0m, in \u001b[0;36mRunnableBindingBase.abatch\u001b[0;34m(self, inputs, config, return_exceptions, **kwargs)\u001b[0m\n\u001b[1;32m   5147\u001b[0m \u001b[38;5;28;01melse\u001b[39;00m:\n\u001b[1;32m   5148\u001b[0m     configs \u001b[38;5;241m=\u001b[39m [\u001b[38;5;28mself\u001b[39m\u001b[38;5;241m.\u001b[39m_merge_configs(config) \u001b[38;5;28;01mfor\u001b[39;00m _ \u001b[38;5;129;01min\u001b[39;00m \u001b[38;5;28mrange\u001b[39m(\u001b[38;5;28mlen\u001b[39m(inputs))]\n\u001b[0;32m-> 5149\u001b[0m \u001b[38;5;28;01mreturn\u001b[39;00m \u001b[38;5;28;01mawait\u001b[39;00m \u001b[38;5;28mself\u001b[39m\u001b[38;5;241m.\u001b[39mbound\u001b[38;5;241m.\u001b[39mabatch(\n\u001b[1;32m   5150\u001b[0m     inputs,\n\u001b[1;32m   5151\u001b[0m     configs,\n\u001b[1;32m   5152\u001b[0m     return_exceptions\u001b[38;5;241m=\u001b[39mreturn_exceptions,\n\u001b[1;32m   5153\u001b[0m     \u001b[38;5;241m*\u001b[39m\u001b[38;5;241m*\u001b[39m{\u001b[38;5;241m*\u001b[39m\u001b[38;5;241m*\u001b[39m\u001b[38;5;28mself\u001b[39m\u001b[38;5;241m.\u001b[39mkwargs, \u001b[38;5;241m*\u001b[39m\u001b[38;5;241m*\u001b[39mkwargs},\n\u001b[1;32m   5154\u001b[0m )\n",
      "File \u001b[0;32m~/Dev/ResearchAssistant/env/lib/python3.12/site-packages/langchain_core/runnables/base.py:764\u001b[0m, in \u001b[0;36mRunnable.abatch\u001b[0;34m(self, inputs, config, return_exceptions, **kwargs)\u001b[0m\n\u001b[1;32m    761\u001b[0m         \u001b[38;5;28;01mreturn\u001b[39;00m \u001b[38;5;28;01mawait\u001b[39;00m \u001b[38;5;28mself\u001b[39m\u001b[38;5;241m.\u001b[39mainvoke(\u001b[38;5;28minput\u001b[39m, config, \u001b[38;5;241m*\u001b[39m\u001b[38;5;241m*\u001b[39mkwargs)\n\u001b[1;32m    763\u001b[0m coros \u001b[38;5;241m=\u001b[39m \u001b[38;5;28mmap\u001b[39m(ainvoke, inputs, configs)\n\u001b[0;32m--> 764\u001b[0m \u001b[38;5;28;01mreturn\u001b[39;00m \u001b[38;5;28;01mawait\u001b[39;00m gather_with_concurrency(configs[\u001b[38;5;241m0\u001b[39m]\u001b[38;5;241m.\u001b[39mget(\u001b[38;5;124m\"\u001b[39m\u001b[38;5;124mmax_concurrency\u001b[39m\u001b[38;5;124m\"\u001b[39m), \u001b[38;5;241m*\u001b[39mcoros)\n",
      "File \u001b[0;32m~/Dev/ResearchAssistant/env/lib/python3.12/site-packages/langchain_core/runnables/utils.py:69\u001b[0m, in \u001b[0;36mgather_with_concurrency\u001b[0;34m(n, *coros)\u001b[0m\n\u001b[1;32m     59\u001b[0m \u001b[38;5;250m\u001b[39m\u001b[38;5;124;03m\"\"\"Gather coroutines with a limit on the number of concurrent coroutines.\u001b[39;00m\n\u001b[1;32m     60\u001b[0m \n\u001b[1;32m     61\u001b[0m \u001b[38;5;124;03mArgs:\u001b[39;00m\n\u001b[0;32m   (...)\u001b[0m\n\u001b[1;32m     66\u001b[0m \u001b[38;5;124;03m    The results of the coroutines.\u001b[39;00m\n\u001b[1;32m     67\u001b[0m \u001b[38;5;124;03m\"\"\"\u001b[39;00m\n\u001b[1;32m     68\u001b[0m \u001b[38;5;28;01mif\u001b[39;00m n \u001b[38;5;129;01mis\u001b[39;00m \u001b[38;5;28;01mNone\u001b[39;00m:\n\u001b[0;32m---> 69\u001b[0m     \u001b[38;5;28;01mreturn\u001b[39;00m \u001b[38;5;28;01mawait\u001b[39;00m asyncio\u001b[38;5;241m.\u001b[39mgather(\u001b[38;5;241m*\u001b[39mcoros)\n\u001b[1;32m     71\u001b[0m semaphore \u001b[38;5;241m=\u001b[39m asyncio\u001b[38;5;241m.\u001b[39mSemaphore(n)\n\u001b[1;32m     73\u001b[0m \u001b[38;5;28;01mreturn\u001b[39;00m \u001b[38;5;28;01mawait\u001b[39;00m asyncio\u001b[38;5;241m.\u001b[39mgather(\u001b[38;5;241m*\u001b[39m(gated_coro(semaphore, c) \u001b[38;5;28;01mfor\u001b[39;00m c \u001b[38;5;129;01min\u001b[39;00m coros))\n",
      "File \u001b[0;32m~/Dev/ResearchAssistant/env/lib/python3.12/site-packages/langchain_core/runnables/base.py:761\u001b[0m, in \u001b[0;36mRunnable.abatch.<locals>.ainvoke\u001b[0;34m(input, config)\u001b[0m\n\u001b[1;32m    759\u001b[0m         \u001b[38;5;28;01mreturn\u001b[39;00m e\n\u001b[1;32m    760\u001b[0m \u001b[38;5;28;01melse\u001b[39;00m:\n\u001b[0;32m--> 761\u001b[0m     \u001b[38;5;28;01mreturn\u001b[39;00m \u001b[38;5;28;01mawait\u001b[39;00m \u001b[38;5;28mself\u001b[39m\u001b[38;5;241m.\u001b[39mainvoke(\u001b[38;5;28minput\u001b[39m, config, \u001b[38;5;241m*\u001b[39m\u001b[38;5;241m*\u001b[39mkwargs)\n",
      "File \u001b[0;32m~/Dev/ResearchAssistant/env/lib/python3.12/site-packages/langgraph/pregel/__init__.py:1360\u001b[0m, in \u001b[0;36mPregel.ainvoke\u001b[0;34m(self, input, config, stream_mode, output_keys, interrupt_before, interrupt_after, debug, **kwargs)\u001b[0m\n\u001b[1;32m   1358\u001b[0m \u001b[38;5;28;01melse\u001b[39;00m:\n\u001b[1;32m   1359\u001b[0m     chunks \u001b[38;5;241m=\u001b[39m []\n\u001b[0;32m-> 1360\u001b[0m \u001b[38;5;28;01masync\u001b[39;00m \u001b[38;5;28;01mfor\u001b[39;00m chunk \u001b[38;5;129;01min\u001b[39;00m \u001b[38;5;28mself\u001b[39m\u001b[38;5;241m.\u001b[39mastream(\n\u001b[1;32m   1361\u001b[0m     \u001b[38;5;28minput\u001b[39m,\n\u001b[1;32m   1362\u001b[0m     config,\n\u001b[1;32m   1363\u001b[0m     stream_mode\u001b[38;5;241m=\u001b[39mstream_mode,\n\u001b[1;32m   1364\u001b[0m     output_keys\u001b[38;5;241m=\u001b[39moutput_keys,\n\u001b[1;32m   1365\u001b[0m     interrupt_before\u001b[38;5;241m=\u001b[39minterrupt_before,\n\u001b[1;32m   1366\u001b[0m     interrupt_after\u001b[38;5;241m=\u001b[39minterrupt_after,\n\u001b[1;32m   1367\u001b[0m     debug\u001b[38;5;241m=\u001b[39mdebug,\n\u001b[1;32m   1368\u001b[0m     \u001b[38;5;241m*\u001b[39m\u001b[38;5;241m*\u001b[39mkwargs,\n\u001b[1;32m   1369\u001b[0m ):\n\u001b[1;32m   1370\u001b[0m     \u001b[38;5;28;01mif\u001b[39;00m stream_mode \u001b[38;5;241m==\u001b[39m \u001b[38;5;124m\"\u001b[39m\u001b[38;5;124mvalues\u001b[39m\u001b[38;5;124m\"\u001b[39m:\n\u001b[1;32m   1371\u001b[0m         latest \u001b[38;5;241m=\u001b[39m chunk\n",
      "File \u001b[0;32m~/Dev/ResearchAssistant/env/lib/python3.12/site-packages/langgraph/pregel/__init__.py:1243\u001b[0m, in \u001b[0;36mPregel.astream\u001b[0;34m(self, input, config, stream_mode, output_keys, interrupt_before, interrupt_after, debug)\u001b[0m\n\u001b[1;32m   1240\u001b[0m         \u001b[38;5;28;01mbreak\u001b[39;00m\n\u001b[1;32m   1242\u001b[0m \u001b[38;5;66;03m# panic on failure or timeout\u001b[39;00m\n\u001b[0;32m-> 1243\u001b[0m \u001b[43m_panic_or_proceed\u001b[49m\u001b[43m(\u001b[49m\u001b[43mall_futures\u001b[49m\u001b[43m,\u001b[49m\u001b[43m \u001b[49m\u001b[43mloop\u001b[49m\u001b[38;5;241;43m.\u001b[39;49m\u001b[43mstep\u001b[49m\u001b[43m,\u001b[49m\u001b[43m \u001b[49m\u001b[43masyncio\u001b[49m\u001b[38;5;241;43m.\u001b[39;49m\u001b[43mTimeoutError\u001b[49m\u001b[43m)\u001b[49m\n\u001b[1;32m   1244\u001b[0m \u001b[38;5;66;03m# don't keep futures around in memory longer than needed\u001b[39;00m\n\u001b[1;32m   1245\u001b[0m \u001b[38;5;28;01mdel\u001b[39;00m done, inflight, futures\n",
      "File \u001b[0;32m~/Dev/ResearchAssistant/env/lib/python3.12/site-packages/langgraph/pregel/__init__.py:1423\u001b[0m, in \u001b[0;36m_panic_or_proceed\u001b[0;34m(futs, step, timeout_exc_cls)\u001b[0m\n\u001b[1;32m   1421\u001b[0m             inflight\u001b[38;5;241m.\u001b[39mpop()\u001b[38;5;241m.\u001b[39mcancel()\n\u001b[1;32m   1422\u001b[0m         \u001b[38;5;66;03m# raise the exception\u001b[39;00m\n\u001b[0;32m-> 1423\u001b[0m         \u001b[38;5;28;01mraise\u001b[39;00m exc\n\u001b[1;32m   1425\u001b[0m \u001b[38;5;28;01mif\u001b[39;00m inflight:\n\u001b[1;32m   1426\u001b[0m     \u001b[38;5;66;03m# if we got here means we timed out\u001b[39;00m\n\u001b[1;32m   1427\u001b[0m     \u001b[38;5;28;01mwhile\u001b[39;00m inflight:\n\u001b[1;32m   1428\u001b[0m         \u001b[38;5;66;03m# cancel all pending tasks\u001b[39;00m\n",
      "File \u001b[0;32m~/Dev/ResearchAssistant/env/lib/python3.12/site-packages/langgraph/pregel/retry.py:79\u001b[0m, in \u001b[0;36marun_with_retry\u001b[0;34m(task, retry_policy, stream)\u001b[0m\n\u001b[1;32m     77\u001b[0m         \u001b[38;5;28;01mpass\u001b[39;00m\n\u001b[1;32m     78\u001b[0m \u001b[38;5;28;01melse\u001b[39;00m:\n\u001b[0;32m---> 79\u001b[0m     \u001b[38;5;28;01mawait\u001b[39;00m task\u001b[38;5;241m.\u001b[39mproc\u001b[38;5;241m.\u001b[39mainvoke(task\u001b[38;5;241m.\u001b[39minput, task\u001b[38;5;241m.\u001b[39mconfig)\n\u001b[1;32m     80\u001b[0m \u001b[38;5;66;03m# if successful, end\u001b[39;00m\n\u001b[1;32m     81\u001b[0m \u001b[38;5;28;01mbreak\u001b[39;00m\n",
      "File \u001b[0;32m~/Dev/ResearchAssistant/env/lib/python3.12/site-packages/langchain_core/runnables/base.py:2920\u001b[0m, in \u001b[0;36mRunnableSequence.ainvoke\u001b[0;34m(self, input, config, **kwargs)\u001b[0m\n\u001b[1;32m   2918\u001b[0m     part \u001b[38;5;241m=\u001b[39m functools\u001b[38;5;241m.\u001b[39mpartial(step\u001b[38;5;241m.\u001b[39mainvoke, \u001b[38;5;28minput\u001b[39m, config)\n\u001b[1;32m   2919\u001b[0m \u001b[38;5;28;01mif\u001b[39;00m asyncio_accepts_context():\n\u001b[0;32m-> 2920\u001b[0m     \u001b[38;5;28minput\u001b[39m \u001b[38;5;241m=\u001b[39m \u001b[38;5;28;01mawait\u001b[39;00m asyncio\u001b[38;5;241m.\u001b[39mcreate_task(part(), context\u001b[38;5;241m=\u001b[39mcontext)  \u001b[38;5;66;03m# type: ignore\u001b[39;00m\n\u001b[1;32m   2921\u001b[0m \u001b[38;5;28;01melse\u001b[39;00m:\n\u001b[1;32m   2922\u001b[0m     \u001b[38;5;28minput\u001b[39m \u001b[38;5;241m=\u001b[39m \u001b[38;5;28;01mawait\u001b[39;00m asyncio\u001b[38;5;241m.\u001b[39mcreate_task(part())\n",
      "File \u001b[0;32m~/Dev/ResearchAssistant/env/lib/python3.12/site-packages/langchain_core/runnables/base.py:4504\u001b[0m, in \u001b[0;36mRunnableLambda.ainvoke\u001b[0;34m(self, input, config, **kwargs)\u001b[0m\n\u001b[1;32m   4493\u001b[0m \u001b[38;5;250m\u001b[39m\u001b[38;5;124;03m\"\"\"Invoke this Runnable asynchronously.\u001b[39;00m\n\u001b[1;32m   4494\u001b[0m \n\u001b[1;32m   4495\u001b[0m \u001b[38;5;124;03mArgs:\u001b[39;00m\n\u001b[0;32m   (...)\u001b[0m\n\u001b[1;32m   4501\u001b[0m \u001b[38;5;124;03m    The output of this Runnable.\u001b[39;00m\n\u001b[1;32m   4502\u001b[0m \u001b[38;5;124;03m\"\"\"\u001b[39;00m\n\u001b[1;32m   4503\u001b[0m the_func \u001b[38;5;241m=\u001b[39m \u001b[38;5;28mself\u001b[39m\u001b[38;5;241m.\u001b[39mafunc \u001b[38;5;28;01mif\u001b[39;00m \u001b[38;5;28mhasattr\u001b[39m(\u001b[38;5;28mself\u001b[39m, \u001b[38;5;124m\"\u001b[39m\u001b[38;5;124mafunc\u001b[39m\u001b[38;5;124m\"\u001b[39m) \u001b[38;5;28;01melse\u001b[39;00m \u001b[38;5;28mself\u001b[39m\u001b[38;5;241m.\u001b[39mfunc\n\u001b[0;32m-> 4504\u001b[0m \u001b[38;5;28;01mreturn\u001b[39;00m \u001b[38;5;28;01mawait\u001b[39;00m \u001b[38;5;28mself\u001b[39m\u001b[38;5;241m.\u001b[39m_acall_with_config(\n\u001b[1;32m   4505\u001b[0m     \u001b[38;5;28mself\u001b[39m\u001b[38;5;241m.\u001b[39m_ainvoke,\n\u001b[1;32m   4506\u001b[0m     \u001b[38;5;28minput\u001b[39m,\n\u001b[1;32m   4507\u001b[0m     \u001b[38;5;28mself\u001b[39m\u001b[38;5;241m.\u001b[39m_config(config, the_func),\n\u001b[1;32m   4508\u001b[0m     \u001b[38;5;241m*\u001b[39m\u001b[38;5;241m*\u001b[39mkwargs,\n\u001b[1;32m   4509\u001b[0m )\n",
      "File \u001b[0;32m~/Dev/ResearchAssistant/env/lib/python3.12/site-packages/langchain_core/runnables/base.py:1835\u001b[0m, in \u001b[0;36mRunnable._acall_with_config\u001b[0;34m(self, func, input, config, run_type, **kwargs)\u001b[0m\n\u001b[1;32m   1831\u001b[0m coro \u001b[38;5;241m=\u001b[39m acall_func_with_variable_args(\n\u001b[1;32m   1832\u001b[0m     func, \u001b[38;5;28minput\u001b[39m, config, run_manager, \u001b[38;5;241m*\u001b[39m\u001b[38;5;241m*\u001b[39mkwargs\n\u001b[1;32m   1833\u001b[0m )\n\u001b[1;32m   1834\u001b[0m \u001b[38;5;28;01mif\u001b[39;00m asyncio_accepts_context():\n\u001b[0;32m-> 1835\u001b[0m     output: Output \u001b[38;5;241m=\u001b[39m \u001b[38;5;28;01mawait\u001b[39;00m asyncio\u001b[38;5;241m.\u001b[39mcreate_task(coro, context\u001b[38;5;241m=\u001b[39mcontext)  \u001b[38;5;66;03m# type: ignore\u001b[39;00m\n\u001b[1;32m   1836\u001b[0m \u001b[38;5;28;01melse\u001b[39;00m:\n\u001b[1;32m   1837\u001b[0m     output \u001b[38;5;241m=\u001b[39m \u001b[38;5;28;01mawait\u001b[39;00m coro\n",
      "File \u001b[0;32m~/Dev/ResearchAssistant/env/lib/python3.12/site-packages/langchain_core/runnables/base.py:4430\u001b[0m, in \u001b[0;36mRunnableLambda._ainvoke\u001b[0;34m(self, input, run_manager, config, **kwargs)\u001b[0m\n\u001b[1;32m   4428\u001b[0m                     output \u001b[38;5;241m=\u001b[39m chunk\n\u001b[1;32m   4429\u001b[0m \u001b[38;5;28;01melse\u001b[39;00m:\n\u001b[0;32m-> 4430\u001b[0m     output \u001b[38;5;241m=\u001b[39m \u001b[38;5;28;01mawait\u001b[39;00m acall_func_with_variable_args(\n\u001b[1;32m   4431\u001b[0m         cast(Callable, afunc), \u001b[38;5;28minput\u001b[39m, config, run_manager, \u001b[38;5;241m*\u001b[39m\u001b[38;5;241m*\u001b[39mkwargs\n\u001b[1;32m   4432\u001b[0m     )\n\u001b[1;32m   4433\u001b[0m \u001b[38;5;66;03m# If the output is a Runnable, invoke it\u001b[39;00m\n\u001b[1;32m   4434\u001b[0m \u001b[38;5;28;01mif\u001b[39;00m \u001b[38;5;28misinstance\u001b[39m(output, Runnable):\n",
      "Cell \u001b[0;32mIn[24], line 11\u001b[0m, in \u001b[0;36mgen_question\u001b[0;34m(state)\u001b[0m\n\u001b[1;32m      4\u001b[0m name \u001b[38;5;241m=\u001b[39m format_name(current_perspective\u001b[38;5;241m.\u001b[39mname)\n\u001b[1;32m      5\u001b[0m question_chain \u001b[38;5;241m=\u001b[39m (\n\u001b[1;32m      6\u001b[0m     RunnableLambda(set_current_perspective)\u001b[38;5;241m.\u001b[39mbind(name\u001b[38;5;241m=\u001b[39mname)\n\u001b[1;32m      7\u001b[0m     \u001b[38;5;241m|\u001b[39m gen_question_prompt\u001b[38;5;241m.\u001b[39mpartial(perspective\u001b[38;5;241m=\u001b[39mcurrent_perspective\u001b[38;5;241m.\u001b[39mas_str)\n\u001b[1;32m      8\u001b[0m     \u001b[38;5;241m|\u001b[39m fast_llm\n\u001b[1;32m      9\u001b[0m     \u001b[38;5;241m|\u001b[39m RunnableLambda(label_message_with_editor_name)\u001b[38;5;241m.\u001b[39mbind(name\u001b[38;5;241m=\u001b[39mname)\n\u001b[1;32m     10\u001b[0m )\n\u001b[0;32m---> 11\u001b[0m question \u001b[38;5;241m=\u001b[39m \u001b[38;5;28;01mawait\u001b[39;00m question_chain\u001b[38;5;241m.\u001b[39mainvoke(state)\n\u001b[1;32m     12\u001b[0m \u001b[38;5;66;03m# state = {**state, \"messages\": state[\"messages\"] + [question]}\u001b[39;00m\n\u001b[1;32m     13\u001b[0m \u001b[38;5;28;01mreturn\u001b[39;00m {\u001b[38;5;124m\"\u001b[39m\u001b[38;5;124mmessages\u001b[39m\u001b[38;5;124m\"\u001b[39m: [question]}\n",
      "File \u001b[0;32m~/Dev/ResearchAssistant/env/lib/python3.12/site-packages/langchain_core/runnables/base.py:2920\u001b[0m, in \u001b[0;36mRunnableSequence.ainvoke\u001b[0;34m(self, input, config, **kwargs)\u001b[0m\n\u001b[1;32m   2918\u001b[0m     part \u001b[38;5;241m=\u001b[39m functools\u001b[38;5;241m.\u001b[39mpartial(step\u001b[38;5;241m.\u001b[39mainvoke, \u001b[38;5;28minput\u001b[39m, config)\n\u001b[1;32m   2919\u001b[0m \u001b[38;5;28;01mif\u001b[39;00m asyncio_accepts_context():\n\u001b[0;32m-> 2920\u001b[0m     \u001b[38;5;28minput\u001b[39m \u001b[38;5;241m=\u001b[39m \u001b[38;5;28;01mawait\u001b[39;00m asyncio\u001b[38;5;241m.\u001b[39mcreate_task(part(), context\u001b[38;5;241m=\u001b[39mcontext)  \u001b[38;5;66;03m# type: ignore\u001b[39;00m\n\u001b[1;32m   2921\u001b[0m \u001b[38;5;28;01melse\u001b[39;00m:\n\u001b[1;32m   2922\u001b[0m     \u001b[38;5;28minput\u001b[39m \u001b[38;5;241m=\u001b[39m \u001b[38;5;28;01mawait\u001b[39;00m asyncio\u001b[38;5;241m.\u001b[39mcreate_task(part())\n",
      "File \u001b[0;32m~/Dev/ResearchAssistant/env/lib/python3.12/site-packages/langchain_core/language_models/chat_models.py:297\u001b[0m, in \u001b[0;36mBaseChatModel.ainvoke\u001b[0;34m(self, input, config, stop, **kwargs)\u001b[0m\n\u001b[1;32m    288\u001b[0m \u001b[38;5;28;01masync\u001b[39;00m \u001b[38;5;28;01mdef\u001b[39;00m \u001b[38;5;21mainvoke\u001b[39m(\n\u001b[1;32m    289\u001b[0m     \u001b[38;5;28mself\u001b[39m,\n\u001b[1;32m    290\u001b[0m     \u001b[38;5;28minput\u001b[39m: LanguageModelInput,\n\u001b[0;32m   (...)\u001b[0m\n\u001b[1;32m    294\u001b[0m     \u001b[38;5;241m*\u001b[39m\u001b[38;5;241m*\u001b[39mkwargs: Any,\n\u001b[1;32m    295\u001b[0m ) \u001b[38;5;241m-\u001b[39m\u001b[38;5;241m>\u001b[39m BaseMessage:\n\u001b[1;32m    296\u001b[0m     config \u001b[38;5;241m=\u001b[39m ensure_config(config)\n\u001b[0;32m--> 297\u001b[0m     llm_result \u001b[38;5;241m=\u001b[39m \u001b[38;5;28;01mawait\u001b[39;00m \u001b[38;5;28mself\u001b[39m\u001b[38;5;241m.\u001b[39magenerate_prompt(\n\u001b[1;32m    298\u001b[0m         [\u001b[38;5;28mself\u001b[39m\u001b[38;5;241m.\u001b[39m_convert_input(\u001b[38;5;28minput\u001b[39m)],\n\u001b[1;32m    299\u001b[0m         stop\u001b[38;5;241m=\u001b[39mstop,\n\u001b[1;32m    300\u001b[0m         callbacks\u001b[38;5;241m=\u001b[39mconfig\u001b[38;5;241m.\u001b[39mget(\u001b[38;5;124m\"\u001b[39m\u001b[38;5;124mcallbacks\u001b[39m\u001b[38;5;124m\"\u001b[39m),\n\u001b[1;32m    301\u001b[0m         tags\u001b[38;5;241m=\u001b[39mconfig\u001b[38;5;241m.\u001b[39mget(\u001b[38;5;124m\"\u001b[39m\u001b[38;5;124mtags\u001b[39m\u001b[38;5;124m\"\u001b[39m),\n\u001b[1;32m    302\u001b[0m         metadata\u001b[38;5;241m=\u001b[39mconfig\u001b[38;5;241m.\u001b[39mget(\u001b[38;5;124m\"\u001b[39m\u001b[38;5;124mmetadata\u001b[39m\u001b[38;5;124m\"\u001b[39m),\n\u001b[1;32m    303\u001b[0m         run_name\u001b[38;5;241m=\u001b[39mconfig\u001b[38;5;241m.\u001b[39mget(\u001b[38;5;124m\"\u001b[39m\u001b[38;5;124mrun_name\u001b[39m\u001b[38;5;124m\"\u001b[39m),\n\u001b[1;32m    304\u001b[0m         run_id\u001b[38;5;241m=\u001b[39mconfig\u001b[38;5;241m.\u001b[39mpop(\u001b[38;5;124m\"\u001b[39m\u001b[38;5;124mrun_id\u001b[39m\u001b[38;5;124m\"\u001b[39m, \u001b[38;5;28;01mNone\u001b[39;00m),\n\u001b[1;32m    305\u001b[0m         \u001b[38;5;241m*\u001b[39m\u001b[38;5;241m*\u001b[39mkwargs,\n\u001b[1;32m    306\u001b[0m     )\n\u001b[1;32m    307\u001b[0m     \u001b[38;5;28;01mreturn\u001b[39;00m cast(ChatGeneration, llm_result\u001b[38;5;241m.\u001b[39mgenerations[\u001b[38;5;241m0\u001b[39m][\u001b[38;5;241m0\u001b[39m])\u001b[38;5;241m.\u001b[39mmessage\n",
      "File \u001b[0;32m~/Dev/ResearchAssistant/env/lib/python3.12/site-packages/langchain_core/language_models/chat_models.py:786\u001b[0m, in \u001b[0;36mBaseChatModel.agenerate_prompt\u001b[0;34m(self, prompts, stop, callbacks, **kwargs)\u001b[0m\n\u001b[1;32m    778\u001b[0m \u001b[38;5;28;01masync\u001b[39;00m \u001b[38;5;28;01mdef\u001b[39;00m \u001b[38;5;21magenerate_prompt\u001b[39m(\n\u001b[1;32m    779\u001b[0m     \u001b[38;5;28mself\u001b[39m,\n\u001b[1;32m    780\u001b[0m     prompts: List[PromptValue],\n\u001b[0;32m   (...)\u001b[0m\n\u001b[1;32m    783\u001b[0m     \u001b[38;5;241m*\u001b[39m\u001b[38;5;241m*\u001b[39mkwargs: Any,\n\u001b[1;32m    784\u001b[0m ) \u001b[38;5;241m-\u001b[39m\u001b[38;5;241m>\u001b[39m LLMResult:\n\u001b[1;32m    785\u001b[0m     prompt_messages \u001b[38;5;241m=\u001b[39m [p\u001b[38;5;241m.\u001b[39mto_messages() \u001b[38;5;28;01mfor\u001b[39;00m p \u001b[38;5;129;01min\u001b[39;00m prompts]\n\u001b[0;32m--> 786\u001b[0m     \u001b[38;5;28;01mreturn\u001b[39;00m \u001b[38;5;28;01mawait\u001b[39;00m \u001b[38;5;28mself\u001b[39m\u001b[38;5;241m.\u001b[39magenerate(\n\u001b[1;32m    787\u001b[0m         prompt_messages, stop\u001b[38;5;241m=\u001b[39mstop, callbacks\u001b[38;5;241m=\u001b[39mcallbacks, \u001b[38;5;241m*\u001b[39m\u001b[38;5;241m*\u001b[39mkwargs\n\u001b[1;32m    788\u001b[0m     )\n",
      "File \u001b[0;32m~/Dev/ResearchAssistant/env/lib/python3.12/site-packages/langchain_core/language_models/chat_models.py:746\u001b[0m, in \u001b[0;36mBaseChatModel.agenerate\u001b[0;34m(self, messages, stop, callbacks, tags, metadata, run_name, run_id, **kwargs)\u001b[0m\n\u001b[1;32m    733\u001b[0m     \u001b[38;5;28;01mif\u001b[39;00m run_managers:\n\u001b[1;32m    734\u001b[0m         \u001b[38;5;28;01mawait\u001b[39;00m asyncio\u001b[38;5;241m.\u001b[39mgather(\n\u001b[1;32m    735\u001b[0m             \u001b[38;5;241m*\u001b[39m[\n\u001b[1;32m    736\u001b[0m                 run_manager\u001b[38;5;241m.\u001b[39mon_llm_end(\n\u001b[0;32m   (...)\u001b[0m\n\u001b[1;32m    744\u001b[0m             ]\n\u001b[1;32m    745\u001b[0m         )\n\u001b[0;32m--> 746\u001b[0m     \u001b[38;5;28;01mraise\u001b[39;00m exceptions[\u001b[38;5;241m0\u001b[39m]\n\u001b[1;32m    747\u001b[0m flattened_outputs \u001b[38;5;241m=\u001b[39m [\n\u001b[1;32m    748\u001b[0m     LLMResult(generations\u001b[38;5;241m=\u001b[39m[res\u001b[38;5;241m.\u001b[39mgenerations], llm_output\u001b[38;5;241m=\u001b[39mres\u001b[38;5;241m.\u001b[39mllm_output)  \u001b[38;5;66;03m# type: ignore[list-item, union-attr]\u001b[39;00m\n\u001b[1;32m    749\u001b[0m     \u001b[38;5;28;01mfor\u001b[39;00m res \u001b[38;5;129;01min\u001b[39;00m results\n\u001b[1;32m    750\u001b[0m ]\n\u001b[1;32m    751\u001b[0m llm_output \u001b[38;5;241m=\u001b[39m \u001b[38;5;28mself\u001b[39m\u001b[38;5;241m.\u001b[39m_combine_llm_outputs([res\u001b[38;5;241m.\u001b[39mllm_output \u001b[38;5;28;01mfor\u001b[39;00m res \u001b[38;5;129;01min\u001b[39;00m results])  \u001b[38;5;66;03m# type: ignore[union-attr]\u001b[39;00m\n",
      "File \u001b[0;32m~/Dev/ResearchAssistant/env/lib/python3.12/site-packages/langchain_core/language_models/chat_models.py:922\u001b[0m, in \u001b[0;36mBaseChatModel._agenerate_with_cache\u001b[0;34m(self, messages, stop, run_manager, **kwargs)\u001b[0m\n\u001b[1;32m    920\u001b[0m \u001b[38;5;28;01melse\u001b[39;00m:\n\u001b[1;32m    921\u001b[0m     \u001b[38;5;28;01mif\u001b[39;00m inspect\u001b[38;5;241m.\u001b[39msignature(\u001b[38;5;28mself\u001b[39m\u001b[38;5;241m.\u001b[39m_agenerate)\u001b[38;5;241m.\u001b[39mparameters\u001b[38;5;241m.\u001b[39mget(\u001b[38;5;124m\"\u001b[39m\u001b[38;5;124mrun_manager\u001b[39m\u001b[38;5;124m\"\u001b[39m):\n\u001b[0;32m--> 922\u001b[0m         result \u001b[38;5;241m=\u001b[39m \u001b[38;5;28;01mawait\u001b[39;00m \u001b[38;5;28mself\u001b[39m\u001b[38;5;241m.\u001b[39m_agenerate(\n\u001b[1;32m    923\u001b[0m             messages, stop\u001b[38;5;241m=\u001b[39mstop, run_manager\u001b[38;5;241m=\u001b[39mrun_manager, \u001b[38;5;241m*\u001b[39m\u001b[38;5;241m*\u001b[39mkwargs\n\u001b[1;32m    924\u001b[0m         )\n\u001b[1;32m    925\u001b[0m     \u001b[38;5;28;01melse\u001b[39;00m:\n\u001b[1;32m    926\u001b[0m         result \u001b[38;5;241m=\u001b[39m \u001b[38;5;28;01mawait\u001b[39;00m \u001b[38;5;28mself\u001b[39m\u001b[38;5;241m.\u001b[39m_agenerate(messages, stop\u001b[38;5;241m=\u001b[39mstop, \u001b[38;5;241m*\u001b[39m\u001b[38;5;241m*\u001b[39mkwargs)\n",
      "File \u001b[0;32m~/Dev/ResearchAssistant/env/lib/python3.12/site-packages/langchain_openai/chat_models/base.py:825\u001b[0m, in \u001b[0;36mBaseChatOpenAI._agenerate\u001b[0;34m(self, messages, stop, run_manager, **kwargs)\u001b[0m\n\u001b[1;32m    823\u001b[0m     generation_info \u001b[38;5;241m=\u001b[39m {\u001b[38;5;124m\"\u001b[39m\u001b[38;5;124mheaders\u001b[39m\u001b[38;5;124m\"\u001b[39m: \u001b[38;5;28mdict\u001b[39m(raw_response\u001b[38;5;241m.\u001b[39mheaders)}\n\u001b[1;32m    824\u001b[0m \u001b[38;5;28;01melse\u001b[39;00m:\n\u001b[0;32m--> 825\u001b[0m     response \u001b[38;5;241m=\u001b[39m \u001b[38;5;28;01mawait\u001b[39;00m \u001b[38;5;28mself\u001b[39m\u001b[38;5;241m.\u001b[39masync_client\u001b[38;5;241m.\u001b[39mcreate(\u001b[38;5;241m*\u001b[39m\u001b[38;5;241m*\u001b[39mpayload)\n\u001b[1;32m    826\u001b[0m \u001b[38;5;28;01mreturn\u001b[39;00m \u001b[38;5;28;01mawait\u001b[39;00m run_in_executor(\n\u001b[1;32m    827\u001b[0m     \u001b[38;5;28;01mNone\u001b[39;00m, \u001b[38;5;28mself\u001b[39m\u001b[38;5;241m.\u001b[39m_create_chat_result, response, generation_info\n\u001b[1;32m    828\u001b[0m )\n",
      "File \u001b[0;32m~/Dev/ResearchAssistant/env/lib/python3.12/site-packages/openai/resources/chat/completions.py:1339\u001b[0m, in \u001b[0;36mAsyncCompletions.create\u001b[0;34m(self, messages, model, frequency_penalty, function_call, functions, logit_bias, logprobs, max_tokens, n, parallel_tool_calls, presence_penalty, response_format, seed, service_tier, stop, stream, stream_options, temperature, tool_choice, tools, top_logprobs, top_p, user, extra_headers, extra_query, extra_body, timeout)\u001b[0m\n\u001b[1;32m   1304\u001b[0m \u001b[38;5;129m@required_args\u001b[39m([\u001b[38;5;124m\"\u001b[39m\u001b[38;5;124mmessages\u001b[39m\u001b[38;5;124m\"\u001b[39m, \u001b[38;5;124m\"\u001b[39m\u001b[38;5;124mmodel\u001b[39m\u001b[38;5;124m\"\u001b[39m], [\u001b[38;5;124m\"\u001b[39m\u001b[38;5;124mmessages\u001b[39m\u001b[38;5;124m\"\u001b[39m, \u001b[38;5;124m\"\u001b[39m\u001b[38;5;124mmodel\u001b[39m\u001b[38;5;124m\"\u001b[39m, \u001b[38;5;124m\"\u001b[39m\u001b[38;5;124mstream\u001b[39m\u001b[38;5;124m\"\u001b[39m])\n\u001b[1;32m   1305\u001b[0m \u001b[38;5;28;01masync\u001b[39;00m \u001b[38;5;28;01mdef\u001b[39;00m \u001b[38;5;21mcreate\u001b[39m(\n\u001b[1;32m   1306\u001b[0m     \u001b[38;5;28mself\u001b[39m,\n\u001b[0;32m   (...)\u001b[0m\n\u001b[1;32m   1336\u001b[0m     timeout: \u001b[38;5;28mfloat\u001b[39m \u001b[38;5;241m|\u001b[39m httpx\u001b[38;5;241m.\u001b[39mTimeout \u001b[38;5;241m|\u001b[39m \u001b[38;5;28;01mNone\u001b[39;00m \u001b[38;5;241m|\u001b[39m NotGiven \u001b[38;5;241m=\u001b[39m NOT_GIVEN,\n\u001b[1;32m   1337\u001b[0m ) \u001b[38;5;241m-\u001b[39m\u001b[38;5;241m>\u001b[39m ChatCompletion \u001b[38;5;241m|\u001b[39m AsyncStream[ChatCompletionChunk]:\n\u001b[1;32m   1338\u001b[0m     validate_response_format(response_format)\n\u001b[0;32m-> 1339\u001b[0m     \u001b[38;5;28;01mreturn\u001b[39;00m \u001b[38;5;28;01mawait\u001b[39;00m \u001b[38;5;28mself\u001b[39m\u001b[38;5;241m.\u001b[39m_post(\n\u001b[1;32m   1340\u001b[0m         \u001b[38;5;124m\"\u001b[39m\u001b[38;5;124m/chat/completions\u001b[39m\u001b[38;5;124m\"\u001b[39m,\n\u001b[1;32m   1341\u001b[0m         body\u001b[38;5;241m=\u001b[39m\u001b[38;5;28;01mawait\u001b[39;00m async_maybe_transform(\n\u001b[1;32m   1342\u001b[0m             {\n\u001b[1;32m   1343\u001b[0m                 \u001b[38;5;124m\"\u001b[39m\u001b[38;5;124mmessages\u001b[39m\u001b[38;5;124m\"\u001b[39m: messages,\n\u001b[1;32m   1344\u001b[0m                 \u001b[38;5;124m\"\u001b[39m\u001b[38;5;124mmodel\u001b[39m\u001b[38;5;124m\"\u001b[39m: model,\n\u001b[1;32m   1345\u001b[0m                 \u001b[38;5;124m\"\u001b[39m\u001b[38;5;124mfrequency_penalty\u001b[39m\u001b[38;5;124m\"\u001b[39m: frequency_penalty,\n\u001b[1;32m   1346\u001b[0m                 \u001b[38;5;124m\"\u001b[39m\u001b[38;5;124mfunction_call\u001b[39m\u001b[38;5;124m\"\u001b[39m: function_call,\n\u001b[1;32m   1347\u001b[0m                 \u001b[38;5;124m\"\u001b[39m\u001b[38;5;124mfunctions\u001b[39m\u001b[38;5;124m\"\u001b[39m: functions,\n\u001b[1;32m   1348\u001b[0m                 \u001b[38;5;124m\"\u001b[39m\u001b[38;5;124mlogit_bias\u001b[39m\u001b[38;5;124m\"\u001b[39m: logit_bias,\n\u001b[1;32m   1349\u001b[0m                 \u001b[38;5;124m\"\u001b[39m\u001b[38;5;124mlogprobs\u001b[39m\u001b[38;5;124m\"\u001b[39m: logprobs,\n\u001b[1;32m   1350\u001b[0m                 \u001b[38;5;124m\"\u001b[39m\u001b[38;5;124mmax_tokens\u001b[39m\u001b[38;5;124m\"\u001b[39m: max_tokens,\n\u001b[1;32m   1351\u001b[0m                 \u001b[38;5;124m\"\u001b[39m\u001b[38;5;124mn\u001b[39m\u001b[38;5;124m\"\u001b[39m: n,\n\u001b[1;32m   1352\u001b[0m                 \u001b[38;5;124m\"\u001b[39m\u001b[38;5;124mparallel_tool_calls\u001b[39m\u001b[38;5;124m\"\u001b[39m: parallel_tool_calls,\n\u001b[1;32m   1353\u001b[0m                 \u001b[38;5;124m\"\u001b[39m\u001b[38;5;124mpresence_penalty\u001b[39m\u001b[38;5;124m\"\u001b[39m: presence_penalty,\n\u001b[1;32m   1354\u001b[0m                 \u001b[38;5;124m\"\u001b[39m\u001b[38;5;124mresponse_format\u001b[39m\u001b[38;5;124m\"\u001b[39m: response_format,\n\u001b[1;32m   1355\u001b[0m                 \u001b[38;5;124m\"\u001b[39m\u001b[38;5;124mseed\u001b[39m\u001b[38;5;124m\"\u001b[39m: seed,\n\u001b[1;32m   1356\u001b[0m                 \u001b[38;5;124m\"\u001b[39m\u001b[38;5;124mservice_tier\u001b[39m\u001b[38;5;124m\"\u001b[39m: service_tier,\n\u001b[1;32m   1357\u001b[0m                 \u001b[38;5;124m\"\u001b[39m\u001b[38;5;124mstop\u001b[39m\u001b[38;5;124m\"\u001b[39m: stop,\n\u001b[1;32m   1358\u001b[0m                 \u001b[38;5;124m\"\u001b[39m\u001b[38;5;124mstream\u001b[39m\u001b[38;5;124m\"\u001b[39m: stream,\n\u001b[1;32m   1359\u001b[0m                 \u001b[38;5;124m\"\u001b[39m\u001b[38;5;124mstream_options\u001b[39m\u001b[38;5;124m\"\u001b[39m: stream_options,\n\u001b[1;32m   1360\u001b[0m                 \u001b[38;5;124m\"\u001b[39m\u001b[38;5;124mtemperature\u001b[39m\u001b[38;5;124m\"\u001b[39m: temperature,\n\u001b[1;32m   1361\u001b[0m                 \u001b[38;5;124m\"\u001b[39m\u001b[38;5;124mtool_choice\u001b[39m\u001b[38;5;124m\"\u001b[39m: tool_choice,\n\u001b[1;32m   1362\u001b[0m                 \u001b[38;5;124m\"\u001b[39m\u001b[38;5;124mtools\u001b[39m\u001b[38;5;124m\"\u001b[39m: tools,\n\u001b[1;32m   1363\u001b[0m                 \u001b[38;5;124m\"\u001b[39m\u001b[38;5;124mtop_logprobs\u001b[39m\u001b[38;5;124m\"\u001b[39m: top_logprobs,\n\u001b[1;32m   1364\u001b[0m                 \u001b[38;5;124m\"\u001b[39m\u001b[38;5;124mtop_p\u001b[39m\u001b[38;5;124m\"\u001b[39m: top_p,\n\u001b[1;32m   1365\u001b[0m                 \u001b[38;5;124m\"\u001b[39m\u001b[38;5;124muser\u001b[39m\u001b[38;5;124m\"\u001b[39m: user,\n\u001b[1;32m   1366\u001b[0m             },\n\u001b[1;32m   1367\u001b[0m             completion_create_params\u001b[38;5;241m.\u001b[39mCompletionCreateParams,\n\u001b[1;32m   1368\u001b[0m         ),\n\u001b[1;32m   1369\u001b[0m         options\u001b[38;5;241m=\u001b[39mmake_request_options(\n\u001b[1;32m   1370\u001b[0m             extra_headers\u001b[38;5;241m=\u001b[39mextra_headers, extra_query\u001b[38;5;241m=\u001b[39mextra_query, extra_body\u001b[38;5;241m=\u001b[39mextra_body, timeout\u001b[38;5;241m=\u001b[39mtimeout\n\u001b[1;32m   1371\u001b[0m         ),\n\u001b[1;32m   1372\u001b[0m         cast_to\u001b[38;5;241m=\u001b[39mChatCompletion,\n\u001b[1;32m   1373\u001b[0m         stream\u001b[38;5;241m=\u001b[39mstream \u001b[38;5;129;01mor\u001b[39;00m \u001b[38;5;28;01mFalse\u001b[39;00m,\n\u001b[1;32m   1374\u001b[0m         stream_cls\u001b[38;5;241m=\u001b[39mAsyncStream[ChatCompletionChunk],\n\u001b[1;32m   1375\u001b[0m     )\n",
      "File \u001b[0;32m~/Dev/ResearchAssistant/env/lib/python3.12/site-packages/openai/_base_client.py:1816\u001b[0m, in \u001b[0;36mAsyncAPIClient.post\u001b[0;34m(self, path, cast_to, body, files, options, stream, stream_cls)\u001b[0m\n\u001b[1;32m   1802\u001b[0m \u001b[38;5;28;01masync\u001b[39;00m \u001b[38;5;28;01mdef\u001b[39;00m \u001b[38;5;21mpost\u001b[39m(\n\u001b[1;32m   1803\u001b[0m     \u001b[38;5;28mself\u001b[39m,\n\u001b[1;32m   1804\u001b[0m     path: \u001b[38;5;28mstr\u001b[39m,\n\u001b[0;32m   (...)\u001b[0m\n\u001b[1;32m   1811\u001b[0m     stream_cls: \u001b[38;5;28mtype\u001b[39m[_AsyncStreamT] \u001b[38;5;241m|\u001b[39m \u001b[38;5;28;01mNone\u001b[39;00m \u001b[38;5;241m=\u001b[39m \u001b[38;5;28;01mNone\u001b[39;00m,\n\u001b[1;32m   1812\u001b[0m ) \u001b[38;5;241m-\u001b[39m\u001b[38;5;241m>\u001b[39m ResponseT \u001b[38;5;241m|\u001b[39m _AsyncStreamT:\n\u001b[1;32m   1813\u001b[0m     opts \u001b[38;5;241m=\u001b[39m FinalRequestOptions\u001b[38;5;241m.\u001b[39mconstruct(\n\u001b[1;32m   1814\u001b[0m         method\u001b[38;5;241m=\u001b[39m\u001b[38;5;124m\"\u001b[39m\u001b[38;5;124mpost\u001b[39m\u001b[38;5;124m\"\u001b[39m, url\u001b[38;5;241m=\u001b[39mpath, json_data\u001b[38;5;241m=\u001b[39mbody, files\u001b[38;5;241m=\u001b[39m\u001b[38;5;28;01mawait\u001b[39;00m async_to_httpx_files(files), \u001b[38;5;241m*\u001b[39m\u001b[38;5;241m*\u001b[39moptions\n\u001b[1;32m   1815\u001b[0m     )\n\u001b[0;32m-> 1816\u001b[0m     \u001b[38;5;28;01mreturn\u001b[39;00m \u001b[38;5;28;01mawait\u001b[39;00m \u001b[38;5;28mself\u001b[39m\u001b[38;5;241m.\u001b[39mrequest(cast_to, opts, stream\u001b[38;5;241m=\u001b[39mstream, stream_cls\u001b[38;5;241m=\u001b[39mstream_cls)\n",
      "File \u001b[0;32m~/Dev/ResearchAssistant/env/lib/python3.12/site-packages/openai/_base_client.py:1510\u001b[0m, in \u001b[0;36mAsyncAPIClient.request\u001b[0;34m(self, cast_to, options, stream, stream_cls, remaining_retries)\u001b[0m\n\u001b[1;32m   1501\u001b[0m \u001b[38;5;28;01masync\u001b[39;00m \u001b[38;5;28;01mdef\u001b[39;00m \u001b[38;5;21mrequest\u001b[39m(\n\u001b[1;32m   1502\u001b[0m     \u001b[38;5;28mself\u001b[39m,\n\u001b[1;32m   1503\u001b[0m     cast_to: Type[ResponseT],\n\u001b[0;32m   (...)\u001b[0m\n\u001b[1;32m   1508\u001b[0m     remaining_retries: Optional[\u001b[38;5;28mint\u001b[39m] \u001b[38;5;241m=\u001b[39m \u001b[38;5;28;01mNone\u001b[39;00m,\n\u001b[1;32m   1509\u001b[0m ) \u001b[38;5;241m-\u001b[39m\u001b[38;5;241m>\u001b[39m ResponseT \u001b[38;5;241m|\u001b[39m _AsyncStreamT:\n\u001b[0;32m-> 1510\u001b[0m     \u001b[38;5;28;01mreturn\u001b[39;00m \u001b[38;5;28;01mawait\u001b[39;00m \u001b[38;5;28mself\u001b[39m\u001b[38;5;241m.\u001b[39m_request(\n\u001b[1;32m   1511\u001b[0m         cast_to\u001b[38;5;241m=\u001b[39mcast_to,\n\u001b[1;32m   1512\u001b[0m         options\u001b[38;5;241m=\u001b[39moptions,\n\u001b[1;32m   1513\u001b[0m         stream\u001b[38;5;241m=\u001b[39mstream,\n\u001b[1;32m   1514\u001b[0m         stream_cls\u001b[38;5;241m=\u001b[39mstream_cls,\n\u001b[1;32m   1515\u001b[0m         remaining_retries\u001b[38;5;241m=\u001b[39mremaining_retries,\n\u001b[1;32m   1516\u001b[0m     )\n",
      "File \u001b[0;32m~/Dev/ResearchAssistant/env/lib/python3.12/site-packages/openai/_base_client.py:1596\u001b[0m, in \u001b[0;36mAsyncAPIClient._request\u001b[0;34m(self, cast_to, options, stream, stream_cls, remaining_retries)\u001b[0m\n\u001b[1;32m   1594\u001b[0m \u001b[38;5;28;01mif\u001b[39;00m retries \u001b[38;5;241m>\u001b[39m \u001b[38;5;241m0\u001b[39m \u001b[38;5;129;01mand\u001b[39;00m \u001b[38;5;28mself\u001b[39m\u001b[38;5;241m.\u001b[39m_should_retry(err\u001b[38;5;241m.\u001b[39mresponse):\n\u001b[1;32m   1595\u001b[0m     \u001b[38;5;28;01mawait\u001b[39;00m err\u001b[38;5;241m.\u001b[39mresponse\u001b[38;5;241m.\u001b[39maclose()\n\u001b[0;32m-> 1596\u001b[0m     \u001b[38;5;28;01mreturn\u001b[39;00m \u001b[38;5;28;01mawait\u001b[39;00m \u001b[38;5;28mself\u001b[39m\u001b[38;5;241m.\u001b[39m_retry_request(\n\u001b[1;32m   1597\u001b[0m         input_options,\n\u001b[1;32m   1598\u001b[0m         cast_to,\n\u001b[1;32m   1599\u001b[0m         retries,\n\u001b[1;32m   1600\u001b[0m         err\u001b[38;5;241m.\u001b[39mresponse\u001b[38;5;241m.\u001b[39mheaders,\n\u001b[1;32m   1601\u001b[0m         stream\u001b[38;5;241m=\u001b[39mstream,\n\u001b[1;32m   1602\u001b[0m         stream_cls\u001b[38;5;241m=\u001b[39mstream_cls,\n\u001b[1;32m   1603\u001b[0m     )\n\u001b[1;32m   1605\u001b[0m \u001b[38;5;66;03m# If the response is streamed then we need to explicitly read the response\u001b[39;00m\n\u001b[1;32m   1606\u001b[0m \u001b[38;5;66;03m# to completion before attempting to access the response text.\u001b[39;00m\n\u001b[1;32m   1607\u001b[0m \u001b[38;5;28;01mif\u001b[39;00m \u001b[38;5;129;01mnot\u001b[39;00m err\u001b[38;5;241m.\u001b[39mresponse\u001b[38;5;241m.\u001b[39mis_closed:\n",
      "File \u001b[0;32m~/Dev/ResearchAssistant/env/lib/python3.12/site-packages/openai/_base_client.py:1643\u001b[0m, in \u001b[0;36mAsyncAPIClient._retry_request\u001b[0;34m(self, options, cast_to, remaining_retries, response_headers, stream, stream_cls)\u001b[0m\n\u001b[1;32m   1639\u001b[0m log\u001b[38;5;241m.\u001b[39minfo(\u001b[38;5;124m\"\u001b[39m\u001b[38;5;124mRetrying request to \u001b[39m\u001b[38;5;132;01m%s\u001b[39;00m\u001b[38;5;124m in \u001b[39m\u001b[38;5;132;01m%f\u001b[39;00m\u001b[38;5;124m seconds\u001b[39m\u001b[38;5;124m\"\u001b[39m, options\u001b[38;5;241m.\u001b[39murl, timeout)\n\u001b[1;32m   1641\u001b[0m \u001b[38;5;28;01mawait\u001b[39;00m anyio\u001b[38;5;241m.\u001b[39msleep(timeout)\n\u001b[0;32m-> 1643\u001b[0m \u001b[38;5;28;01mreturn\u001b[39;00m \u001b[38;5;28;01mawait\u001b[39;00m \u001b[38;5;28mself\u001b[39m\u001b[38;5;241m.\u001b[39m_request(\n\u001b[1;32m   1644\u001b[0m     options\u001b[38;5;241m=\u001b[39moptions,\n\u001b[1;32m   1645\u001b[0m     cast_to\u001b[38;5;241m=\u001b[39mcast_to,\n\u001b[1;32m   1646\u001b[0m     remaining_retries\u001b[38;5;241m=\u001b[39mremaining,\n\u001b[1;32m   1647\u001b[0m     stream\u001b[38;5;241m=\u001b[39mstream,\n\u001b[1;32m   1648\u001b[0m     stream_cls\u001b[38;5;241m=\u001b[39mstream_cls,\n\u001b[1;32m   1649\u001b[0m )\n",
      "File \u001b[0;32m~/Dev/ResearchAssistant/env/lib/python3.12/site-packages/openai/_base_client.py:1596\u001b[0m, in \u001b[0;36mAsyncAPIClient._request\u001b[0;34m(self, cast_to, options, stream, stream_cls, remaining_retries)\u001b[0m\n\u001b[1;32m   1594\u001b[0m \u001b[38;5;28;01mif\u001b[39;00m retries \u001b[38;5;241m>\u001b[39m \u001b[38;5;241m0\u001b[39m \u001b[38;5;129;01mand\u001b[39;00m \u001b[38;5;28mself\u001b[39m\u001b[38;5;241m.\u001b[39m_should_retry(err\u001b[38;5;241m.\u001b[39mresponse):\n\u001b[1;32m   1595\u001b[0m     \u001b[38;5;28;01mawait\u001b[39;00m err\u001b[38;5;241m.\u001b[39mresponse\u001b[38;5;241m.\u001b[39maclose()\n\u001b[0;32m-> 1596\u001b[0m     \u001b[38;5;28;01mreturn\u001b[39;00m \u001b[38;5;28;01mawait\u001b[39;00m \u001b[38;5;28mself\u001b[39m\u001b[38;5;241m.\u001b[39m_retry_request(\n\u001b[1;32m   1597\u001b[0m         input_options,\n\u001b[1;32m   1598\u001b[0m         cast_to,\n\u001b[1;32m   1599\u001b[0m         retries,\n\u001b[1;32m   1600\u001b[0m         err\u001b[38;5;241m.\u001b[39mresponse\u001b[38;5;241m.\u001b[39mheaders,\n\u001b[1;32m   1601\u001b[0m         stream\u001b[38;5;241m=\u001b[39mstream,\n\u001b[1;32m   1602\u001b[0m         stream_cls\u001b[38;5;241m=\u001b[39mstream_cls,\n\u001b[1;32m   1603\u001b[0m     )\n\u001b[1;32m   1605\u001b[0m \u001b[38;5;66;03m# If the response is streamed then we need to explicitly read the response\u001b[39;00m\n\u001b[1;32m   1606\u001b[0m \u001b[38;5;66;03m# to completion before attempting to access the response text.\u001b[39;00m\n\u001b[1;32m   1607\u001b[0m \u001b[38;5;28;01mif\u001b[39;00m \u001b[38;5;129;01mnot\u001b[39;00m err\u001b[38;5;241m.\u001b[39mresponse\u001b[38;5;241m.\u001b[39mis_closed:\n",
      "File \u001b[0;32m~/Dev/ResearchAssistant/env/lib/python3.12/site-packages/openai/_base_client.py:1643\u001b[0m, in \u001b[0;36mAsyncAPIClient._retry_request\u001b[0;34m(self, options, cast_to, remaining_retries, response_headers, stream, stream_cls)\u001b[0m\n\u001b[1;32m   1639\u001b[0m log\u001b[38;5;241m.\u001b[39minfo(\u001b[38;5;124m\"\u001b[39m\u001b[38;5;124mRetrying request to \u001b[39m\u001b[38;5;132;01m%s\u001b[39;00m\u001b[38;5;124m in \u001b[39m\u001b[38;5;132;01m%f\u001b[39;00m\u001b[38;5;124m seconds\u001b[39m\u001b[38;5;124m\"\u001b[39m, options\u001b[38;5;241m.\u001b[39murl, timeout)\n\u001b[1;32m   1641\u001b[0m \u001b[38;5;28;01mawait\u001b[39;00m anyio\u001b[38;5;241m.\u001b[39msleep(timeout)\n\u001b[0;32m-> 1643\u001b[0m \u001b[38;5;28;01mreturn\u001b[39;00m \u001b[38;5;28;01mawait\u001b[39;00m \u001b[38;5;28mself\u001b[39m\u001b[38;5;241m.\u001b[39m_request(\n\u001b[1;32m   1644\u001b[0m     options\u001b[38;5;241m=\u001b[39moptions,\n\u001b[1;32m   1645\u001b[0m     cast_to\u001b[38;5;241m=\u001b[39mcast_to,\n\u001b[1;32m   1646\u001b[0m     remaining_retries\u001b[38;5;241m=\u001b[39mremaining,\n\u001b[1;32m   1647\u001b[0m     stream\u001b[38;5;241m=\u001b[39mstream,\n\u001b[1;32m   1648\u001b[0m     stream_cls\u001b[38;5;241m=\u001b[39mstream_cls,\n\u001b[1;32m   1649\u001b[0m )\n",
      "File \u001b[0;32m~/Dev/ResearchAssistant/env/lib/python3.12/site-packages/openai/_base_client.py:1611\u001b[0m, in \u001b[0;36mAsyncAPIClient._request\u001b[0;34m(self, cast_to, options, stream, stream_cls, remaining_retries)\u001b[0m\n\u001b[1;32m   1608\u001b[0m         \u001b[38;5;28;01mawait\u001b[39;00m err\u001b[38;5;241m.\u001b[39mresponse\u001b[38;5;241m.\u001b[39maread()\n\u001b[1;32m   1610\u001b[0m     log\u001b[38;5;241m.\u001b[39mdebug(\u001b[38;5;124m\"\u001b[39m\u001b[38;5;124mRe-raising status error\u001b[39m\u001b[38;5;124m\"\u001b[39m)\n\u001b[0;32m-> 1611\u001b[0m     \u001b[38;5;28;01mraise\u001b[39;00m \u001b[38;5;28mself\u001b[39m\u001b[38;5;241m.\u001b[39m_make_status_error_from_response(err\u001b[38;5;241m.\u001b[39mresponse) \u001b[38;5;28;01mfrom\u001b[39;00m \u001b[38;5;28;01mNone\u001b[39;00m\n\u001b[1;32m   1613\u001b[0m \u001b[38;5;28;01mreturn\u001b[39;00m \u001b[38;5;28;01mawait\u001b[39;00m \u001b[38;5;28mself\u001b[39m\u001b[38;5;241m.\u001b[39m_process_response(\n\u001b[1;32m   1614\u001b[0m     cast_to\u001b[38;5;241m=\u001b[39mcast_to,\n\u001b[1;32m   1615\u001b[0m     options\u001b[38;5;241m=\u001b[39moptions,\n\u001b[0;32m   (...)\u001b[0m\n\u001b[1;32m   1619\u001b[0m     retries_taken\u001b[38;5;241m=\u001b[39moptions\u001b[38;5;241m.\u001b[39mget_max_retries(\u001b[38;5;28mself\u001b[39m\u001b[38;5;241m.\u001b[39mmax_retries) \u001b[38;5;241m-\u001b[39m retries,\n\u001b[1;32m   1620\u001b[0m )\n",
      "\u001b[0;31mInternalServerError\u001b[0m: Error code: 500 - {'error': {'message': 'The model produced invalid content. Consider modifying your prompt if you are seeing this error persistently.', 'type': 'model_error', 'param': None, 'code': None}}"
     ]
    }
   ],
   "source": [
    "config = {\"configurable\": {\"thread_id\": \"my-thread\"}}\n",
    "async for step in app.astream(\n",
    "    {\n",
    "        \"topic\": example_topic,\n",
    "    },\n",
    "    config,\n",
    "):\n",
    "    name = next(iter(step))\n",
    "    print(name)\n",
    "    print(\"-- \", str(step[name]))"
   ]
  },
  {
   "cell_type": "code",
   "execution_count": null,
   "id": "24404ed0-9f10-4842-8afe-29cef6178b4a",
   "metadata": {},
   "outputs": [],
   "source": [
    "checkpoint = app.get_state(config)\n",
    "article = checkpoint.values[\"article\"]"
   ]
  }
 ],
 "metadata": {
  "kernelspec": {
   "display_name": "Python 3 (ipykernel)",
   "language": "python",
   "name": "python3"
  },
  "language_info": {
   "codemirror_mode": {
    "name": "ipython",
    "version": 3
   },
   "file_extension": ".py",
   "mimetype": "text/x-python",
   "name": "python",
   "nbconvert_exporter": "python",
   "pygments_lexer": "ipython3",
   "version": "3.12.4"
  }
 },
 "nbformat": 4,
 "nbformat_minor": 5
}
